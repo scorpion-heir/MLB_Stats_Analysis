{
 "cells": [
  {
   "cell_type": "markdown",
   "id": "supreme-marina",
   "metadata": {},
   "source": [
    "Earlier in class I gave you all examples of how to scrape data at basketball-reference.com\n",
    "\n",
    "Now, you need to analyze salary data for each player found in the list of players (pitchers) for that team. As you already know, there's no reference of a player's salary data. This is data we will have to get from somewhere else.\n",
    "\n",
    "Here is an EXAMPLE link to connect to in order to retrieve salary data: https://www.baseball-reference.com/players/a/aardsda01.shtml.\n",
    "\n",
    "Once you've completed the first task of creating a data frame, you will need to add 4 new columns to it.\n",
    "Total Salary: Calculate the cumulative salary each player has earned over their entire careers.\n",
    "Bats: Show which predominant hand the pitcher bats with\n",
    "Throws: Show which predominant hand the pitcher throw with\n",
    "Height: Show height in centimetres (No need to get fancy)\n",
    "\n",
    "You will get this by using BeautifulSoup4, yet again, to retrieve all this data for the player in question (This is another little nugget you'll have to figure out how to do). Everything you need can be found in the example link above.\n",
    "\n",
    "This process to build your dataset may take a while because it requires you to essentially connect to a new webpage each time you scrape a player's salary data. Once your data frame is complete answer the following questions:\n",
    "\n",
    "1. On average, about how much more money do right handed pitchers who bat with their left make than right handed pitchers who bat with their right?\n",
    "2. On average, about how much more money do left handed pitchers who bat with their left make than left handed pitchers who bat with their right?\n",
    "3. Compare how much money pitchers who throw with their left make than pitchers who throw with their right.\n",
    "4. What's the average height for pitchers who throw with their left hands?\n",
    "5. What's the average height for pitchers who throw with their right hands?\n",
    "6. Using some form of regression model to determine if there is any correlation between a pitcher's salary and whether they bat left/right, throw left/right and height."
   ]
  },
  {
   "cell_type": "code",
   "execution_count": 1,
   "id": "sharing-meditation",
   "metadata": {},
   "outputs": [
    {
     "name": "stdout",
     "output_type": "stream",
     "text": [
      "Requirement already satisfied: beautifulsoup4 in /Users/qiuzizhong/opt/anaconda3/envs/jan/lib/python3.9/site-packages (4.9.3)\n",
      "Requirement already satisfied: soupsieve>1.2 in /Users/qiuzizhong/opt/anaconda3/envs/jan/lib/python3.9/site-packages (from beautifulsoup4) (2.2.1)\n",
      "Requirement already satisfied: requests in /Users/qiuzizhong/opt/anaconda3/envs/jan/lib/python3.9/site-packages (2.25.1)\n",
      "Requirement already satisfied: chardet<5,>=3.0.2 in /Users/qiuzizhong/opt/anaconda3/envs/jan/lib/python3.9/site-packages (from requests) (4.0.0)\n",
      "Requirement already satisfied: certifi>=2017.4.17 in /Users/qiuzizhong/opt/anaconda3/envs/jan/lib/python3.9/site-packages (from requests) (2020.12.5)\n",
      "Requirement already satisfied: urllib3<1.27,>=1.21.1 in /Users/qiuzizhong/opt/anaconda3/envs/jan/lib/python3.9/site-packages (from requests) (1.26.3)\n",
      "Requirement already satisfied: idna<3,>=2.5 in /Users/qiuzizhong/opt/anaconda3/envs/jan/lib/python3.9/site-packages (from requests) (2.10)\n"
     ]
    }
   ],
   "source": [
    "!pip install beautifulsoup4\n",
    "!pip install requests\n",
    "from bs4 import BeautifulSoup\n",
    "import requests\n",
    "import matplotlib.pyplot as plt\n",
    "import numpy as np\n",
    "import pandas as pd\n",
    "import collections\n",
    "from bs4 import Comment\n",
    "from io import StringIO\n",
    "import sys "
   ]
  },
  {
   "cell_type": "code",
   "execution_count": 2,
   "id": "direct-curve",
   "metadata": {},
   "outputs": [],
   "source": [
    "page_nba = requests.get('https://www.baseball-reference.com/teams/BOS/2020.shtml')\n",
    "soup = BeautifulSoup(page_nba.text, 'html.parser')"
   ]
  },
  {
   "cell_type": "code",
   "execution_count": 3,
   "id": "comic-softball",
   "metadata": {},
   "outputs": [
    {
     "name": "stdout",
     "output_type": "stream",
     "text": [
      "<class 'bs4.element.NavigableString'>\n",
      "<class 'bs4.element.Doctype'>\n",
      "<class 'bs4.element.NavigableString'>\n",
      "<class 'bs4.element.Tag'>\n",
      "<class 'bs4.element.NavigableString'>\n"
     ]
    }
   ],
   "source": [
    "for i in soup.children:\n",
    "    print(type(i))\n",
    "   "
   ]
  },
  {
   "cell_type": "code",
   "execution_count": 4,
   "id": "diagnostic-spell",
   "metadata": {},
   "outputs": [
    {
     "data": {
      "text/plain": [
       "[bs4.element.NavigableString,\n",
       " bs4.element.Tag,\n",
       " bs4.element.NavigableString,\n",
       " bs4.element.Tag,\n",
       " bs4.element.NavigableString,\n",
       " bs4.element.Comment,\n",
       " bs4.element.NavigableString]"
      ]
     },
     "execution_count": 4,
     "metadata": {},
     "output_type": "execute_result"
    }
   ],
   "source": [
    "html = list(soup.children)[3]\n",
    "[type(item) for item in list(html.children)]\n",
    "\n"
   ]
  },
  {
   "cell_type": "code",
   "execution_count": 5,
   "id": "filled-newark",
   "metadata": {},
   "outputs": [
    {
     "data": {
      "text/plain": [
       "[bs4.element.NavigableString,\n",
       " bs4.element.Tag,\n",
       " bs4.element.Comment,\n",
       " bs4.element.NavigableString,\n",
       " bs4.element.Comment,\n",
       " bs4.element.NavigableString,\n",
       " bs4.element.Tag,\n",
       " bs4.element.NavigableString,\n",
       " bs4.element.Comment,\n",
       " bs4.element.NavigableString,\n",
       " bs4.element.Tag,\n",
       " bs4.element.NavigableString,\n",
       " bs4.element.Tag,\n",
       " bs4.element.NavigableString,\n",
       " bs4.element.Comment,\n",
       " bs4.element.Tag,\n",
       " bs4.element.Comment,\n",
       " bs4.element.NavigableString,\n",
       " bs4.element.Tag,\n",
       " bs4.element.NavigableString]"
      ]
     },
     "execution_count": 5,
     "metadata": {},
     "output_type": "execute_result"
    }
   ],
   "source": [
    "body = list(html.children)[3]\n",
    "[type(item) for item in list(body.children)]"
   ]
  },
  {
   "cell_type": "code",
   "execution_count": 6,
   "id": "toxic-atlantic",
   "metadata": {},
   "outputs": [
    {
     "data": {
      "text/plain": [
       "[bs4.element.NavigableString,\n",
       " bs4.element.Tag,\n",
       " bs4.element.Comment,\n",
       " bs4.element.NavigableString,\n",
       " bs4.element.Tag,\n",
       " bs4.element.NavigableString,\n",
       " bs4.element.Tag,\n",
       " bs4.element.Comment,\n",
       " bs4.element.NavigableString,\n",
       " bs4.element.Tag,\n",
       " bs4.element.Comment,\n",
       " bs4.element.NavigableString,\n",
       " bs4.element.Tag,\n",
       " bs4.element.Comment,\n",
       " bs4.element.NavigableString,\n",
       " bs4.element.Tag,\n",
       " bs4.element.Comment,\n",
       " bs4.element.NavigableString]"
      ]
     },
     "execution_count": 6,
     "metadata": {},
     "output_type": "execute_result"
    }
   ],
   "source": [
    "body2 = list(body.children)[1]\n",
    "[type(item) for item in list(body2.children)]\n"
   ]
  },
  {
   "cell_type": "code",
   "execution_count": 7,
   "id": "binding-gnome",
   "metadata": {
    "scrolled": false
   },
   "outputs": [
    {
     "data": {
      "text/plain": [
       "[bs4.element.NavigableString,\n",
       " bs4.element.Comment,\n",
       " bs4.element.NavigableString,\n",
       " bs4.element.Tag,\n",
       " bs4.element.NavigableString,\n",
       " bs4.element.Tag,\n",
       " bs4.element.NavigableString,\n",
       " bs4.element.Tag,\n",
       " bs4.element.NavigableString,\n",
       " bs4.element.Comment,\n",
       " bs4.element.NavigableString,\n",
       " bs4.element.Tag,\n",
       " bs4.element.NavigableString,\n",
       " bs4.element.Tag,\n",
       " bs4.element.NavigableString,\n",
       " bs4.element.Tag,\n",
       " bs4.element.NavigableString,\n",
       " bs4.element.Comment,\n",
       " bs4.element.NavigableString,\n",
       " bs4.element.Tag,\n",
       " bs4.element.NavigableString,\n",
       " bs4.element.Tag,\n",
       " bs4.element.NavigableString,\n",
       " bs4.element.Tag,\n",
       " bs4.element.NavigableString,\n",
       " bs4.element.Tag,\n",
       " bs4.element.NavigableString,\n",
       " bs4.element.Comment,\n",
       " bs4.element.NavigableString,\n",
       " bs4.element.Tag,\n",
       " bs4.element.NavigableString,\n",
       " bs4.element.Tag,\n",
       " bs4.element.NavigableString,\n",
       " bs4.element.Tag,\n",
       " bs4.element.NavigableString,\n",
       " bs4.element.Tag,\n",
       " bs4.element.NavigableString,\n",
       " bs4.element.Comment,\n",
       " bs4.element.NavigableString,\n",
       " bs4.element.Comment,\n",
       " bs4.element.NavigableString,\n",
       " bs4.element.Tag,\n",
       " bs4.element.NavigableString,\n",
       " bs4.element.Comment,\n",
       " bs4.element.NavigableString,\n",
       " bs4.element.Tag,\n",
       " bs4.element.NavigableString]"
      ]
     },
     "execution_count": 7,
     "metadata": {},
     "output_type": "execute_result"
    }
   ],
   "source": [
    "body3 = list(body2.children)[12]\n",
    "[type(item) for item in list(body3.children)]"
   ]
  },
  {
   "cell_type": "code",
   "execution_count": 8,
   "id": "successful-period",
   "metadata": {},
   "outputs": [
    {
     "data": {
      "text/plain": [
       "[bs4.element.NavigableString,\n",
       " bs4.element.Tag,\n",
       " bs4.element.Tag,\n",
       " bs4.element.NavigableString,\n",
       " bs4.element.Comment,\n",
       " bs4.element.NavigableString]"
      ]
     },
     "execution_count": 8,
     "metadata": {},
     "output_type": "execute_result"
    }
   ],
   "source": [
    "tbody = list(body3.children)[21]\n",
    "[type(item) for item in list(tbody.children)]"
   ]
  },
  {
   "cell_type": "code",
   "execution_count": 9,
   "id": "bridal-cotton",
   "metadata": {},
   "outputs": [
    {
     "data": {
      "text/plain": [
       "'\\n\\n<div class=\"table_container\" id=\"div_the40man\">\\n    \\n    <table class=\"sortable stats_table\" id=\"the40man\" data-cols-to-freeze=\",3\">\\n    <caption>Current 40-Man Roster</caption>\\n    \\n   <colgroup><col><col><col><col><col><col><col><col><col><col><col><col><col><col></colgroup>\\n   <thead>      \\n      <tr>\\n         <th aria-label=\" Rank This is a count of the rows from top to bottom. It is recalculated following the sorting of a column.\" data-stat=\"ranker\" scope=\"col\" class=\"tooltip ranker poptip sort_default_asc show_partial_when_sorting center\" data-tip=\"&lt;strong&gt;Rank&lt;/strong&gt;&lt;br&gt;This is a count of the rows from top to bottom.&lt;br&gt;It is recalculated following the sorting of a column.\" >Rk</th>\\n         <th aria-label=\"Uniform Number\" data-stat=\"uniform_number\" scope=\"col\" class=\" poptip center\" data-tip=\"<strong>Uniform Number</strong>\" >Uni</th>\\n         <th aria-label=\" Player Name Bold can mean player is active for this team or player has appeared in MLB * means LHP or LHB, # means switch hitter, + can mean HOFer.\" data-stat=\"player\" scope=\"col\" class=\" poptip sort_default_asc show_partial_when_sorting left\" data-tip=\"&lt;strong&gt;Player Name&lt;/strong&gt;&lt;br&gt;&lt;strong&gt;Bold&lt;/strong&gt; can mean player is active for this team&lt;br&gt;or player has appeared in MLB&lt;br&gt;* means LHP or LHB,&lt;br&gt;# means switch hitter,&lt;br&gt;+ can mean HOFer.\" >Name</th>\\n         <th aria-label=\"flag\" data-stat=\"flag\" scope=\"col\" class=\" poptip center\" ></th>\\n         <th aria-label=\"POS\" data-stat=\"POS\" scope=\"col\" class=\" poptip center\" ></th>\\n         <th aria-label=\"Is on the Active Roster\" data-stat=\"is_active\" scope=\"col\" class=\" poptip center\" data-tip=\"<strong>Is on the Active Roster</strong>\" >OnActv</th>\\n         <th aria-label=\"Is on the Injured List\" data-stat=\"is_dl\" scope=\"col\" class=\" poptip center\" data-tip=\"<strong>Is on the Injured List</strong>\" >IL</th>\\n         <th aria-label=\"Player&#x2019;s age at midnight of June 30th of that year\" data-stat=\"age\" scope=\"col\" class=\" poptip sort_default_asc show_partial_when_sorting center\" data-tip=\"Player&#x2019;s age at midnight of June 30th of that year\" >Age</th>\\n         <th aria-label=\"Batting Side B or S - Switch Hitter This is their primary designation for their career\" data-stat=\"bats\" scope=\"col\" class=\" poptip sort_default_asc show_partial_when_sorting center\" data-tip=\"Batting Side&lt;br&gt;B or S - Switch Hitter&lt;br&gt;This is their primary designation for their career\" >B</th>\\n         <th aria-label=\"Throwing Hand\" data-stat=\"throws\" scope=\"col\" class=\" poptip sort_default_asc show_partial_when_sorting center\" data-tip=\"Throwing Hand\" >T</th>\\n         <th aria-label=\" Height (ft &amp;amp; inches) \" data-stat=\"height\" scope=\"col\" class=\" poptip show_partial_when_sorting center\" data-tip=\"&lt;strong&gt;Height (ft &amp;amp; inches)&lt;/strong&gt;\" >Ht</th>\\n         <th aria-label=\" Weight in Pounds \" data-stat=\"weight\" scope=\"col\" class=\" poptip show_partial_when_sorting center\" data-tip=\"&lt;strong&gt;Weight in Pounds&lt;/strong&gt;\" >Wt</th>\\n         <th aria-label=\"Date of Birth\" data-stat=\"date_of_birth\" scope=\"col\" class=\" poptip show_partial_when_sorting center\" data-tip=\"Date of Birth\" >DoB</th>\\n         <th aria-label=\" First Year in Affiliated Baseball \" data-stat=\"first_year\" scope=\"col\" class=\" poptip center\" data-tip=\"&lt;strong&gt;First Year in Affiliated Baseball&lt;/strong&gt;\" >1stYr</th>\\n      </tr>\\n      </thead>\\n<tbody><tr ><th scope=\"row\" class=\"right \" data-stat=\"ranker\" >1</th><td class=\"right \" data-stat=\"uniform_number\" >57</td><td class=\"left \" data-append-csv=\"redirect.fcgi?player=1&amp;mlb_ID=593958\" data-stat=\"player\" csk=\"Rodriguez,Eduardo\" ><strong><a href=\"/redirect.fcgi?player=1&amp;mlb_ID=593958\">Eduardo Rodriguez</a></strong></td><td class=\"right \" data-stat=\"flag\" csk=\"VE\" ><span class=\"f-i f-ve\">ve</span> VE</td><td class=\"right \" data-stat=\"POS\" >Pitcher</td><td class=\"right \" data-stat=\"is_active\" >*</td><td class=\"right iz\" data-stat=\"is_dl\" ></td><td class=\"right \" data-stat=\"age\" >27</td><td class=\"right \" data-stat=\"bats\" >L</td><td class=\"right \" data-stat=\"throws\" >L</td><td class=\"right \" data-stat=\"height\" csk=\"74\" >6\\' 2\"</td><td class=\"right \" data-stat=\"weight\" >231</td><td class=\"right \" data-stat=\"date_of_birth\" csk=\"1993-04-07\" >Apr 7, 1993</td><td class=\"right \" data-stat=\"first_year\" >2010</td></tr>\\n<tr ><th scope=\"row\" class=\"right \" data-stat=\"ranker\" >2</th><td class=\"right iz\" data-stat=\"uniform_number\" >0</td><td class=\"left \" data-append-csv=\"redirect.fcgi?player=1&amp;mlb_ID=493603\" data-stat=\"player\" csk=\"Ottavino,Adam\" ><strong><a href=\"/redirect.fcgi?player=1&amp;mlb_ID=493603\">Adam Ottavino</a></strong></td><td class=\"right \" data-stat=\"flag\" csk=\"US\" ><span class=\"f-i f-us\">us</span> US</td><td class=\"right \" data-stat=\"POS\" >Pitcher</td><td class=\"right \" data-stat=\"is_active\" >*</td><td class=\"right iz\" data-stat=\"is_dl\" ></td><td class=\"right \" data-stat=\"age\" >34</td><td class=\"right \" data-stat=\"bats\" >S</td><td class=\"right \" data-stat=\"throws\" >R</td><td class=\"right \" data-stat=\"height\" csk=\"77\" >6\\' 5\"</td><td class=\"right \" data-stat=\"weight\" >246</td><td class=\"right \" data-stat=\"date_of_birth\" csk=\"1985-11-22\" >Nov 22, 1985</td><td class=\"right \" data-stat=\"first_year\" >2006</td></tr>\\n<tr ><th scope=\"row\" class=\"right \" data-stat=\"ranker\" >3</th><td class=\"right \" data-stat=\"uniform_number\" >54</td><td class=\"left \" data-append-csv=\"redirect.fcgi?player=1&amp;mlb_ID=527048\" data-stat=\"player\" csk=\"Perez,Martin\" ><strong><a href=\"/redirect.fcgi?player=1&amp;mlb_ID=527048\">Martin Perez</a></strong></td><td class=\"right \" data-stat=\"flag\" csk=\"VE\" ><span class=\"f-i f-ve\">ve</span> VE</td><td class=\"right \" data-stat=\"POS\" >Pitcher</td><td class=\"right \" data-stat=\"is_active\" >*</td><td class=\"right iz\" data-stat=\"is_dl\" ></td><td class=\"right \" data-stat=\"age\" >29</td><td class=\"right \" data-stat=\"bats\" >L</td><td class=\"right \" data-stat=\"throws\" >L</td><td class=\"right \" data-stat=\"height\" csk=\"72\" >6\\' 0\"</td><td class=\"right \" data-stat=\"weight\" >200</td><td class=\"right \" data-stat=\"date_of_birth\" csk=\"1991-04-04\" >Apr 4, 1991</td><td class=\"right \" data-stat=\"first_year\" >2008</td></tr>\\n<tr ><th scope=\"row\" class=\"right \" data-stat=\"ranker\" >4</th><td class=\"right \" data-stat=\"uniform_number\" >37</td><td class=\"left \" data-append-csv=\"redirect.fcgi?player=1&amp;mlb_ID=601713\" data-stat=\"player\" csk=\"Pivetta,Nick\" ><strong><a href=\"/redirect.fcgi?player=1&amp;mlb_ID=601713\">Nick Pivetta</a></strong></td><td class=\"right \" data-stat=\"flag\" csk=\"CA\" ><span class=\"f-i f-ca\">ca</span> CA</td><td class=\"right \" data-stat=\"POS\" >Pitcher</td><td class=\"right \" data-stat=\"is_active\" >*</td><td class=\"right iz\" data-stat=\"is_dl\" ></td><td class=\"right \" data-stat=\"age\" >27</td><td class=\"right \" data-stat=\"bats\" >R</td><td class=\"right \" data-stat=\"throws\" >R</td><td class=\"right \" data-stat=\"height\" csk=\"77\" >6\\' 5\"</td><td class=\"right \" data-stat=\"weight\" >214</td><td class=\"right \" data-stat=\"date_of_birth\" csk=\"1993-02-14\" >Feb 14, 1993</td><td class=\"right \" data-stat=\"first_year\" >2013</td></tr>\\n<tr ><th scope=\"row\" class=\"right \" data-stat=\"ranker\" >5</th><td class=\"right \" data-stat=\"uniform_number\" >63</td><td class=\"left \" data-append-csv=\"redirect.fcgi?player=1&amp;mlb_ID=650382\" data-stat=\"player\" csk=\"Hernandez,Darwinzon\" ><strong><a href=\"/redirect.fcgi?player=1&amp;mlb_ID=650382\">Darwinzon Hernandez</a></strong></td><td class=\"right \" data-stat=\"flag\" csk=\"VE\" ><span class=\"f-i f-ve\">ve</span> VE</td><td class=\"right \" data-stat=\"POS\" >Pitcher</td><td class=\"right \" data-stat=\"is_active\" >*</td><td class=\"right iz\" data-stat=\"is_dl\" ></td><td class=\"right \" data-stat=\"age\" >23</td><td class=\"right \" data-stat=\"bats\" >L</td><td class=\"right \" data-stat=\"throws\" >L</td><td class=\"right \" data-stat=\"height\" csk=\"74\" >6\\' 2\"</td><td class=\"right \" data-stat=\"weight\" >255</td><td class=\"right \" data-stat=\"date_of_birth\" csk=\"1996-12-17\" >Dec 17, 1996</td><td class=\"right \" data-stat=\"first_year\" >2014</td></tr>\\n<tr ><th scope=\"row\" class=\"right \" data-stat=\"ranker\" >6</th><td class=\"right \" data-stat=\"uniform_number\" >72</td><td class=\"left \" data-append-csv=\"redirect.fcgi?player=1&amp;mlb_ID=676477\" data-stat=\"player\" csk=\"Whitlock,Garrett\" ><strong><a href=\"/redirect.fcgi?player=1&amp;mlb_ID=676477\">Garrett Whitlock</a></strong></td><td class=\"right \" data-stat=\"flag\" csk=\"US\" ><span class=\"f-i f-us\">us</span> US</td><td class=\"right \" data-stat=\"POS\" >Pitcher</td><td class=\"right \" data-stat=\"is_active\" >*</td><td class=\"right iz\" data-stat=\"is_dl\" ></td><td class=\"right \" data-stat=\"age\" >24</td><td class=\"right \" data-stat=\"bats\" >R</td><td class=\"right \" data-stat=\"throws\" >R</td><td class=\"right \" data-stat=\"height\" csk=\"77\" >6\\' 5\"</td><td class=\"right \" data-stat=\"weight\" >190</td><td class=\"right \" data-stat=\"date_of_birth\" csk=\"1996-06-11\" >Jun 11, 1996</td><td class=\"right \" data-stat=\"first_year\" >2016</td></tr>\\n<tr ><th scope=\"row\" class=\"right \" data-stat=\"ranker\" >7</th><td class=\"right \" data-stat=\"uniform_number\" >17</td><td class=\"left \" data-append-csv=\"redirect.fcgi?player=1&amp;mlb_ID=543135\" data-stat=\"player\" csk=\"Eovaldi,Nathan\" ><strong><a href=\"/redirect.fcgi?player=1&amp;mlb_ID=543135\">Nathan Eovaldi</a></strong></td><td class=\"right \" data-stat=\"flag\" csk=\"US\" ><span class=\"f-i f-us\">us</span> US</td><td class=\"right \" data-stat=\"POS\" >Pitcher</td><td class=\"right \" data-stat=\"is_active\" >*</td><td class=\"right iz\" data-stat=\"is_dl\" ></td><td class=\"right \" data-stat=\"age\" >30</td><td class=\"right \" data-stat=\"bats\" >R</td><td class=\"right \" data-stat=\"throws\" >R</td><td class=\"right \" data-stat=\"height\" csk=\"74\" >6\\' 2\"</td><td class=\"right \" data-stat=\"weight\" >217</td><td class=\"right \" data-stat=\"date_of_birth\" csk=\"1990-02-13\" >Feb 13, 1990</td><td class=\"right \" data-stat=\"first_year\" >2008</td></tr>\\n<tr ><th scope=\"row\" class=\"right \" data-stat=\"ranker\" >8</th><td class=\"right \" data-stat=\"uniform_number\" >43</td><td class=\"left \" data-append-csv=\"redirect.fcgi?player=1&amp;mlb_ID=572070\" data-stat=\"player\" csk=\"Richards,Garrett\" ><strong><a href=\"/redirect.fcgi?player=1&amp;mlb_ID=572070\">Garrett Richards</a></strong></td><td class=\"right \" data-stat=\"flag\" csk=\"US\" ><span class=\"f-i f-us\">us</span> US</td><td class=\"right \" data-stat=\"POS\" >Pitcher</td><td class=\"right \" data-stat=\"is_active\" >*</td><td class=\"right iz\" data-stat=\"is_dl\" ></td><td class=\"right \" data-stat=\"age\" >32</td><td class=\"right \" data-stat=\"bats\" >R</td><td class=\"right \" data-stat=\"throws\" >R</td><td class=\"right \" data-stat=\"height\" csk=\"74\" >6\\' 2\"</td><td class=\"right \" data-stat=\"weight\" >210</td><td class=\"right \" data-stat=\"date_of_birth\" csk=\"1988-05-27\" >May 27, 1988</td><td class=\"right \" data-stat=\"first_year\" >2009</td></tr>\\n<tr ><th scope=\"row\" class=\"right \" data-stat=\"ranker\" >9</th><td class=\"right \" data-stat=\"uniform_number\" >31</td><td class=\"left \" data-append-csv=\"redirect.fcgi?player=1&amp;mlb_ID=592169\" data-stat=\"player\" csk=\"Brice,Austin\" ><strong><a href=\"/redirect.fcgi?player=1&amp;mlb_ID=592169\">Austin Brice</a></strong></td><td class=\"right \" data-stat=\"flag\" csk=\"HK\" ><span class=\"f-i f-hk\">hk</span> HK</td><td class=\"right \" data-stat=\"POS\" >Pitcher</td><td class=\"right \" data-stat=\"is_active\" >*</td><td class=\"right iz\" data-stat=\"is_dl\" ></td><td class=\"right \" data-stat=\"age\" >28</td><td class=\"right \" data-stat=\"bats\" >R</td><td class=\"right \" data-stat=\"throws\" >R</td><td class=\"right \" data-stat=\"height\" csk=\"76\" >6\\' 4\"</td><td class=\"right \" data-stat=\"weight\" >238</td><td class=\"right \" data-stat=\"date_of_birth\" csk=\"1992-06-19\" >Jun 19, 1992</td><td class=\"right \" data-stat=\"first_year\" >2010</td></tr>\\n<tr ><th scope=\"row\" class=\"right \" data-stat=\"ranker\" >10</th><td class=\"right \" data-stat=\"uniform_number\" >48</td><td class=\"left \" data-append-csv=\"redirect.fcgi?player=1&amp;mlb_ID=605155\" data-stat=\"player\" csk=\"Brewer,Colten\" ><strong><a href=\"/redirect.fcgi?player=1&amp;mlb_ID=605155\">Colten Brewer</a></strong></td><td class=\"right \" data-stat=\"flag\" csk=\"US\" ><span class=\"f-i f-us\">us</span> US</td><td class=\"right \" data-stat=\"POS\" >Pitcher</td><td class=\"right \" data-stat=\"is_active\" >*</td><td class=\"right iz\" data-stat=\"is_dl\" ></td><td class=\"right \" data-stat=\"age\" >27</td><td class=\"right \" data-stat=\"bats\" >R</td><td class=\"right \" data-stat=\"throws\" >R</td><td class=\"right \" data-stat=\"height\" csk=\"76\" >6\\' 4\"</td><td class=\"right \" data-stat=\"weight\" >222</td><td class=\"right \" data-stat=\"date_of_birth\" csk=\"1992-10-29\" >Oct 29, 1992</td><td class=\"right \" data-stat=\"first_year\" >2012</td></tr>\\n<tr ><th scope=\"row\" class=\"right \" data-stat=\"ranker\" >11</th><td class=\"right \" data-stat=\"uniform_number\" >70</td><td class=\"left \" data-append-csv=\"redirect.fcgi?player=1&amp;mlb_ID=518489\" data-stat=\"player\" csk=\"Brasier,Ryan\" ><strong><a href=\"/redirect.fcgi?player=1&amp;mlb_ID=518489\">Ryan Brasier</a></strong></td><td class=\"right \" data-stat=\"flag\" csk=\"US\" ><span class=\"f-i f-us\">us</span> US</td><td class=\"right \" data-stat=\"POS\" >Pitcher</td><td class=\"right \" data-stat=\"is_active\" >*</td><td class=\"right iz\" data-stat=\"is_dl\" ></td><td class=\"right \" data-stat=\"age\" >32</td><td class=\"right \" data-stat=\"bats\" >R</td><td class=\"right \" data-stat=\"throws\" >R</td><td class=\"right \" data-stat=\"height\" csk=\"72\" >6\\' 0\"</td><td class=\"right \" data-stat=\"weight\" >227</td><td class=\"right \" data-stat=\"date_of_birth\" csk=\"1987-08-26\" >Aug 26, 1987</td><td class=\"right \" data-stat=\"first_year\" >2007</td></tr>\\n<tr ><th scope=\"row\" class=\"right \" data-stat=\"ranker\" >12</th><td class=\"right \" data-stat=\"uniform_number\" >19</td><td class=\"left \" data-append-csv=\"redirect.fcgi?player=1&amp;mlb_ID=617228\" data-stat=\"player\" csk=\"Sawamura,Hirokazu\" ><strong><a href=\"/redirect.fcgi?player=1&amp;mlb_ID=617228\">Hirokazu Sawamura</a></strong></td><td class=\"right \" data-stat=\"flag\" csk=\"JP\" ><span class=\"f-i f-jp\">jp</span> JP</td><td class=\"right \" data-stat=\"POS\" >Pitcher</td><td class=\"right \" data-stat=\"is_active\" >*</td><td class=\"right iz\" data-stat=\"is_dl\" ></td><td class=\"right \" data-stat=\"age\" >32</td><td class=\"right \" data-stat=\"bats\" >R</td><td class=\"right \" data-stat=\"throws\" >R</td><td class=\"right \" data-stat=\"height\" csk=\"72\" >6\\' 0\"</td><td class=\"right \" data-stat=\"weight\" >212</td><td class=\"right \" data-stat=\"date_of_birth\" csk=\"1988-04-03\" >Apr 3, 1988</td><td class=\"right \" data-stat=\"first_year\" >2011</td></tr>\\n<tr ><th scope=\"row\" class=\"right \" data-stat=\"ranker\" >13</th><td class=\"right \" data-stat=\"uniform_number\" >38</td><td class=\"left \" data-append-csv=\"redirect.fcgi?player=1&amp;mlb_ID=657031\" data-stat=\"player\" csk=\"Taylor,Josh\" ><strong><a href=\"/redirect.fcgi?player=1&amp;mlb_ID=657031\">Josh Taylor</a></strong></td><td class=\"right \" data-stat=\"flag\" csk=\"US\" ><span class=\"f-i f-us\">us</span> US</td><td class=\"right \" data-stat=\"POS\" >Pitcher</td><td class=\"right \" data-stat=\"is_active\" >*</td><td class=\"right iz\" data-stat=\"is_dl\" ></td><td class=\"right \" data-stat=\"age\" >27</td><td class=\"right \" data-stat=\"bats\" >L</td><td class=\"right \" data-stat=\"throws\" >L</td><td class=\"right \" data-stat=\"height\" csk=\"77\" >6\\' 5\"</td><td class=\"right \" data-stat=\"weight\" >245</td><td class=\"right \" data-stat=\"date_of_birth\" csk=\"1993-03-02\" >Mar 2, 1993</td><td class=\"right \" data-stat=\"first_year\" >2014</td></tr>\\n<tr ><th scope=\"row\" class=\"right \" data-stat=\"ranker\" >14</th><td class=\"right \" data-stat=\"uniform_number\" >32</td><td class=\"left \" data-append-csv=\"redirect.fcgi?player=1&amp;mlb_ID=598264\" data-stat=\"player\" csk=\"Barnes,Matt\" ><strong><a href=\"/redirect.fcgi?player=1&amp;mlb_ID=598264\">Matt Barnes</a></strong></td><td class=\"right \" data-stat=\"flag\" csk=\"US\" ><span class=\"f-i f-us\">us</span> US</td><td class=\"right \" data-stat=\"POS\" >Pitcher</td><td class=\"right \" data-stat=\"is_active\" >*</td><td class=\"right iz\" data-stat=\"is_dl\" ></td><td class=\"right \" data-stat=\"age\" >30</td><td class=\"right \" data-stat=\"bats\" >R</td><td class=\"right \" data-stat=\"throws\" >R</td><td class=\"right \" data-stat=\"height\" csk=\"76\" >6\\' 4\"</td><td class=\"right \" data-stat=\"weight\" >208</td><td class=\"right \" data-stat=\"date_of_birth\" csk=\"1990-06-17\" >Jun 17, 1990</td><td class=\"right \" data-stat=\"first_year\" >2010</td></tr>\\n<tr ><th scope=\"row\" class=\"right \" data-stat=\"ranker\" >15</th><td class=\"right \" data-stat=\"uniform_number\" >71</td><td class=\"left \" data-append-csv=\"redirect.fcgi?player=1&amp;mlb_ID=570488\" data-stat=\"player\" csk=\"Valdez,Phillips\" ><strong><a href=\"/redirect.fcgi?player=1&amp;mlb_ID=570488\">Phillips Valdez</a></strong></td><td class=\"right \" data-stat=\"flag\" csk=\"DO\" ><span class=\"f-i f-do\">do</span> DO</td><td class=\"right \" data-stat=\"POS\" >Pitcher</td><td class=\"right \" data-stat=\"is_active\" >*</td><td class=\"right iz\" data-stat=\"is_dl\" ></td><td class=\"right \" data-stat=\"age\" >28</td><td class=\"right \" data-stat=\"bats\" >R</td><td class=\"right \" data-stat=\"throws\" >R</td><td class=\"right \" data-stat=\"height\" csk=\"74\" >6\\' 2\"</td><td class=\"right \" data-stat=\"weight\" >160</td><td class=\"right \" data-stat=\"date_of_birth\" csk=\"1991-11-16\" >Nov 16, 1991</td><td class=\"right \" data-stat=\"first_year\" >2009</td></tr>\\n<tr ><th scope=\"row\" class=\"right \" data-stat=\"ranker\" >16</th><td class=\"right \" data-stat=\"uniform_number\" >35</td><td class=\"left \" data-append-csv=\"redirect.fcgi?player=1&amp;mlb_ID=542882\" data-stat=\"player\" csk=\"Andriese,Matt\" ><strong><a href=\"/redirect.fcgi?player=1&amp;mlb_ID=542882\">Matt Andriese</a></strong></td><td class=\"right \" data-stat=\"flag\" csk=\"US\" ><span class=\"f-i f-us\">us</span> US</td><td class=\"right \" data-stat=\"POS\" >Pitcher</td><td class=\"right \" data-stat=\"is_active\" >*</td><td class=\"right iz\" data-stat=\"is_dl\" ></td><td class=\"right \" data-stat=\"age\" >30</td><td class=\"right \" data-stat=\"bats\" >R</td><td class=\"right \" data-stat=\"throws\" >R</td><td class=\"right \" data-stat=\"height\" csk=\"74\" >6\\' 2\"</td><td class=\"right \" data-stat=\"weight\" >215</td><td class=\"right \" data-stat=\"date_of_birth\" csk=\"1989-08-28\" >Aug 28, 1989</td><td class=\"right \" data-stat=\"first_year\" >2010</td></tr>\\n<tr ><th scope=\"row\" class=\"right \" data-stat=\"ranker\" >17</th><td class=\"right \" data-stat=\"uniform_number\" >99</td><td class=\"left \" data-append-csv=\"redirect.fcgi?player=1&amp;mlb_ID=657077\" data-stat=\"player\" csk=\"Verdugo,Alex\" ><strong><a href=\"/redirect.fcgi?player=1&amp;mlb_ID=657077\">Alex Verdugo</a></strong></td><td class=\"right \" data-stat=\"flag\" csk=\"US\" ><span class=\"f-i f-us\">us</span> US</td><td class=\"right \" data-stat=\"POS\" >Position</td><td class=\"right \" data-stat=\"is_active\" >*</td><td class=\"right iz\" data-stat=\"is_dl\" ></td><td class=\"right \" data-stat=\"age\" >24</td><td class=\"right \" data-stat=\"bats\" >L</td><td class=\"right \" data-stat=\"throws\" >L</td><td class=\"right \" data-stat=\"height\" csk=\"72\" >6\\' 0\"</td><td class=\"right \" data-stat=\"weight\" >192</td><td class=\"right \" data-stat=\"date_of_birth\" csk=\"1996-05-15\" >May 15, 1996</td><td class=\"right \" data-stat=\"first_year\" >2014</td></tr>\\n<tr ><th scope=\"row\" class=\"right \" data-stat=\"ranker\" >18</th><td class=\"right \" data-stat=\"uniform_number\" >7</td><td class=\"left \" data-append-csv=\"redirect.fcgi?player=1&amp;mlb_ID=543877\" data-stat=\"player\" csk=\"Vazquez,Christian\" ><strong><a href=\"/redirect.fcgi?player=1&amp;mlb_ID=543877\">Christian Vazquez</a></strong></td><td class=\"right \" data-stat=\"flag\" csk=\"PR\" ><span class=\"f-i f-pr\">pr</span> PR</td><td class=\"right \" data-stat=\"POS\" >Position</td><td class=\"right \" data-stat=\"is_active\" >*</td><td class=\"right iz\" data-stat=\"is_dl\" ></td><td class=\"right \" data-stat=\"age\" >29</td><td class=\"right \" data-stat=\"bats\" >R</td><td class=\"right \" data-stat=\"throws\" >R</td><td class=\"right \" data-stat=\"height\" csk=\"69\" >5\\' 9\"</td><td class=\"right \" data-stat=\"weight\" >205</td><td class=\"right \" data-stat=\"date_of_birth\" csk=\"1990-08-21\" >Aug 21, 1990</td><td class=\"right \" data-stat=\"first_year\" >2008</td></tr>\\n<tr ><th scope=\"row\" class=\"right \" data-stat=\"ranker\" >19</th><td class=\"right \" data-stat=\"uniform_number\" >10</td><td class=\"left \" data-append-csv=\"redirect.fcgi?player=1&amp;mlb_ID=592669\" data-stat=\"player\" csk=\"Renfroe,Hunter\" ><strong><a href=\"/redirect.fcgi?player=1&amp;mlb_ID=592669\">Hunter Renfroe</a></strong></td><td class=\"right \" data-stat=\"flag\" csk=\"US\" ><span class=\"f-i f-us\">us</span> US</td><td class=\"right \" data-stat=\"POS\" >Position</td><td class=\"right \" data-stat=\"is_active\" >*</td><td class=\"right iz\" data-stat=\"is_dl\" ></td><td class=\"right \" data-stat=\"age\" >28</td><td class=\"right \" data-stat=\"bats\" >R</td><td class=\"right \" data-stat=\"throws\" >R</td><td class=\"right \" data-stat=\"height\" csk=\"73\" >6\\' 1\"</td><td class=\"right \" data-stat=\"weight\" >230</td><td class=\"right \" data-stat=\"date_of_birth\" csk=\"1992-01-28\" >Jan 28, 1992</td><td class=\"right \" data-stat=\"first_year\" >2011</td></tr>\\n<tr ><th scope=\"row\" class=\"right \" data-stat=\"ranker\" >20</th><td class=\"right \" data-stat=\"uniform_number\" >25</td><td class=\"left \" data-append-csv=\"redirect.fcgi?player=1&amp;mlb_ID=608700\" data-stat=\"player\" csk=\"Plawecki,Kevin\" ><strong><a href=\"/redirect.fcgi?player=1&amp;mlb_ID=608700\">Kevin Plawecki</a></strong></td><td class=\"right \" data-stat=\"flag\" csk=\"US\" ><span class=\"f-i f-us\">us</span> US</td><td class=\"right \" data-stat=\"POS\" >Position</td><td class=\"right \" data-stat=\"is_active\" >*</td><td class=\"right iz\" data-stat=\"is_dl\" ></td><td class=\"right \" data-stat=\"age\" >29</td><td class=\"right \" data-stat=\"bats\" >R</td><td class=\"right \" data-stat=\"throws\" >R</td><td class=\"right \" data-stat=\"height\" csk=\"74\" >6\\' 2\"</td><td class=\"right \" data-stat=\"weight\" >208</td><td class=\"right \" data-stat=\"date_of_birth\" csk=\"1991-02-26\" >Feb 26, 1991</td><td class=\"right \" data-stat=\"first_year\" >2011</td></tr>\\n<tr ><th scope=\"row\" class=\"right \" data-stat=\"ranker\" >21</th><td class=\"right \" data-stat=\"uniform_number\" >28</td><td class=\"left \" data-append-csv=\"redirect.fcgi?player=1&amp;mlb_ID=502110\" data-stat=\"player\" csk=\"Martinez,J.D.\" ><strong><a href=\"/redirect.fcgi?player=1&amp;mlb_ID=502110\">J.D. Martinez</a></strong></td><td class=\"right \" data-stat=\"flag\" csk=\"US\" ><span class=\"f-i f-us\">us</span> US</td><td class=\"right \" data-stat=\"POS\" >Position</td><td class=\"right \" data-stat=\"is_active\" >*</td><td class=\"right iz\" data-stat=\"is_dl\" ></td><td class=\"right \" data-stat=\"age\" >32</td><td class=\"right \" data-stat=\"bats\" >R</td><td class=\"right \" data-stat=\"throws\" >R</td><td class=\"right \" data-stat=\"height\" csk=\"75\" >6\\' 3\"</td><td class=\"right \" data-stat=\"weight\" >230</td><td class=\"right \" data-stat=\"date_of_birth\" csk=\"1987-08-21\" >Aug 21, 1987</td><td class=\"right \" data-stat=\"first_year\" >2009</td></tr>\\n<tr ><th scope=\"row\" class=\"right \" data-stat=\"ranker\" >22</th><td class=\"right \" data-stat=\"uniform_number\" >39</td><td class=\"left \" data-append-csv=\"redirect.fcgi?player=1&amp;mlb_ID=624414\" data-stat=\"player\" csk=\"Arroyo,Christian\" ><strong><a href=\"/redirect.fcgi?player=1&amp;mlb_ID=624414\">Christian Arroyo</a></strong></td><td class=\"right \" data-stat=\"flag\" csk=\"US\" ><span class=\"f-i f-us\">us</span> US</td><td class=\"right \" data-stat=\"POS\" >Position</td><td class=\"right \" data-stat=\"is_active\" >*</td><td class=\"right iz\" data-stat=\"is_dl\" ></td><td class=\"right \" data-stat=\"age\" >25</td><td class=\"right \" data-stat=\"bats\" >R</td><td class=\"right \" data-stat=\"throws\" >R</td><td class=\"right \" data-stat=\"height\" csk=\"73\" >6\\' 1\"</td><td class=\"right \" data-stat=\"weight\" >210</td><td class=\"right \" data-stat=\"date_of_birth\" csk=\"1995-05-30\" >May 30, 1995</td><td class=\"right \" data-stat=\"first_year\" >2013</td></tr>\\n<tr ><th scope=\"row\" class=\"right \" data-stat=\"ranker\" >23</th><td class=\"right \" data-stat=\"uniform_number\" >5</td><td class=\"left \" data-append-csv=\"redirect.fcgi?player=1&amp;mlb_ID=571771\" data-stat=\"player\" csk=\"Hernandez,Enrique\" ><strong><a href=\"/redirect.fcgi?player=1&amp;mlb_ID=571771\">Enrique Hernandez</a></strong></td><td class=\"right \" data-stat=\"flag\" csk=\"PR\" ><span class=\"f-i f-pr\">pr</span> PR</td><td class=\"right \" data-stat=\"POS\" >Position</td><td class=\"right \" data-stat=\"is_active\" >*</td><td class=\"right iz\" data-stat=\"is_dl\" ></td><td class=\"right \" data-stat=\"age\" >28</td><td class=\"right \" data-stat=\"bats\" >R</td><td class=\"right \" data-stat=\"throws\" >R</td><td class=\"right \" data-stat=\"height\" csk=\"71\" >5\\' 11\"</td><td class=\"right \" data-stat=\"weight\" >190</td><td class=\"right \" data-stat=\"date_of_birth\" csk=\"1991-08-24\" >Aug 24, 1991</td><td class=\"right \" data-stat=\"first_year\" >2009</td></tr>\\n<tr ><th scope=\"row\" class=\"right \" data-stat=\"ranker\" >24</th><td class=\"right \" data-stat=\"uniform_number\" >12</td><td class=\"left \" data-append-csv=\"redirect.fcgi?player=1&amp;mlb_ID=503556\" data-stat=\"player\" csk=\"Gonzalez,Marwin\" ><strong><a href=\"/redirect.fcgi?player=1&amp;mlb_ID=503556\">Marwin Gonzalez</a></strong></td><td class=\"right \" data-stat=\"flag\" csk=\"VE\" ><span class=\"f-i f-ve\">ve</span> VE</td><td class=\"right \" data-stat=\"POS\" >Position</td><td class=\"right \" data-stat=\"is_active\" >*</td><td class=\"right iz\" data-stat=\"is_dl\" ></td><td class=\"right \" data-stat=\"age\" >31</td><td class=\"right \" data-stat=\"bats\" >S</td><td class=\"right \" data-stat=\"throws\" >R</td><td class=\"right \" data-stat=\"height\" csk=\"73\" >6\\' 1\"</td><td class=\"right \" data-stat=\"weight\" >205</td><td class=\"right \" data-stat=\"date_of_birth\" csk=\"1989-03-14\" >Mar 14, 1989</td><td class=\"right \" data-stat=\"first_year\" >2006</td></tr>\\n<tr ><th scope=\"row\" class=\"right \" data-stat=\"ranker\" >25</th><td class=\"right \" data-stat=\"uniform_number\" >11</td><td class=\"left \" data-append-csv=\"redirect.fcgi?player=1&amp;mlb_ID=646240\" data-stat=\"player\" csk=\"Devers,Rafael\" ><strong><a href=\"/redirect.fcgi?player=1&amp;mlb_ID=646240\">Rafael Devers</a></strong></td><td class=\"right \" data-stat=\"flag\" csk=\"DO\" ><span class=\"f-i f-do\">do</span> DO</td><td class=\"right \" data-stat=\"POS\" >Position</td><td class=\"right \" data-stat=\"is_active\" >*</td><td class=\"right iz\" data-stat=\"is_dl\" ></td><td class=\"right \" data-stat=\"age\" >23</td><td class=\"right \" data-stat=\"bats\" >L</td><td class=\"right \" data-stat=\"throws\" >R</td><td class=\"right \" data-stat=\"height\" csk=\"72\" >6\\' 0\"</td><td class=\"right \" data-stat=\"weight\" >240</td><td class=\"right \" data-stat=\"date_of_birth\" csk=\"1996-10-24\" >Oct 24, 1996</td><td class=\"right \" data-stat=\"first_year\" >2014</td></tr>\\n<tr ><th scope=\"row\" class=\"right \" data-stat=\"ranker\" >26</th><td class=\"right \" data-stat=\"uniform_number\" >29</td><td class=\"left \" data-append-csv=\"redirect.fcgi?player=1&amp;mlb_ID=666915\" data-stat=\"player\" csk=\"Dalbec,Bobby\" ><strong><a href=\"/redirect.fcgi?player=1&amp;mlb_ID=666915\">Bobby Dalbec</a></strong></td><td class=\"right \" data-stat=\"flag\" csk=\"US\" ><span class=\"f-i f-us\">us</span> US</td><td class=\"right \" data-stat=\"POS\" >Position</td><td class=\"right \" data-stat=\"is_active\" >*</td><td class=\"right iz\" data-stat=\"is_dl\" ></td><td class=\"right \" data-stat=\"age\" >25</td><td class=\"right \" data-stat=\"bats\" >R</td><td class=\"right \" data-stat=\"throws\" >R</td><td class=\"right \" data-stat=\"height\" csk=\"76\" >6\\' 4\"</td><td class=\"right \" data-stat=\"weight\" >227</td><td class=\"right \" data-stat=\"date_of_birth\" csk=\"1995-06-29\" >Jun 29, 1995</td><td class=\"right \" data-stat=\"first_year\" >2014</td></tr>\\n<tr ><th scope=\"row\" class=\"right \" data-stat=\"ranker\" >27</th><td class=\"right \" data-stat=\"uniform_number\" >23</td><td class=\"left \" data-append-csv=\"redirect.fcgi?player=1&amp;mlb_ID=656308\" data-stat=\"player\" csk=\"Chavis,Michael\" ><strong><a href=\"/redirect.fcgi?player=1&amp;mlb_ID=656308\">Michael Chavis</a></strong></td><td class=\"right \" data-stat=\"flag\" csk=\"US\" ><span class=\"f-i f-us\">us</span> US</td><td class=\"right \" data-stat=\"POS\" >Position</td><td class=\"right \" data-stat=\"is_active\" >*</td><td class=\"right iz\" data-stat=\"is_dl\" ></td><td class=\"right \" data-stat=\"age\" >24</td><td class=\"right \" data-stat=\"bats\" >R</td><td class=\"right \" data-stat=\"throws\" >R</td><td class=\"right \" data-stat=\"height\" csk=\"70\" >5\\' 10\"</td><td class=\"right \" data-stat=\"weight\" >210</td><td class=\"right \" data-stat=\"date_of_birth\" csk=\"1995-08-11\" >Aug 11, 1995</td><td class=\"right \" data-stat=\"first_year\" >2014</td></tr>\\n<tr ><th scope=\"row\" class=\"right \" data-stat=\"ranker\" >28</th><td class=\"right \" data-stat=\"uniform_number\" >2</td><td class=\"left \" data-append-csv=\"redirect.fcgi?player=1&amp;mlb_ID=593428\" data-stat=\"player\" csk=\"Bogaerts,Xander\" ><strong><a href=\"/redirect.fcgi?player=1&amp;mlb_ID=593428\">Xander Bogaerts</a></strong></td><td class=\"right \" data-stat=\"flag\" csk=\"AW\" ><span class=\"f-i f-aw\">aw</span> AW</td><td class=\"right \" data-stat=\"POS\" >Position</td><td class=\"right \" data-stat=\"is_active\" >*</td><td class=\"right iz\" data-stat=\"is_dl\" ></td><td class=\"right \" data-stat=\"age\" >27</td><td class=\"right \" data-stat=\"bats\" >R</td><td class=\"right \" data-stat=\"throws\" >R</td><td class=\"right \" data-stat=\"height\" csk=\"74\" >6\\' 2\"</td><td class=\"right \" data-stat=\"weight\" >218</td><td class=\"right \" data-stat=\"date_of_birth\" csk=\"1992-10-01\" >Oct 1, 1992</td><td class=\"right \" data-stat=\"first_year\" >2010</td></tr>\\n<tr ><th scope=\"row\" class=\"right \" data-stat=\"ranker\" >29</th><td class=\"right \" data-stat=\"uniform_number\" >16</td><td class=\"left \" data-append-csv=\"redirect.fcgi?player=1&amp;mlb_ID=614173\" data-stat=\"player\" csk=\"Cordero,Franchy\" ><a href=\"/redirect.fcgi?player=1&amp;mlb_ID=614173\">Franchy Cordero</a></td><td class=\"right \" data-stat=\"flag\" csk=\"DO\" ><span class=\"f-i f-do\">do</span> DO</td><td class=\"right \" data-stat=\"POS\" >Position</td><td class=\"right iz\" data-stat=\"is_active\" ></td><td class=\"right \" data-stat=\"is_dl\" >10-day</td><td class=\"right \" data-stat=\"age\" >25</td><td class=\"right \" data-stat=\"bats\" >L</td><td class=\"right \" data-stat=\"throws\" >R</td><td class=\"right \" data-stat=\"height\" csk=\"75\" >6\\' 3\"</td><td class=\"right \" data-stat=\"weight\" >226</td><td class=\"right \" data-stat=\"date_of_birth\" csk=\"1994-09-02\" >Sep 2, 1994</td><td class=\"right \" data-stat=\"first_year\" >2012</td></tr>\\n<tr ><th scope=\"row\" class=\"right \" data-stat=\"ranker\" >30</th><td class=\"right \" data-stat=\"uniform_number\" >79</td><td class=\"left \" data-append-csv=\"redirect.fcgi?player=1&amp;mlb_ID=667356\" data-stat=\"player\" csk=\"Mata,Bryan\" ><a href=\"/redirect.fcgi?player=1&amp;mlb_ID=667356\">Bryan Mata</a></td><td class=\"right \" data-stat=\"flag\" csk=\"VE\" ><span class=\"f-i f-ve\">ve</span> VE</td><td class=\"right \" data-stat=\"POS\" >Pitcher</td><td class=\"right iz\" data-stat=\"is_active\" ></td><td class=\"right iz\" data-stat=\"is_dl\" ></td><td class=\"right \" data-stat=\"age\" >21</td><td class=\"right \" data-stat=\"bats\" >R</td><td class=\"right \" data-stat=\"throws\" >R</td><td class=\"right \" data-stat=\"height\" csk=\"75\" >6\\' 3\"</td><td class=\"right \" data-stat=\"weight\" >238</td><td class=\"right \" data-stat=\"date_of_birth\" csk=\"1999-05-03\" >May 3, 1999</td><td class=\"right \" data-stat=\"first_year\" >2016</td></tr>\\n<tr ><th scope=\"row\" class=\"right \" data-stat=\"ranker\" >31</th><td class=\"right \" data-stat=\"uniform_number\" >83</td><td class=\"left \" data-append-csv=\"redirect.fcgi?player=1&amp;mlb_ID=660825\" data-stat=\"player\" csk=\"Bazardo,Eduard\" ><a href=\"/redirect.fcgi?player=1&amp;mlb_ID=660825\">Eduard Bazardo</a></td><td class=\"right \" data-stat=\"flag\" csk=\"VE\" ><span class=\"f-i f-ve\">ve</span> VE</td><td class=\"right \" data-stat=\"POS\" >Pitcher</td><td class=\"right iz\" data-stat=\"is_active\" ></td><td class=\"right iz\" data-stat=\"is_dl\" ></td><td class=\"right \" data-stat=\"age\" >24</td><td class=\"right \" data-stat=\"bats\" >R</td><td class=\"right \" data-stat=\"throws\" >R</td><td class=\"right \" data-stat=\"height\" csk=\"72\" >6\\' 0\"</td><td class=\"right \" data-stat=\"weight\" >165</td><td class=\"right \" data-stat=\"date_of_birth\" csk=\"1995-09-01\" >Sep 1, 1995</td><td class=\"right \" data-stat=\"first_year\" >2015</td></tr>\\n<tr ><th scope=\"row\" class=\"right \" data-stat=\"ranker\" >32</th><td class=\"right \" data-stat=\"uniform_number\" >67</td><td class=\"left \" data-append-csv=\"redirect.fcgi?player=1&amp;mlb_ID=657756\" data-stat=\"player\" csk=\"Seabold,Connor\" ><a href=\"/redirect.fcgi?player=1&amp;mlb_ID=657756\">Connor Seabold</a></td><td class=\"right \" data-stat=\"flag\" csk=\"US\" ><span class=\"f-i f-us\">us</span> US</td><td class=\"right \" data-stat=\"POS\" >Pitcher</td><td class=\"right iz\" data-stat=\"is_active\" ></td><td class=\"right iz\" data-stat=\"is_dl\" ></td><td class=\"right \" data-stat=\"age\" >24</td><td class=\"right \" data-stat=\"bats\" >R</td><td class=\"right \" data-stat=\"throws\" >R</td><td class=\"right \" data-stat=\"height\" csk=\"74\" >6\\' 2\"</td><td class=\"right \" data-stat=\"weight\" >190</td><td class=\"right \" data-stat=\"date_of_birth\" csk=\"1996-01-24\" >Jan 24, 1996</td><td class=\"right \" data-stat=\"first_year\" >2015</td></tr>\\n<tr ><th scope=\"row\" class=\"right \" data-stat=\"ranker\" >33</th><td class=\"right \" data-stat=\"uniform_number\" >46</td><td class=\"left \" data-append-csv=\"redirect.fcgi?player=1&amp;mlb_ID=670167\" data-stat=\"player\" csk=\"Schreiber,John\" ><a href=\"/redirect.fcgi?player=1&amp;mlb_ID=670167\">John Schreiber</a></td><td class=\"right \" data-stat=\"flag\" csk=\"US\" ><span class=\"f-i f-us\">us</span> US</td><td class=\"right \" data-stat=\"POS\" >Pitcher</td><td class=\"right iz\" data-stat=\"is_active\" ></td><td class=\"right iz\" data-stat=\"is_dl\" ></td><td class=\"right \" data-stat=\"age\" >26</td><td class=\"right \" data-stat=\"bats\" >R</td><td class=\"right \" data-stat=\"throws\" >R</td><td class=\"right \" data-stat=\"height\" csk=\"74\" >6\\' 2\"</td><td class=\"right \" data-stat=\"weight\" >210</td><td class=\"right \" data-stat=\"date_of_birth\" csk=\"1994-03-05\" >Mar 5, 1994</td><td class=\"right \" data-stat=\"first_year\" >2016</td></tr>\\n<tr ><th scope=\"row\" class=\"right \" data-stat=\"ranker\" >34</th><td class=\"right \" data-stat=\"uniform_number\" >77</td><td class=\"left \" data-append-csv=\"redirect.fcgi?player=1&amp;mlb_ID=666130\" data-stat=\"player\" csk=\"Groome,Jay\" ><a href=\"/redirect.fcgi?player=1&amp;mlb_ID=666130\">Jay Groome</a></td><td class=\"right \" data-stat=\"flag\" csk=\"US\" ><span class=\"f-i f-us\">us</span> US</td><td class=\"right \" data-stat=\"POS\" >Pitcher</td><td class=\"right iz\" data-stat=\"is_active\" ></td><td class=\"right iz\" data-stat=\"is_dl\" ></td><td class=\"right \" data-stat=\"age\" >21</td><td class=\"right \" data-stat=\"bats\" >L</td><td class=\"right \" data-stat=\"throws\" >L</td><td class=\"right \" data-stat=\"height\" csk=\"78\" >6\\' 6\"</td><td class=\"right \" data-stat=\"weight\" >262</td><td class=\"right \" data-stat=\"date_of_birth\" csk=\"1998-08-23\" >Aug 23, 1998</td><td class=\"right \" data-stat=\"first_year\" >2016</td></tr>\\n<tr ><th scope=\"row\" class=\"right \" data-stat=\"ranker\" >35</th><td class=\"right \" data-stat=\"uniform_number\" >89</td><td class=\"left \" data-append-csv=\"redirect.fcgi?player=1&amp;mlb_ID=656557\" data-stat=\"player\" csk=\"Houck,Tanner\" ><a href=\"/redirect.fcgi?player=1&amp;mlb_ID=656557\">Tanner Houck</a></td><td class=\"right \" data-stat=\"flag\" csk=\"US\" ><span class=\"f-i f-us\">us</span> US</td><td class=\"right \" data-stat=\"POS\" >Pitcher</td><td class=\"right iz\" data-stat=\"is_active\" ></td><td class=\"right iz\" data-stat=\"is_dl\" ></td><td class=\"right \" data-stat=\"age\" >24</td><td class=\"right \" data-stat=\"bats\" >R</td><td class=\"right \" data-stat=\"throws\" >R</td><td class=\"right \" data-stat=\"height\" csk=\"77\" >6\\' 5\"</td><td class=\"right \" data-stat=\"weight\" >230</td><td class=\"right \" data-stat=\"date_of_birth\" csk=\"1996-06-29\" >Jun 29, 1996</td><td class=\"right \" data-stat=\"first_year\" >2015</td></tr>\\n<tr ><th scope=\"row\" class=\"right \" data-stat=\"ranker\" >36</th><td class=\"right \" data-stat=\"uniform_number\" >53</td><td class=\"left \" data-append-csv=\"redirect.fcgi?player=1&amp;mlb_ID=657129\" data-stat=\"player\" csk=\"Wilson,Marcus\" ><a href=\"/redirect.fcgi?player=1&amp;mlb_ID=657129\">Marcus Wilson</a></td><td class=\"right \" data-stat=\"flag\" csk=\"US\" ><span class=\"f-i f-us\">us</span> US</td><td class=\"right \" data-stat=\"POS\" >Position</td><td class=\"right iz\" data-stat=\"is_active\" ></td><td class=\"right iz\" data-stat=\"is_dl\" ></td><td class=\"right \" data-stat=\"age\" >23</td><td class=\"right \" data-stat=\"bats\" >R</td><td class=\"right \" data-stat=\"throws\" >R</td><td class=\"right \" data-stat=\"height\" csk=\"74\" >6\\' 2\"</td><td class=\"right \" data-stat=\"weight\" >198</td><td class=\"right \" data-stat=\"date_of_birth\" csk=\"1996-08-15\" >Aug 15, 1996</td><td class=\"right \" data-stat=\"first_year\" >2014</td></tr>\\n<tr ><th scope=\"row\" class=\"right \" data-stat=\"ranker\" >37</th><td class=\"right \" data-stat=\"uniform_number\" >74</td><td class=\"left \" data-append-csv=\"redirect.fcgi?player=1&amp;mlb_ID=657136\" data-stat=\"player\" csk=\"Wong,Connor\" ><a href=\"/redirect.fcgi?player=1&amp;mlb_ID=657136\">Connor Wong</a></td><td class=\"right \" data-stat=\"flag\" csk=\"US\" ><span class=\"f-i f-us\">us</span> US</td><td class=\"right \" data-stat=\"POS\" >Position</td><td class=\"right iz\" data-stat=\"is_active\" ></td><td class=\"right iz\" data-stat=\"is_dl\" ></td><td class=\"right \" data-stat=\"age\" >24</td><td class=\"right \" data-stat=\"bats\" >R</td><td class=\"right \" data-stat=\"throws\" >R</td><td class=\"right \" data-stat=\"height\" csk=\"73\" >6\\' 1\"</td><td class=\"right \" data-stat=\"weight\" >181</td><td class=\"right \" data-stat=\"date_of_birth\" csk=\"1996-05-19\" >May 19, 1996</td><td class=\"right \" data-stat=\"first_year\" >2015</td></tr>\\n<tr ><th scope=\"row\" class=\"right \" data-stat=\"ranker\" >38</th><td class=\"right \" data-stat=\"uniform_number\" >66</td><td class=\"left \" data-append-csv=\"redirect.fcgi?player=1&amp;mlb_ID=671271\" data-stat=\"player\" csk=\"Rosario,Jeisson\" ><a href=\"/redirect.fcgi?player=1&amp;mlb_ID=671271\">Jeisson Rosario</a></td><td class=\"right \" data-stat=\"flag\" csk=\"DO\" ><span class=\"f-i f-do\">do</span> DO</td><td class=\"right \" data-stat=\"POS\" >Position</td><td class=\"right iz\" data-stat=\"is_active\" ></td><td class=\"right iz\" data-stat=\"is_dl\" ></td><td class=\"right \" data-stat=\"age\" >20</td><td class=\"right \" data-stat=\"bats\" >L</td><td class=\"right \" data-stat=\"throws\" >L</td><td class=\"right \" data-stat=\"height\" csk=\"73\" >6\\' 1\"</td><td class=\"right \" data-stat=\"weight\" >191</td><td class=\"right \" data-stat=\"date_of_birth\" csk=\"1999-10-22\" >Oct 22, 1999</td><td class=\"right \" data-stat=\"first_year\" >2017</td></tr>\\n<tr ><th scope=\"row\" class=\"right \" data-stat=\"ranker\" >39</th><td class=\"right \" data-stat=\"uniform_number\" >36</td><td class=\"left \" data-append-csv=\"redirect.fcgi?player=1&amp;mlb_ID=668888\" data-stat=\"player\" csk=\"Potts,Hudson\" ><a href=\"/redirect.fcgi?player=1&amp;mlb_ID=668888\">Hudson Potts</a></td><td class=\"right \" data-stat=\"flag\" csk=\"US\" ><span class=\"f-i f-us\">us</span> US</td><td class=\"right \" data-stat=\"POS\" >Position</td><td class=\"right iz\" data-stat=\"is_active\" ></td><td class=\"right iz\" data-stat=\"is_dl\" ></td><td class=\"right \" data-stat=\"age\" >21</td><td class=\"right \" data-stat=\"bats\" >R</td><td class=\"right \" data-stat=\"throws\" >R</td><td class=\"right \" data-stat=\"height\" csk=\"75\" >6\\' 3\"</td><td class=\"right \" data-stat=\"weight\" >205</td><td class=\"right \" data-stat=\"date_of_birth\" csk=\"1998-10-28\" >Oct 28, 1998</td><td class=\"right \" data-stat=\"first_year\" >2016</td></tr>\\n<tr ><th scope=\"row\" class=\"right \" data-stat=\"ranker\" >40</th><td class=\"right \" data-stat=\"uniform_number\" >59</td><td class=\"left \" data-append-csv=\"redirect.fcgi?player=1&amp;mlb_ID=660613\" data-stat=\"player\" csk=\"Hernandez,Ronaldo\" ><a href=\"/redirect.fcgi?player=1&amp;mlb_ID=660613\">Ronaldo Hernandez</a></td><td class=\"right \" data-stat=\"flag\" csk=\"CO\" ><span class=\"f-i f-co\">co</span> CO</td><td class=\"right \" data-stat=\"POS\" >Position</td><td class=\"right iz\" data-stat=\"is_active\" ></td><td class=\"right iz\" data-stat=\"is_dl\" ></td><td class=\"right \" data-stat=\"age\" >22</td><td class=\"right \" data-stat=\"bats\" >R</td><td class=\"right \" data-stat=\"throws\" >R</td><td class=\"right \" data-stat=\"height\" csk=\"73\" >6\\' 1\"</td><td class=\"right \" data-stat=\"weight\" >230</td><td class=\"right \" data-stat=\"date_of_birth\" csk=\"1997-11-11\" >Nov 11, 1997</td><td class=\"right \" data-stat=\"first_year\" >2015</td></tr>\\n<tr ><th scope=\"row\" class=\"right \" data-stat=\"ranker\" >41</th><td class=\"right \" data-stat=\"uniform_number\" >3</td><td class=\"left \" data-append-csv=\"redirect.fcgi?player=1&amp;mlb_ID=660620\" data-stat=\"player\" csk=\"Arauz,Jonathan\" ><a href=\"/redirect.fcgi?player=1&amp;mlb_ID=660620\">Jonathan Arauz</a></td><td class=\"right \" data-stat=\"flag\" csk=\"PA\" ><span class=\"f-i f-pa\">pa</span> PA</td><td class=\"right \" data-stat=\"POS\" >Position</td><td class=\"right iz\" data-stat=\"is_active\" ></td><td class=\"right iz\" data-stat=\"is_dl\" ></td><td class=\"right \" data-stat=\"age\" >21</td><td class=\"right \" data-stat=\"bats\" >S</td><td class=\"right \" data-stat=\"throws\" >R</td><td class=\"right \" data-stat=\"height\" csk=\"72\" >6\\' 0\"</td><td class=\"right \" data-stat=\"weight\" >195</td><td class=\"right \" data-stat=\"date_of_birth\" csk=\"1998-08-03\" >Aug 3, 1998</td><td class=\"right \" data-stat=\"first_year\" >2015</td></tr>\\n</tbody><tfoot>      \\n      <tr class=\"thead\">\\n         <th aria-label=\" Rank This is a count of the rows from top to bottom. It is recalculated following the sorting of a column.\" data-stat=\"ranker\" class=\"tooltip ranker sort_default_asc show_partial_when_sorting center\" data-tip=\"&lt;strong&gt;Rank&lt;/strong&gt;&lt;br&gt;This is a count of the rows from top to bottom.&lt;br&gt;It is recalculated following the sorting of a column.\" >Rk</th>\\n         <th aria-label=\"Uniform Number\" data-stat=\"uniform_number\" class=\" center\" data-tip=\"<strong>Uniform Number</strong>\" >Uni</th>\\n         <th aria-label=\" Player Name Bold can mean player is active for this team or player has appeared in MLB * means LHP or LHB, # means switch hitter, + can mean HOFer.\" data-stat=\"player\" class=\" sort_default_asc show_partial_when_sorting left\" data-tip=\"&lt;strong&gt;Player Name&lt;/strong&gt;&lt;br&gt;&lt;strong&gt;Bold&lt;/strong&gt; can mean player is active for this team&lt;br&gt;or player has appeared in MLB&lt;br&gt;* means LHP or LHB,&lt;br&gt;# means switch hitter,&lt;br&gt;+ can mean HOFer.\" >Name</th>\\n         <th aria-label=\"flag\" data-stat=\"flag\" class=\" center\" ></th>\\n         <th aria-label=\"POS\" data-stat=\"POS\" class=\" center\" ></th>\\n         <th aria-label=\"Is on the Active Roster\" data-stat=\"is_active\" class=\" center\" data-tip=\"<strong>Is on the Active Roster</strong>\" >OnActv</th>\\n         <th aria-label=\"Is on the Injured List\" data-stat=\"is_dl\" class=\" center\" data-tip=\"<strong>Is on the Injured List</strong>\" >IL</th>\\n         <th aria-label=\"Player&#x2019;s age at midnight of June 30th of that year\" data-stat=\"age\" class=\" sort_default_asc show_partial_when_sorting center\" data-tip=\"Player&#x2019;s age at midnight of June 30th of that year\" >Age</th>\\n         <th aria-label=\"Batting Side B or S - Switch Hitter This is their primary designation for their career\" data-stat=\"bats\" class=\" sort_default_asc show_partial_when_sorting center\" data-tip=\"Batting Side&lt;br&gt;B or S - Switch Hitter&lt;br&gt;This is their primary designation for their career\" >B</th>\\n         <th aria-label=\"Throwing Hand\" data-stat=\"throws\" class=\" sort_default_asc show_partial_when_sorting center\" data-tip=\"Throwing Hand\" >T</th>\\n         <th aria-label=\" Height (ft &amp;amp; inches) \" data-stat=\"height\" class=\" show_partial_when_sorting center\" data-tip=\"&lt;strong&gt;Height (ft &amp;amp; inches)&lt;/strong&gt;\" >Ht</th>\\n         <th aria-label=\" Weight in Pounds \" data-stat=\"weight\" class=\" show_partial_when_sorting center\" data-tip=\"&lt;strong&gt;Weight in Pounds&lt;/strong&gt;\" >Wt</th>\\n         <th aria-label=\"Date of Birth\" data-stat=\"date_of_birth\" class=\" show_partial_when_sorting center\" data-tip=\"Date of Birth\" >DoB</th>\\n         <th aria-label=\" First Year in Affiliated Baseball \" data-stat=\"first_year\" class=\" center\" data-tip=\"&lt;strong&gt;First Year in Affiliated Baseball&lt;/strong&gt;\" >1stYr</th>\\n      </tr>\\n      \\n   </tfoot>\\n\\n</table>\\n\\n\\n</div>\\n'"
      ]
     },
     "execution_count": 9,
     "metadata": {},
     "output_type": "execute_result"
    }
   ],
   "source": [
    "tbody2 = list(tbody.children)[4]\n",
    "tbody2\n",
    "# comments=tbody2.find_all('tbody')\n",
    "# comments\n",
    "\n"
   ]
  },
  {
   "cell_type": "code",
   "execution_count": 10,
   "id": "specified-demonstration",
   "metadata": {},
   "outputs": [
    {
     "name": "stdout",
     "output_type": "stream",
     "text": [
      "['\\n', 'Y', 'e', 'a', 'r', '\\n', 'T']\n"
     ]
    }
   ],
   "source": [
    "salary_info = requests.get('https://www.baseball-reference.com/players/r/rodried05.shtml')\n",
    "soup = BeautifulSoup(salary_info.text, 'html.parser')\n",
    "# soup = BeautifulSoup(html.text, 'html.parser')\n",
    "\n",
    "\n",
    "# for item in soup.find_all(text=lambda text:isinstance(text, Comment)):\n",
    "#     data = BeautifulSoup(item,\"html.parser\")\n",
    "#     for tr in data.find_all(\"tbody\"):\n",
    "#         StringIO(tr.text)\n",
    " \n",
    "    \n",
    "###\n",
    "\n",
    "\n",
    "# names = []\n",
    "# teams = []\n",
    "\n",
    "# for node in soup.find_all('tr'):\n",
    "#      print(node.find_all(text=True)[1])\n",
    "#     names.append(node.find_all(text=True)[1])\n",
    "#     teams.append(node.find_all(text=True)[2])\n",
    "\n",
    "# names.pop(0) #removing headers\n",
    "# teams.pop(0)\n",
    "\n",
    "# player_data = pd.DataFrame.from_dict({\n",
    "#     'player_name': names,\n",
    "#     'team': teams\n",
    "# })\n",
    "\n",
    "# player_data\n",
    "\n",
    "\n",
    "\n",
    "###    \n",
    "    \n",
    "my_list = [] \n",
    "for item in soup.find_all(text=lambda text:isinstance(text, Comment)):\n",
    "    data = BeautifulSoup(item,\"html.parser\")\n",
    "    for tr in data.find_all(\"tr\"):\n",
    "#         my_list.append(tr.text)\n",
    "        my_list.append(tr.text)\n",
    "\n",
    "\n",
    "# dict_ = {\n",
    "#         'Nationality' : my_list[2][2][:2]\n",
    "#     }\n",
    "\n",
    "# new_list = my_list[:40]\n",
    "\n",
    "# columns=['Uni','Name','OnActv','IL','Age','B','T','Ht','Wt','DoB','1stYr']\n",
    "# Uni = i[2]\n",
    "# Name = i[3]\n",
    "# Uni\n",
    "\n",
    "# temp = StringIO(my_string)\n",
    "\n",
    "# for i in temp:\n",
    "#     print(i)\n",
    "\n",
    "# my_list[2][2].split(\"*\")\n",
    "first_name = my_list[2][:7]\n",
    "f_name = [] #.join\n",
    "\n",
    "for item in first_name:\n",
    "    if item not in ['0','1','2','3','4','5','6','7','8','9',' ']:\n",
    "        f_name.append(item)\n",
    "        \n",
    "print(f_name)\n",
    "        \n",
    "\n",
    "\n",
    "\n",
    "\n",
    "\n",
    "\n"
   ]
  },
  {
   "cell_type": "code",
   "execution_count": 11,
   "id": "purple-renewal",
   "metadata": {},
   "outputs": [
    {
     "name": "stdout",
     "output_type": "stream",
     "text": [
      "Year\n",
      "17\n",
      "18\n",
      "19\n",
      "20\n",
      "21\n",
      "22\n",
      "22\n",
      "23\n",
      "23\n",
      "24\n",
      "24\n",
      "25\n",
      "25\n",
      "26\n",
      "51\n",
      "14\n"
     ]
    },
    {
     "data": {
      "text/html": [
       "<div>\n",
       "<style scoped>\n",
       "    .dataframe tbody tr th:only-of-type {\n",
       "        vertical-align: middle;\n",
       "    }\n",
       "\n",
       "    .dataframe tbody tr th {\n",
       "        vertical-align: top;\n",
       "    }\n",
       "\n",
       "    .dataframe thead th {\n",
       "        text-align: right;\n",
       "    }\n",
       "</style>\n",
       "<table border=\"1\" class=\"dataframe\">\n",
       "  <thead>\n",
       "    <tr style=\"text-align: right;\">\n",
       "      <th></th>\n",
       "      <th>player_name</th>\n",
       "      <th>team</th>\n",
       "    </tr>\n",
       "  </thead>\n",
       "  <tbody>\n",
       "    <tr>\n",
       "      <th>0</th>\n",
       "      <td>17</td>\n",
       "      <td>2010</td>\n",
       "    </tr>\n",
       "    <tr>\n",
       "      <th>1</th>\n",
       "      <td>18</td>\n",
       "      <td>2011</td>\n",
       "    </tr>\n",
       "    <tr>\n",
       "      <th>2</th>\n",
       "      <td>19</td>\n",
       "      <td>2012</td>\n",
       "    </tr>\n",
       "    <tr>\n",
       "      <th>3</th>\n",
       "      <td>20</td>\n",
       "      <td>2013</td>\n",
       "    </tr>\n",
       "    <tr>\n",
       "      <th>4</th>\n",
       "      <td>21</td>\n",
       "      <td>2014</td>\n",
       "    </tr>\n",
       "    <tr>\n",
       "      <th>5</th>\n",
       "      <td>22</td>\n",
       "      <td>2015</td>\n",
       "    </tr>\n",
       "    <tr>\n",
       "      <th>6</th>\n",
       "      <td>22</td>\n",
       "      <td>2015</td>\n",
       "    </tr>\n",
       "    <tr>\n",
       "      <th>7</th>\n",
       "      <td>23</td>\n",
       "      <td>2016</td>\n",
       "    </tr>\n",
       "    <tr>\n",
       "      <th>8</th>\n",
       "      <td>23</td>\n",
       "      <td>2016</td>\n",
       "    </tr>\n",
       "    <tr>\n",
       "      <th>9</th>\n",
       "      <td>24</td>\n",
       "      <td>2017</td>\n",
       "    </tr>\n",
       "    <tr>\n",
       "      <th>10</th>\n",
       "      <td>24</td>\n",
       "      <td>2017</td>\n",
       "    </tr>\n",
       "    <tr>\n",
       "      <th>11</th>\n",
       "      <td>25</td>\n",
       "      <td>2018</td>\n",
       "    </tr>\n",
       "    <tr>\n",
       "      <th>12</th>\n",
       "      <td>25</td>\n",
       "      <td>2018</td>\n",
       "    </tr>\n",
       "    <tr>\n",
       "      <th>13</th>\n",
       "      <td>26</td>\n",
       "      <td>2019</td>\n",
       "    </tr>\n",
       "    <tr>\n",
       "      <th>14</th>\n",
       "      <td>51</td>\n",
       "      <td>5 Yrs</td>\n",
       "    </tr>\n",
       "    <tr>\n",
       "      <th>15</th>\n",
       "      <td>14</td>\n",
       "      <td>162 Game Avg.</td>\n",
       "    </tr>\n",
       "  </tbody>\n",
       "</table>\n",
       "</div>"
      ],
      "text/plain": [
       "   player_name           team\n",
       "0           17           2010\n",
       "1           18           2011\n",
       "2           19           2012\n",
       "3           20           2013\n",
       "4           21           2014\n",
       "5           22           2015\n",
       "6           22           2015\n",
       "7           23           2016\n",
       "8           23           2016\n",
       "9           24           2017\n",
       "10          24           2017\n",
       "11          25           2018\n",
       "12          25           2018\n",
       "13          26           2019\n",
       "14          51          5 Yrs\n",
       "15          14  162 Game Avg."
      ]
     },
     "execution_count": 11,
     "metadata": {},
     "output_type": "execute_result"
    }
   ],
   "source": [
    "salary_info = requests.get('https://www.baseball-reference.com/players/r/rodried05.shtml')\n",
    "soup = BeautifulSoup(salary_info.text, 'html.parser')\n",
    "# soup = BeautifulSoup(html.text, 'html.parser')\n",
    "\n",
    "\n",
    "# for item in soup.find_all(text=lambda text:isinstance(text, Comment)):\n",
    "#     data = BeautifulSoup(item,\"html.parser\")\n",
    "#     for tr in data.find_all(\"tbody\"):\n",
    "#         StringIO(tr.text)\n",
    " \n",
    "    \n",
    "###\n",
    "\n",
    "\n",
    "names = []\n",
    "teams = []\n",
    "\n",
    "for node in soup.find_all('tr'):\n",
    "    print(node.find_all(text=True)[1])\n",
    "    names.append(node.find_all(text=True)[1])\n",
    "    teams.append(node.find_all(text=True)[0])\n",
    "\n",
    "names.pop(0) #removing headers\n",
    "teams.pop(0)\n",
    "\n",
    "player_data = pd.DataFrame.from_dict({\n",
    "    'player_name': names,\n",
    "    'team': teams\n",
    "})\n",
    "\n",
    "player_data"
   ]
  },
  {
   "cell_type": "code",
   "execution_count": 12,
   "id": "rolled-strap",
   "metadata": {},
   "outputs": [
    {
     "name": "stdout",
     "output_type": "stream",
     "text": [
      "<class 'bs4.element.NavigableString'>\n",
      "<class 'bs4.element.Doctype'>\n",
      "<class 'bs4.element.NavigableString'>\n",
      "<class 'bs4.element.Tag'>\n",
      "<class 'bs4.element.NavigableString'>\n"
     ]
    }
   ],
   "source": [
    "for i in soup.children:\n",
    "    print(type(i))\n",
    "   "
   ]
  },
  {
   "cell_type": "code",
   "execution_count": 13,
   "id": "driven-vinyl",
   "metadata": {
    "scrolled": true
   },
   "outputs": [
    {
     "data": {
      "text/plain": [
       "[bs4.element.NavigableString,\n",
       " bs4.element.Tag,\n",
       " bs4.element.NavigableString,\n",
       " bs4.element.Tag,\n",
       " bs4.element.NavigableString,\n",
       " bs4.element.Comment,\n",
       " bs4.element.NavigableString]"
      ]
     },
     "execution_count": 13,
     "metadata": {},
     "output_type": "execute_result"
    }
   ],
   "source": [
    "html = list(soup.children)[3]\n",
    "[type(item) for item in list(html.children)]"
   ]
  },
  {
   "cell_type": "code",
   "execution_count": 14,
   "id": "japanese-extra",
   "metadata": {},
   "outputs": [
    {
     "data": {
      "text/plain": [
       "[bs4.element.NavigableString,\n",
       " bs4.element.Tag,\n",
       " bs4.element.Comment,\n",
       " bs4.element.NavigableString,\n",
       " bs4.element.Comment,\n",
       " bs4.element.NavigableString,\n",
       " bs4.element.Tag,\n",
       " bs4.element.NavigableString,\n",
       " bs4.element.Comment,\n",
       " bs4.element.NavigableString,\n",
       " bs4.element.Tag,\n",
       " bs4.element.NavigableString,\n",
       " bs4.element.Tag,\n",
       " bs4.element.NavigableString,\n",
       " bs4.element.Comment,\n",
       " bs4.element.Tag,\n",
       " bs4.element.Comment,\n",
       " bs4.element.NavigableString,\n",
       " bs4.element.Tag,\n",
       " bs4.element.NavigableString]"
      ]
     },
     "execution_count": 14,
     "metadata": {},
     "output_type": "execute_result"
    }
   ],
   "source": [
    "body = list(html.children)[3]\n",
    "[type(item) for item in list(body.children)]"
   ]
  },
  {
   "cell_type": "code",
   "execution_count": 15,
   "id": "organized-january",
   "metadata": {
    "scrolled": true
   },
   "outputs": [
    {
     "data": {
      "text/plain": [
       "[bs4.element.NavigableString,\n",
       " bs4.element.Tag,\n",
       " bs4.element.Comment,\n",
       " bs4.element.NavigableString,\n",
       " bs4.element.Tag,\n",
       " bs4.element.Comment,\n",
       " bs4.element.NavigableString,\n",
       " bs4.element.Tag,\n",
       " bs4.element.Comment,\n",
       " bs4.element.NavigableString,\n",
       " bs4.element.Tag,\n",
       " bs4.element.Comment,\n",
       " bs4.element.NavigableString,\n",
       " bs4.element.Tag,\n",
       " bs4.element.Comment,\n",
       " bs4.element.NavigableString,\n",
       " bs4.element.Tag,\n",
       " bs4.element.Comment,\n",
       " bs4.element.NavigableString]"
      ]
     },
     "execution_count": 15,
     "metadata": {},
     "output_type": "execute_result"
    }
   ],
   "source": [
    "body2 = list(body.children)[1]\n",
    "[type(item) for item in list(body2.children)]\n"
   ]
  },
  {
   "cell_type": "code",
   "execution_count": 16,
   "id": "narrative-bruce",
   "metadata": {},
   "outputs": [
    {
     "data": {
      "text/plain": [
       "<div class=\"players\" id=\"info\">\n",
       "<div id=\"meta\">\n",
       "<div class=\"media-item multiple\"><img class=\"\" src=\"https://www.baseball-reference.com/req/202103260/images/headshots/0/05cbabce_mlbam.jpg\"/><img class=\"additional\" src=\"https://www.baseball-reference.com/req/202103260/images/headshots/0/05cbabce_milb.jpg\"/>\n",
       "</div><!-- div.media-item --><div itemscope=\"\" itemtype=\"https://schema.org/Person\">\n",
       "<h1 itemprop=\"name\">\n",
       "<span>Eduardo Rodríguez</span>\n",
       "</h1>\n",
       "<p>\n",
       "<strong>Position:</strong>\n",
       "    Pitcher\n",
       "  \n",
       "</p>\n",
       "<p>\n",
       "<strong>Bats: </strong>Left\n",
       "         • \n",
       "\t<strong>Throws: </strong>Left\n",
       "    \n",
       "</p>\n",
       "<p><span itemprop=\"height\">6-2</span>, <span itemprop=\"weight\">231lb</span> (188cm, 104kg) </p>\n",
       "<p>\n",
       "<strong>Team:</strong>\n",
       "<a href=\"/teams/BOS/2020.shtml\">Boston Red Sox</a> (majors)\n",
       "  </p>\n",
       "<p>\n",
       "<strong><a href=\"/bio/\">Born:</a></strong>\n",
       "<span data-birth=\"1993-04-07\" id=\"necro-birth\" itemprop=\"birthDate\">\n",
       "<a href=\"/friv/birthdays.cgi?month=4&amp;day=7\">April 7</a>, <a href=\"/leagues/MLB/1993-births.shtml\">1993</a>\n",
       "</span>\n",
       "<span itemprop=\"birthPlace\">\n",
       "    \n",
       "      in Valencia, <a href=\"/bio/Venezuela_born.shtml\">Venezuela</a>\n",
       "</span>\n",
       "<span class=\"f-i f-ve\">ve</span>\n",
       "</p>\n",
       "<p><strong><a href=\"/leagues/MLB/2015-debuts.shtml\">Debut:</a></strong>\n",
       "<a href=\"/tools/route.cgi?dest=debut&amp;id=rodried05&amp;game_id=TEX201505280\">May 28, 2015</a>\n",
       "    (Age 22-051d,\n",
       "    18,498th in MLB history)\n",
       "    <br/>   <a href=\"/boxes/TEX/TEX201505280.shtml\">vs. TEX</a> 7.2 IP, 3 H, 7 SO, 2 BB, 0 ER, W\n",
       "    \n",
       "  </p>\n",
       "<p>\n",
       "<strong><a href=\"/leagues/MLB/2015-rookies.shtml\">Rookie Status:</a></strong>\n",
       "      \n",
       "        Exceeded rookie limits during 2015 season\n",
       "      \n",
       "\n",
       "  </p>\n",
       "<p>\n",
       "<strong>2021 Contract Status</strong>:\n",
       "    Signed thru 2021, 1 yr/$8.3M (21)\n",
       "    \n",
       "  </p>\n",
       "<p>\n",
       "<strong>Service Time (01/2021)</strong>: 5.130\n",
       "\n",
       "  \n",
       "  \n",
       "  \n",
       "\n",
       "  \n",
       "   •     \n",
       "  <strong>Free Agent</strong>: 2022\n",
       "  \n",
       "\n",
       "  \n",
       "  </p>\n",
       "<p>\n",
       "<strong>Agents</strong>: ISE Baseball  </p>\n",
       "<p>\n",
       "<strong>Full Name:</strong> Eduardo Jose Rodriguez \n",
       "</p>\n",
       "<p>\n",
       "<strong>Nicknames:</strong>\n",
       "<a class=\"poptip\" data-tip=\"click for all ballplayer nicknames\" href=\"/friv/baseball-player-nicknames.shtml\">El Gualo</a>\n",
       "</p>\n",
       "<p><strong><a href=\"/friv/baseball-player-twitter-accounts.shtml\" title=\"Click for all ballplayers Twitter accounts\">Twitter:</a></strong>\n",
       "<a href=\"https://twitter.com/eduardorod5\" rel=\"nofollow\">@eduardorod5</a></p>\n",
       "<p>\n",
       "<a href=\"https://www.baseball-reference.com/bullpen/Eduardo_Rodriguez\" rel=\"nofollow noopener\" target=\"_blank\">View Player Info</a> \n",
       "  from the <a href=\"https://www.baseball-reference.com/bullpen/\" rel=\"nofollow noopener\" target=\"_blank\">B-R Bullpen</a>\n",
       "</p>\n",
       "<button class=\"opener\" data-class=\"open\" data-id=\"info\" data-type=\"hide_after\" id=\"meta_more_button\">More bio, uniform, draft, salary info</button>\n",
       "<script>\n",
       "// see sr.menus.js:sr_menus_checkInfoCookie to explain\n",
       "function sr_menus_checkInfoCookie_inline(browserType) {\n",
       "    var el_info = document.getElementById('info');\n",
       "    var el_button = document.getElementById('meta_more_button');\n",
       "    var bling_len = 1;    \n",
       "    if (!el_button || !el_info || !el_info.classList) { console.log('no meta_button'); return; }\n",
       "    var el = el_button;\n",
       "    var siblingsHidden = 0;\n",
       "    while (el = el.previousSibling) { if ((el.nodeType === 1) && (el.offsetWidth <= 0 || el.offsetHeight <= 0)) { siblingsHidden++; } }\n",
       "    var button_cookie = false;\n",
       "    if (browserType === 'desktop') {  button_cookie = vjs_readCookie('meta_more_button');   }\n",
       "    // We allow up to four of bling lines or additional player bio data entries in mobile.\n",
       "    if (el_info && el_button && (button_cookie || (siblingsHidden + bling_len <= 4))) {el_button.parentNode.removeChild(el_button);\tel_info.classList.add('open');  }\n",
       "    else { el_button.classList.add('show');  }\n",
       "}\n",
       "if (Modernizr.desktop || Modernizr.laptop) { sr_menus_checkInfoCookie_inline('desktop'); } else { sr_menus_checkInfoCookie_inline('mobile'); }\n",
       "var sr_menus_checkInfoCookie_run_inline = true;\n",
       "</script>\n",
       "</div>\n",
       "</div><!-- div#meta -->\n",
       "<ul id=\"bling\">\n",
       "<li class=\"\"><a href=\"/postseason/\">2018 World Series</a></li>\n",
       "</ul>\n",
       "<div class=\"uni_holder br\">\n",
       "<a class=\"poptip default\" data-tip=\"2015-2017 Boston Red Sox\" href=\"/friv/numbers.cgi?number=52\">\n",
       "<svg class=\"medal\" viewbox=\"0,0,50,50\"> <rect fill=\"white\" height=\"51\" width=\"51\" x=\"0\" y=\"0\"></rect> <circle cx=\"25\" cy=\"25\" fill=\"#fff\" fill-opacity=\"0.0\" r=\"23\" stroke=\"#002244\" stroke-width=\"4\"></circle> <circle cx=\"25\" cy=\"25\" fill=\"#fff\" fill-opacity=\"0.0\" r=\"20\" stroke=\"#C60C30\" stroke-width=\"3\"></circle> <text fill=\"#002244\" x=\"11\" y=\"34\">52</text> </svg>\n",
       "</a>\n",
       "<a class=\"poptip\" data-tip=\"2018-2019 Boston Red Sox\" href=\"/friv/numbers.cgi?number=57\">\n",
       "<svg class=\"medal\" viewbox=\"0,0,50,50\"> <rect fill=\"white\" height=\"51\" width=\"51\" x=\"0\" y=\"0\"></rect> <circle cx=\"25\" cy=\"25\" fill=\"#fff\" fill-opacity=\"0.0\" r=\"23\" stroke=\"#002244\" stroke-width=\"4\"></circle> <circle cx=\"25\" cy=\"25\" fill=\"#fff\" fill-opacity=\"0.0\" r=\"20\" stroke=\"#C60C30\" stroke-width=\"3\"></circle> <text fill=\"#002244\" x=\"11\" y=\"34\">57</text> </svg>\n",
       "</a>\n",
       "<div class=\"counter opener\" data-class=\"open\" data-control-id=\"meta_more_button\" data-id=\"info\" data-type=\"hide_after\">+1</div>\n",
       "</div>\n",
       "<div class=\"adblock ad300\">\n",
       "<div><a href=\"https://stathead.com/?&amp;utm_source=web&amp;utm_medium=br&amp;utm_campaign=adfree_callouts\">Become a Stathead &amp; surf this site ad-free.</a></div><!-- div#fs_fs_300_atf  -->\n",
       "<div align=\"center\" id=\"div-gpt-ad-300x250-ATF\">\n",
       "<script data-cfasync=\"false\" type=\"text/javascript\">\n",
       "    if (sr_detect_ie || sr_detect_edge || Modernizr.adfree) {\n",
       "    }\n",
       "    else {\n",
       "        console.log('push ad:div-gpt-ad-300x250-ATF');\n",
       "        freestar.queue.push(function() { googletag.display('div-gpt-ad-300x250-ATF'); });\n",
       "    }\n",
       "    </script>\n",
       "</div>\n",
       "<!-- /div.#fs_fs_300_atf -->\n",
       "</div>\n",
       "<div class=\"stats_pullout\">\n",
       "<div><div>\n",
       "<h4>SUMMARY</h4>\n",
       "<p><strong>Career</strong></p>\n",
       "</div></div>\n",
       "<div class=\"p1\">\n",
       "<div>\n",
       "<h4 class=\"poptip\" data-tip=\"&lt;strong&gt;Wins Above Replacement&lt;/strong&gt;&lt;br&gt;A single number that presents the number of wins the player added&lt;br&gt;to the team above what a replacement player (think AAA or AAAA) would add.&lt;br&gt;Scale for a single-season: 8+ MVP Quality, 5+ All-Star Quality, 2+ Starter,&lt;br&gt;0-2 Reserve, &lt; 0 Replacement Level  &lt;br&gt;Developed by Sean Smith of BaseballProjection.com\">WAR</h4>\n",
       "<p>13.6</p></div>\n",
       "<div>\n",
       "<h4 class=\"poptip\" data-tip=\"Wins\">W</h4>\n",
       "<p>51</p></div>\n",
       "<div>\n",
       "<h4 class=\"poptip\" data-tip=\"Losses\">L</h4>\n",
       "<p>31</p></div>\n",
       "<div>\n",
       "<h4 class=\"poptip\" data-tip=\"&lt;strong&gt;9 * ER / IP&lt;/strong&gt;&lt;br&gt;For recent years, leaders need 1 IP&lt;br&gt;per team game played.&lt;br&gt;Bold indicates lowest ERA using current stats&lt;br&gt;&lt;span class=glimmer&gt;Gold&lt;/span&gt; means awarded ERA title at end of year.\">ERA</h4>\n",
       "<p>4.03</p></div>\n",
       "</div><div class=\"p2\">\n",
       "<div>\n",
       "<h4 class=\"poptip\" data-tip=\"&lt;b&gt;Games Played&lt;/b&gt;&lt;br&gt;This includes all times that the player appeared on the lineup card. Pitchers in non-DH games that appeared on the lineup card but didn't bat will still have a game in this column.\">G</h4>\n",
       "<p>127</p></div>\n",
       "<div>\n",
       "<h4 class=\"poptip\" data-tip=\"Games Started\">GS</h4>\n",
       "<p>122</p></div>\n",
       "<div>\n",
       "<h4 class=\"poptip\" data-tip=\"Saves\">SV</h4>\n",
       "<p>0</p></div>\n",
       "</div><div class=\"p3\">\n",
       "<div>\n",
       "<h4 class=\"poptip\" data-tip=\"Innings Pitched\">IP</h4>\n",
       "<p>699.0</p></div>\n",
       "<div>\n",
       "<h4 class=\"poptip\" data-tip=\"Strikeouts\">SO</h4>\n",
       "<p>707</p></div>\n",
       "<div>\n",
       "<h4 class=\"poptip\" data-tip=\"&lt;strong&gt;(BB + H)/IP&lt;/strong&gt;&lt;br&gt;For recent years, leaders need 1 IP&lt;br&gt;per team game played\">WHIP</h4>\n",
       "<p>1.296</p></div>\n",
       "</div>\n",
       "</div>\n",
       "</div>"
      ]
     },
     "execution_count": 16,
     "metadata": {},
     "output_type": "execute_result"
    }
   ],
   "source": [
    "list(body2.children)[4]"
   ]
  },
  {
   "cell_type": "code",
   "execution_count": 17,
   "id": "quiet-assurance",
   "metadata": {},
   "outputs": [
    {
     "name": "stdout",
     "output_type": "stream",
     "text": [
      "2021BOS284301.0002.6344000013.2115422015100530.9517.21.31.39.97.506.1\n",
      "\n",
      "2021Proj.2873.7003.99179.073373510301843023361.3048.31.13.49.62.8065%\n",
      "\n",
      "201522BOSAL121.22121554.074.46-0.040.17109.25.11121.4-0.12.526.566.509\n",
      "201623BOSAL107.02020584.884.450.440.18104.24.36-6-0.6-0.10.44.469.496$521,000\n",
      "201724BOSAL137.12524664.334.800.460.20103.24.6950.6.12-0.11.820.523.503$584,500\n",
      "201825BOSAL129.22723563.894.53-0.120.18103.55.00171.8.92-0.13.029.566.511$2,375,000\n",
      "201926BOSAL203.13434883.904.98-0.210.24105.05.70414.3-0.16.163.625.526$4,300,000CYA-6\n",
      "\n",
      "201522BOSAL121.2.255.312.389.701.2942.5%18.8%7.1%87.635.1%28.5%43.2%18.3%2.360.80.4%6.5\n",
      "201623BOSAL107.0.241.311.417.728.2793.5%21.8%8.7%86.230.6%26.3%32.1%29.5%1.090.40.3%-1.4\n",
      "201724BOSAL137.1.241.312.424.736.3003.3%25.8%8.6%86.133.2%24.9%35.0%30.8%1.140.20.1%7.8\n",
      "201825BOSAL129.2.238.304.377.681.3012.9%26.4%8.1%88.236.2%26.5%38.0%27.7%1.371.10.5%13.4\n",
      "201926BOSAL203.1.253.323.391.714.3182.8%24.8%8.7%86.433.0%21.3%48.2%23.2%2.081.40.2%24.8\n",
      "\n",
      "201724BOSALALDSLHOU00inf1000000.012200001002-0.03-0.3%\n",
      "201825BOSALALDSWNYY0010.132010002.22331202000121.5006.83.46.86.81.00-0.08-0.8%\n",
      "201825BOSALALCSWHOU000.002010001.0000010200041.0000.00.09.018.02.00-0.06-1.2%\n",
      "201825BOSALWSWLAD005.683100006.14441217100260.9475.71.42.89.93.500.00-0.5%\n",
      "\n",
      "201017BAL-minFRk12000000000000000000ORI · DOSL\n",
      "201118BAL-minRk,A-12000000000000000000OLS,ADN · GULF,NYPL\n",
      "201219BAL-minA22000000000000000000DEL · SALL\n",
      "201320BAL-minAA,A+25000000000000000000BOW,FDK · EL,CARL\n",
      "201421BOS-BAL-minAA22000000000000000000PRT,BOW · EL\n",
      "201522BOS-minAAA8000000000000000000PAW · IL\n",
      "201522BOSAL1320000000002.000.000.000.000-1000001001\n",
      "201623BOS-minAAA7000000000000000000PAW · IL\n",
      "201623BOSAL1220000000002.000.000.000.000-1000000001\n",
      "201724BOS-minAAA,AA3000000000000000000PAW,PRT · IL,EL\n",
      "201724BOSAL3770000000002.000.000.000.000-1000000001\n",
      "201825BOS-minAA2000000000000000000PRT · EL\n",
      "201825BOSAL1220000000001.000.000.000.000-1000000001\n",
      "201926BOSAL3971000000003.000.000.000.000-1000002001CYA-6\n",
      "\n",
      "201522BOSAL13-1000000.0000.0.456.5000.00.001\n",
      "201623BOSAL12-1000000.0000.0.471.5000.00.00$521,0001\n",
      "201724BOSAL37-20001-1-0.10-1-0.1.476.500-0.10.0-1$584,5001\n",
      "201825BOSAL12-1000000.0000.0.475.5000.00.00$2,375,0001\n",
      "201926BOSAL39-2000100.0000.0.492.5000.00.00$4,300,0001CYA-6\n",
      "\n",
      "201522BOSAL3.000-269.0000.0%66.7%0.0%41.10.0%0.0%0.0%0.0%0.0%0.0%100.0%-0.10.0%-0.6\n",
      "201623BOSAL2.000-145.0000.0%100.0%0.0%0.00.0%-0.3\n",
      "201724BOSAL7.000-142.000.0000.0%28.6%0.0%77.60.0%0.0%60.0%0.0%40.0%40.0%20.0%-0.1-0.1%-1.7\n",
      "201825BOSAL2.000-136.000.0000.0%50.0%0.0%85.40.0%0.0%100.0%0.0%0.0%100.0%0.0%-0.10.0%-0.4\n",
      "201926BOSAL9.127-89.000.0000.0%33.3%0.0%73.30.0%0.0%66.7%0.0%0.0%83.3%16.7%-0.20.0%-1.80%\n",
      "\n",
      "201724BOSALALDSHOUL10000000000000000000.000.0%\n",
      "201825BOSALALDSNYYW20000000000000000000.000.0%\n",
      "201825BOSALALCSHOUW20000000000000000000.000.0%\n",
      "201825BOSALWSLADW3210000000001.000.500.000.5000010000.000.3%\n",
      "\n",
      "201522BOSPAL21210121.22451720.917121.631.05.9541.521.512250%32%1\n",
      "201623BOSPAL20200107.01641111.938241.260.75.9501.411.392250%29%0\n",
      "201724BOSPAL25240137.11751111.941001.050.64.9481.331.322360%27%0\n",
      "201825BOSPAL27230129.212111001.000-1-20.830.44.9521.311.301267%28%0\n",
      "201926BOSPAL34340203.125223011.000001.110.74.9451.221.214556%27%1CYA-6\n",
      "\n",
      "201522BOSAL212112121000000000000\n",
      "201623BOSAL202012020000000000000\n",
      "201724BOSAL252432525000000000000\n",
      "201825BOSAL272312727000000000000\n",
      "201926BOSAL343433434000000000000\n",
      "\n",
      "201623Boston Red Sox$521,0000.130\n",
      "201724Boston Red Sox$584,5001.130contracts\n",
      "201825Boston Red Sox$2,375,0002.130\n",
      "201926Boston Red Sox$4,300,0003.130contract\n",
      "202027Boston Red Sox$8,300,0004.130contract\n",
      "202128Boston Red Sox$8,300,0005.130\n",
      "Earliest Free Agent: 2022\n",
      "\n"
     ]
    }
   ],
   "source": [
    "Eduardo_Rodriguez = requests.get('https://www.baseball-reference.com/players/r/rodried05.shtml')\n",
    "soup = BeautifulSoup(Eduardo_Rodriguez.text, 'html.parser')\n",
    "\n",
    "\n",
    "\n",
    "for item in soup.find_all(text=lambda text:isinstance(text, Comment)):\n",
    "    data = BeautifulSoup(item,\"html.parser\")\n",
    "    for tr in data.find_all(\"tbody\"):\n",
    "        print(tr.text)\n",
    " \n"
   ]
  },
  {
   "cell_type": "code",
   "execution_count": 18,
   "id": "changing-aside",
   "metadata": {},
   "outputs": [
    {
     "data": {
      "text/plain": [
       "{'Eduardo Rodriguez': '$8,300,000'}"
      ]
     },
     "execution_count": 18,
     "metadata": {},
     "output_type": "execute_result"
    }
   ],
   "source": [
    "table = []\n",
    "for item in soup.find_all(text=lambda text:isinstance(text, Comment)):\n",
    "    data = BeautifulSoup(item,\"html.parser\")\n",
    "    for tr in data.find_all(\"tr\"):\n",
    "         table.append(tr.find_all(text=True))\n",
    "       \n",
    "    \n",
    "\n",
    "A = {'Eduardo Rodriguez': table[-3][-2]}\n",
    "A"
   ]
  },
  {
   "cell_type": "code",
   "execution_count": null,
   "id": "mental-orleans",
   "metadata": {
    "scrolled": true
   },
   "outputs": [],
   "source": []
  },
  {
   "cell_type": "code",
   "execution_count": 19,
   "id": "suitable-planning",
   "metadata": {
    "scrolled": true
   },
   "outputs": [
    {
     "name": "stdout",
     "output_type": "stream",
     "text": [
      "2021BOS350000.006010006.16200107000261.1058.50.01.49.97.007.8\n",
      "\n",
      "2021Proj.3544.5003.86256.04826247271663032411.3397.71.14.310.62.4448%\n",
      "\n",
      "201024STLNL22.153218.464.400.26-0.01101.94.21-11-0.9.150.1-0.6-9.315.494\n",
      " \n",
      "201226COLNL79.0530424.784.36-0.59-0.33117.35.4350.5.82-0.21.012.510.503\n",
      "201327COLNL78.1510273.104.14-0.17-0.31119.74.79151.71.12-0.12.321.533.510$491,000\n",
      "201428COLNL65.0750263.604.04-0.02-0.30117.24.4160.71.520.01.311.509.504$502,000\n",
      "201529COLNL10.110000.004.26-0.13-0.31122.34.9960.71.290.10.87.565.504$1,300,000\n",
      "201630COLNL27.034093.004.460.11-0.32120.14.8460.61.490.11.08.518.504$1,300,000\n",
      "201731COLNL53.1630305.064.63-0.06-0.32113.84.97-1-0.11.05-0.10.34.499.500$2,100,000\n",
      "201832COLNL77.2750252.904.390.02-0.30112.54.58151.71.500.22.621.522.510$7,000,000\n",
      "201933NYYAL66.1730172.314.870.04-0.3297.74.41151.51.380.12.323.521.509$9,000,000\n",
      "202034NYYAL18.1240125.895.31-0.02-0.330.0093.04.65-3-0.3.90-0.1-0.2-1.488.498$9,000,000\n",
      "\n",
      "201024STLNL22.1.370.422.6501.072.3864.6%10.9%8.2%33.7%36.0%24.7%1.45-0.3-0.3%-8.7\n",
      " \n",
      "201226COLNL79.0.253.330.387.717.3182.7%23.9%10.0%24.2%47.1%19.7%2.39-0.10.1%-0.9\n",
      "201327COLNL78.1.250.322.349.672.3191.5%23.3%9.3%21.4%44.6%22.3%2.000.3-0.1%8.2\n",
      "201428COLNL65.0.271.322.413.735.3512.2%25.7%5.9%27.5%46.2%19.8%2.33-1.0-0.4%2.8\n",
      "201529COLNL10.1.094.171.094.265.1580.0%37.1%5.7%86.033.3%5.3%63.2%21.1%3.000.70.5%5.4\n",
      "201630COLNL27.0.184.252.276.528.2502.8%32.7%6.5%89.437.9%20.6%61.9%11.1%5.57-1.0-0.1%4.8\n",
      "201731COLNL53.1.244.374.411.786.3103.3%25.9%16.1%85.635.5%24.1%40.1%28.5%1.410.10.0%-1.9\n",
      "201832COLNL77.2.158.270.238.509.2431.6%36.3%11.7%85.933.8%23.4%42.2%25.3%1.672.11.2%18.6\n",
      "201933NYYAL66.1.198.316.308.624.2861.8%31.1%14.1%85.131.2%21.7%40.1%28.3%1.420.60.8%13.4\n",
      "202034NYYAL18.1.270.353.419.772.3752.4%29.4%10.6%90.650.0%22.0%52.0%20.0%2.60-0.8-0.6%-4.1\n",
      "\n",
      "201832COLNLNLWCWCHC009.001000001.0211010200173.00018.00.09.018.02.00-0.22-2.9%\n",
      "201832COLNLNLDSLMIL01.0003.382010002.21110211001111.1253.40.06.83.40.50-0.21-1.9%\n",
      "201933NYYALALDSWMIN000.003000001.0100020100063.0009.00.018.09.00.50-0.05-0.4%\n",
      "201933NYYALALCSLHOU0011.575000002.16431103001153.00023.13.93.911.63.00-0.23-4.0%\n",
      "202034NYYALALWCWCLE \n",
      "202034NYYALALDSLTBR0013.501000000.2011010000031.5000.00.013.50.00.000.020.2%\n",
      "\n",
      "200620STL-minA-,A14000000000000000000SCS,DAV · NYPL,MIDW\n",
      "200721STL-minA+27000000000000000000PLM · FLOR\n",
      "200822STL-minAA241191100010006.111.111.111.222100200SPD · TL\n",
      "200923STL-minAAA27372614000200317.154.241.154.395400800MEM · PCL\n",
      "201024STL-minAAA91191200000021.222.364.222.586210000MEM · PCL\n",
      "201024STLNL5760000000015.000.143.000.143-56000000/1H\n",
      "\n",
      "201125STL-minAAA26373515000400114.143.167.143.310510100MEM · PCL\n",
      "201226COL-minAAA13000000000000000000CSP · PCL\n",
      "201226COLNL491291100000007.111.111.111.222-431003001\n",
      "201327COLNL48990100000005.111.111.111.222-421000001\n",
      "201428COLNL720000000000000000001\n",
      "201529COLNL100000000000000000001\n",
      "201630COL-minA+,AAA10000000000000000000MOD,ABQ · CALL,PCL\n",
      "201630COLNL300000000000000000001\n",
      "201731COLNL590000000000000000001\n",
      "201832COLNL700000000000000000001\n",
      "201933NYYAL50000000000000000001\n",
      "\n",
      "201024STLNL57-10001-1-0.10-1-0.1.489.500-0.10.00/1H\n",
      "\n",
      "201226COLNL4912-2000200.0000.0.500.5000.00.001\n",
      "201327COLNL489-1000100.0000.0.500.5000.00.00$491,0001\n",
      "201428COLNL7200000000.0000.0.500.5000.0-0.10$502,0001\n",
      "201529COLNL1000000000.0000.0.500.5000.00.00$1,300,0001\n",
      "201630COLNL3000000000.0000.0.500.5000.00.00$1,300,0001\n",
      "201731COLNL5900000000.0000.0.500.5000.00.00$2,100,0001\n",
      "201832COLNL7000000000.0000.0.500.5000.0-0.10$7,000,0001\n",
      "201933NYYAL500000000.0000.0.500.5000.00.00$9,000,0001\n",
      "\n",
      "201024STLNL7.101-67.000.0000.0%71.4%14.3%0.0%100.0%0.0%0.0%100.0%0.0%-0.1-0.1%-1.20%\n",
      "\n",
      "201226COLNL12.190-58.500.0000.0%58.3%0.0%0.0%20.0%0.0%0.0%80.0%20.0%-0.10.0%-2.4100%0%\n",
      "201327COLNL9.202-9.250.0000.0%55.6%0.0%25.0%75.0%0.0%50.0%50.0%0.0%-0.1-0.1%-1.00%\n",
      "\n",
      "201832COLNLNLWCCHCW10000000000000000.000.0%\n",
      "201832COLNLNLDSMILL20000000000000000.000.0%\n",
      "201933NYYALALDSMINW30000000000000000000.000.0%\n",
      "201933NYYALALCSHOUL50000000000000000000.000.0%\n",
      "202034NYYALALDSTBRL10000000000000000000.000.0%\n",
      "\n",
      "201024STLPNL53022.1431001.000-1-81.610.80.9551.731.722133%29%0\n",
      "201226COLPNL530079.015510001.000-3-81.710.28.9501.771.751616%27%0\n",
      "201327COLPNL510078.1178811.941-2-51.840.31.9641.761.7611215%28%0\n",
      "201428COLPNL750065.0826001.000001.110.11.9551.721.713125%28%0\n",
      "201529COLPNL100010.1101001.000000.870.10.9501.651.682133%28%0\n",
      "201630COLPNL340027.0330001.000001.000.09.9471.601.58200%28%0\n",
      "201731COLPNL630053.1135620.846001.860.17.9591.671.6510217%28%0\n",
      "201832COLPNL750077.2138410.923-5-131.390.16.9521.561.5524311%28%0\n",
      "201933NYYPAL730066.173311.857-4-120.810.08.9441.221.211516%27%0\n",
      "202034NYYPAL240018.1202001.000-1-110.980.08.9451.231.19400%26%0\n",
      "\n",
      "201024STLNL63555000000000010\n",
      "201226COLNL530495353000000000000\n",
      "201327COLNL510485151000000000000\n",
      "201428COLNL750727575000000000000\n",
      "201529COLNL100101010000000000000\n",
      "201630COLNL340303434000000000000\n",
      "201731COLNL630596363000000000000\n",
      "201832COLNL750707575000000000000\n",
      "201933NYYAL73057373000000000000\n",
      "202034NYYAL24002424000000000000\n",
      "\n",
      "201327Colorado Rockies$491,0001.087\n",
      "201428Colorado Rockies$502,0002.087contracts\n",
      "201529Colorado Rockies$1,300,0003.087contracts\n",
      "201630Colorado Rockies$1,300,0004.087\n",
      "201731Colorado Rockies$2,100,0005.087contracts\n",
      "201832Colorado Rockies$7,000,0006.087\n",
      "201933New York Yankees$9,000,0007.087contract\n",
      "202034New York Yankees$9,000,0008.087contract\n",
      "202135New York Yankees$9,000,0009.087$850k paid by New York Yankees\n",
      "Earliest Free Agent: 2022\n",
      "\n"
     ]
    }
   ],
   "source": [
    "Adam_Ottavino = requests.get('https://www.baseball-reference.com/players/o/ottavad01.shtml')\n",
    "soup = BeautifulSoup(Adam_Ottavino.text, 'html.parser')\n",
    "\n",
    "\n",
    "for item in soup.find_all(text=lambda text:isinstance(text, Comment)):\n",
    "    data = BeautifulSoup(item,\"html.parser\")\n",
    "    for tr in data.find_all(\"tbody\"):\n",
    "        print(tr.text)\n",
    " "
   ]
  },
  {
   "cell_type": "code",
   "execution_count": 20,
   "id": "local-certification",
   "metadata": {},
   "outputs": [
    {
     "data": {
      "text/plain": [
       "{'Adam Ottavino': '$9,000,000'}"
      ]
     },
     "execution_count": 20,
     "metadata": {},
     "output_type": "execute_result"
    }
   ],
   "source": [
    "table = []\n",
    "for item in soup.find_all(text=lambda text:isinstance(text, Comment)):\n",
    "    data = BeautifulSoup(item,\"html.parser\")\n",
    "    for tr in data.find_all(\"tr\"):\n",
    "         table.append(tr.find_all(text=True))\n",
    "     \n",
    "B = {'Adam Ottavino': table[-4][-3]}\n",
    "B\n"
   ]
  },
  {
   "cell_type": "code",
   "execution_count": 21,
   "id": "fitted-jenny",
   "metadata": {},
   "outputs": [
    {
     "data": {
      "text/plain": [
       "{'Eduardo Rodriguez': '$8,300,000', 'Adam Ottavino': '$9,000,000'}"
      ]
     },
     "execution_count": 21,
     "metadata": {},
     "output_type": "execute_result"
    }
   ],
   "source": [
    "A.update(B)\n",
    "A"
   ]
  },
  {
   "cell_type": "code",
   "execution_count": 22,
   "id": "lesbian-incentive",
   "metadata": {
    "scrolled": false
   },
   "outputs": [
    {
     "name": "stdout",
     "output_type": "stream",
     "text": [
      "2021BOS30523.4004.0555000020.01814938017001841.3008.11.43.67.72.136.2\n",
      "\n",
      "2021Proj.3089.4714.961156.01619586236711326156851.4629.31.33.97.61.9769%\n",
      "\n",
      "201221TEXAL38.0126266.164.42-0.060.08104.44.76-6-0.6.750.0-0.2-2.450.496\n",
      "201322TEXAL124.12020553.984.380.220.17102.64.4440.4-0.11.618.522.503$492,000RoY-6\n",
      "201423TEXAL51.188254.384.16-0.170.16108.94.8920.30.00.78.532.502$750,000\n",
      "201524TEXAL78.21414455.154.36-0.100.17103.74.79-4-0.40.00.34.469.497$1,000,000\n",
      "201625TEXAL198.233331104.984.610.030.19106.05.0520.2-0.12.021.505.501$2,900,000\n",
      "201726TEXAL185.032321085.254.85-0.020.21110.25.5970.7-0.12.426.522.504$4,400,000\n",
      "201827TEXAL85.12215687.174.650.050.14108.85.15-19-1.81.18-0.1-1.0-11.418.489$6,000,000\n",
      "201928MINAL165.132291045.664.730.050.2097.74.77-16-1.5.50-0.10.02.452.491$3,500,000\n",
      "202029BOSAL62.01212334.795.42-0.020.270.00102.75.8660.7-0.11.214.555.504$6,000,000\n",
      "\n",
      "201221TEXAL38.0.297.364.456.819.3361.7%14.1%8.5%20.0%48.9%25.2%1.94-0.9-0.9%-6.0\n",
      "201322TEXAL124.1.267.321.407.728.2942.8%15.9%7.0%24.0%47.7%21.7%2.190.60.4%1.5\n",
      "201423TEXAL51.1.269.340.403.743.3181.5%16.9%9.2%28.3%52.0%15.8%3.290.50.3%2.8\n",
      "201524TEXAL78.2.285.337.392.729.3260.9%14.2%7.1%88.337.7%22.3%59.5%12.5%4.76-0.6-0.8%-5.3\n",
      "201625TEXAL198.2.270.337.404.741.2902.1%12.1%8.9%89.941.8%23.8%52.2%17.9%2.93-0.20.1%-5.4\n",
      "201726TEXAL185.0.301.359.453.812.3302.8%14.2%7.8%87.235.4%28.2%46.9%18.3%2.56-0.1-0.1%-2.0\n",
      "201827TEXAL85.1.329.389.527.916.3454.0%13.1%9.1%89.442.7%24.4%50.8%17.9%2.84-2.1-0.3%-19.1\n",
      "201928MINAL165.1.279.346.439.785.3183.1%18.3%9.1%85.932.2%25.2%47.9%19.7%2.43-0.30.3%-14.0\n",
      "202029BOSAL62.0.240.330.415.744.2673.1%17.6%10.7%85.329.7%27.6%38.4%24.9%1.540.10.1%1.0\n",
      "\n",
      "201524TEXALALDSLTOR01.0007.201100005.06440312000211.80010.80.05.43.60.67-0.08-0.7%\n",
      "\n",
      "200817TEX-minA-15000000000000000000SPO · NORW\n",
      "200918TEX-minAA,A27000000000000000000FRI,HCK · TL,SALL\n",
      "201019TEX-minAA24000000000000000000FRI · TL\n",
      "201120TEX-minAA,AAA27000000000000000000FRI,RRK · TL,PCL\n",
      "201221TEX-minAAA22000000000000000000RRK · PCL\n",
      "201322TEX-minAAA,AA8000000000000000000RRK,FRI · PCL,TL\n",
      "201322TEXAL2550000000004.000.000.000.000-1000000001RoY-6\n",
      "201423TEXAL1210000000001.000.000.000.000-100000100/1\n",
      "201524TEX-minAA,AAA6000000000000000000FRI,RRK · TL,PCL\n",
      "201524TEXAL1220000000002.000.000.000.000-1000000001\n",
      "201625TEXAL2430100000001.333.333.333.667771001001\n",
      "201726TEXAL2660000000006.000.000.000.000-1000000001\n",
      "201827TEX-minAA,AAA,A3000000000000000000FRI,RRK,HCK · TL,PCL,SALL\n",
      "201827TEXAL3330000000003.000.000.000.000-1000000001\n",
      "201928MINAL3331000000002.000.000.000.000-1000000001\n",
      "\n",
      "201322TEXAL25-1000100.0000.0.503.5000.00.00$492,0001RoY-6\n",
      "201423TEXAL12-1000000.0000.0.473.5000.00.00$750,000/1\n",
      "201524TEXAL12-1000000.0000.0.470.5000.00.00$1,000,0001\n",
      "201625TEXAL240000100.0000.0.518.5000.00.00$2,900,0001\n",
      "201726TEXAL26-20001-1-0.10-1-0.1.457.499-0.10.0-1$4,400,0001\n",
      "201827TEXAL33-1000000.0000.0.487.5000.00.00$6,000,0001\n",
      "201928MINAL330000010.1010.1.523.5000.10.01$3,500,0001\n",
      "\n",
      "201322TEXAL5.181-9.000.0000.0%80.0%0.0%0.0%0.0%0.0%0.0%0.0%100.0%-0.1-0.1%-0.8\n",
      "201423TEXAL2.000-382.0000.0%50.0%0.0%0.0%0.0%0.0%0.0%100.0%0.0%-0.10.0%-0.6\n",
      "201524TEXAL2.000-144.0000.0%100.0%0.0%0.00.0%-0.4\n",
      "201625TEXAL4.26631.500.0000.0%25.0%0.0%94.40.0%0.0%66.7%0.0%33.3%33.3%33.3%0.00.0%-0.20%\n",
      "201726TEXAL6.000-146.0000.0%100.0%0.0%-0.10.0%-2.2\n",
      "201827TEXAL3.000-142.0000.0%100.0%0.0%-0.10.0%-0.8\n",
      "201928MINAL3.29679.000.0000.0%66.7%0.0%0.0%0.0%0.0%0.0%100.0%0.0%-0.1-0.1%-0.8\n",
      "\n",
      "201524TEXALALDSTORL10000000000000000000.000.0%\n",
      "\n",
      "201221TEXPAL126038.0312001.000-1-50.710.25.9531.561.561150%26%1\n",
      "201322TEXPAL20201124.12742211.963121.881.30.9571.541.532133%26%2RoY-6\n",
      "201423TEXPAL88251.1615011.000001.050.75.9501.461.4604100%27%1\n",
      "201524TEXPAL1414078.2125611.917-1-31.260.79.9541.521.51200%32%0\n",
      "201625TEXPAL33330198.23592513.971-2-21.541.03.9501.411.398327%29%0\n",
      "201726TEXPAL32320185.02761921.926221.220.78.9481.331.321583%27%1\n",
      "201827TEXPAL2215085.1817011.000-4-90.840.36.9531.311.302250%28%2\n",
      "201928MINPAL32290165.13091920.933001.520.88.9451.221.2113213%27%1\n",
      "202029BOSPAL1212062.0303001.000-1-30.440.25.9431.231.191267%26%0\n",
      "\n",
      "201221TEXAL12601212000000000000\n",
      "201322TEXAL202022020000000000000\n",
      "201423TEXAL88188000000000000\n",
      "201524TEXAL141411414000000000000\n",
      "201625TEXAL333323333000000000000\n",
      "201726TEXAL323223232000000000000\n",
      "201827TEXAL221532222000000000000\n",
      "201928MINAL322933232000000000000\n",
      "202029BOSAL121201212000000000000\n",
      "\n",
      "201322Texas Rangers$492,0000.066contracts\n",
      "201423Texas Rangers$750,0001.038contracts\n",
      "201524Texas Rangers$1,000,0002.038contracts\n",
      "201625Texas Rangers$2,900,0003.038\n",
      "201726Texas Rangers$4,400,0004.038contracts\n",
      "201827Texas Rangers$6,000,0005.038\n",
      "201928Minnesota Twins$3,500,0006.038contract$400k paid by Minnesota Twins (performance bonus)\n",
      "201928Texas Rangers$750,000Buyout of contract option\n",
      "202029Boston Red Sox$6,000,0007.038contract\n",
      "202029Minnesota Twins$500,000Buyout of contract option\n",
      "202130Boston Red Sox$4,500,0008.038\n",
      "202130Boston Red Sox$500,000Buyout of contract option\n",
      "\n",
      "202130Boston Red Sox$4,500,0008.038 \n",
      "202231Boston Red Sox*$6,000,000$6M Team Option, $500k Buyout \n",
      "Earliest Free Agent: 2022\n",
      "\n"
     ]
    }
   ],
   "source": [
    "Martin_Perez = requests.get('https://www.baseball-reference.com/players/p/perezma02.shtml')\n",
    "soup = BeautifulSoup(Martin_Perez.text, 'html.parser')\n",
    "\n",
    "\n",
    "\n",
    "for item in soup.find_all(text=lambda text:isinstance(text, Comment)):\n",
    "    data = BeautifulSoup(item,\"html.parser\")\n",
    "    for tr in data.find_all(\"tbody\"):\n",
    "        print(tr.text)"
   ]
  },
  {
   "cell_type": "code",
   "execution_count": 23,
   "id": "naked-fraud",
   "metadata": {
    "scrolled": true
   },
   "outputs": [
    {
     "data": {
      "text/plain": [
       "{'Martin Perez': '$6,000,000'}"
      ]
     },
     "execution_count": 23,
     "metadata": {},
     "output_type": "execute_result"
    }
   ],
   "source": [
    "table = []\n",
    "for item in soup.find_all(text=lambda text:isinstance(text, Comment)):\n",
    "    data = BeautifulSoup(item,\"html.parser\")\n",
    "    for tr in data.find_all(\"tr\"):\n",
    "         table.append(tr.find_all(text=True))\n",
    "     \n",
    "C = {'Martin Perez': table[-9][-3]}\n",
    "C"
   ]
  },
  {
   "cell_type": "code",
   "execution_count": 24,
   "id": "flying-berkeley",
   "metadata": {
    "scrolled": true
   },
   "outputs": [
    {
     "data": {
      "text/plain": [
       "{'Eduardo Rodriguez': '$8,300,000',\n",
       " 'Adam Ottavino': '$9,000,000',\n",
       " 'Martin Perez': '$6,000,000'}"
      ]
     },
     "execution_count": 24,
     "metadata": {},
     "output_type": "execute_result"
    }
   ],
   "source": [
    "A.update(C)\n",
    "A"
   ]
  },
  {
   "cell_type": "code",
   "execution_count": 25,
   "id": "welsh-combining",
   "metadata": {
    "scrolled": true
   },
   "outputs": [
    {
     "name": "stdout",
     "output_type": "stream",
     "text": [
      "2021BOS28412.3336.2344000013.0149914011000551.3859.70.72.87.62.757.6\n",
      "\n",
      "2021Proj.2845.4444.97176.076464213301803043321.3959.01.53.69.52.6759%\n",
      "\n",
      "201724PHINL133.02626916.164.81-0.260.2098.45.19-15-1.4-0.1-0.3-2.446.491\n",
      "201825PHINL164.03332914.994.31-0.660.18103.75.3580.92.31-0.12.220.526.505$551,000\n",
      "201926PHINL93.23013646.154.920.260.07100.74.76-13-1.3.77-0.1-0.5-6.457.492$598,000\n",
      "202027PHINL5.2301015.885.16-0.88-0.330.0098.05.60-7-0.5.420.1-0.3-6.321.497\n",
      "202027BOSAL10.02221.804.70-0.010.240.00114.05.6540.50.00.65.731.503\n",
      "\n",
      "201724PHINL133.0.281.353.492.846.3364.3%24.0%9.8%88.640.2%25.6%43.9%23.0%1.91-1.4-0.1%-23.2\n",
      "201825PHINL164.0.261.320.423.743.3333.5%27.1%7.4%88.238.8%22.7%47.0%20.5%2.29-0.2-0.1%-6.7\n",
      "201926PHINL93.2.278.350.516.866.3134.8%21.1%9.3%90.038.5%27.0%42.6%23.5%1.81-0.7-0.4%-11.5\n",
      "202027TOTMLB15.2.286.352.571.924.3265.6%23.9%8.5%91.342.6%29.8%27.7%34.0%0.810.3-0.1%-2.5\n",
      "202027PHINL5.2.385.414.9621.375.35010.3%13.8%3.5%89.139.1%34.8%26.1%30.4%0.86-0.1-0.1%-6.2\n",
      "202027BOSAL10.0.216.310.297.607.3042.4%31.0%11.9%93.445.8%25.0%29.2%37.5%0.780.40.0%3.7\n",
      "\n",
      "201320WSN-minRk,A-9000000000000000000NAT,AUB · GULF,NYPL\n",
      "201421WSN-minA26000000000000000000HGR · SALL\n",
      "201522PHI-WSN-minAA,A+25771100000005.143.143.143.286100000REA,POT,HRB · EL,CARL\n",
      "201623PHI-minAA,AAA2720151300030015.200.333.200.533302200REA,LHV · EL,IL\n",
      "201724PHI-minAAA5661110020004.167.167.333.500200000LHV · IL\n",
      "201724PHINL25484433000000021.068.068.068.136-643104001\n",
      "201825PHINL31454034100100220.100.143.125.268-275203001/H\n",
      "201926PHI-minAAA9110000000001.000.000.000.000000000LHV · IL\n",
      "201926PHINL29272512000000119.080.115.080.195-472001001\n",
      "\n",
      "201724PHINL2548-100008-3-0.30-3-0.3.488.498-0.30.0-31\n",
      "201825PHINL3145-7000700.0000.0.500.5000.00.00$551,0001/H\n",
      "201926PHINL2927-60004-1-0.10-1-0.1.497.499-0.10.0-1$598,0001\n",
      "\n",
      "201724PHINL48.081-98.130.0000.0%43.8%0.0%78.613.6%18.5%51.9%11.1%4.677.4%55.6%37.0%-0.9-0.1%-9.6100%0%\n",
      "201825PHINL45.149-44.200.0250.0%44.4%4.4%81.212.5%21.7%60.9%0.0%8.7%43.5%47.8%-0.6-0.5%-8.650%\n",
      "201926PHINL27.091-82.333.0000.0%70.4%3.7%86.525.0%0.0%71.4%0.0%0.0%57.1%42.9%-0.5-0.4%-6.233%0%\n",
      "\n",
      "201724PHIPNL26260133.0123810.917-3-50.740.42.9591.671.658538%27%2\n",
      "201825PHIPNL33320164.03091830.900111.480.82.9521.561.556754%28%0\n",
      "201926PHIPNL3013193.21697001.000-2-41.540.53.9501.601.586114%26%0\n",
      "202027TOTPMLB52015.2101001.000000.570.20.9401.321.30100%26%0\n",
      "202027PHIPNL3005.200000000.000.001.431.37000\n",
      "202027BOSPAL22010.0101001.000000.900.50.9401.261.20100%26%0\n",
      "\n",
      "201724PHINL2626252626000000000000\n",
      "201825PHINL3432313333000000000010\n",
      "201926PHINL3013293030000000000000\n",
      "202027PHINL30033000000000000\n",
      "202027BOSAL22022000000000000\n",
      "\n",
      "201825Philadelphia Phillies$551,0000.129\n",
      "201926Philadelphia Phillies$598,0001.129contract\n",
      "Earliest Arb Eligible: 2022, Earliest Free Agent: 2025\n",
      "\n"
     ]
    }
   ],
   "source": [
    "Nick_Pivetta = requests.get('https://www.baseball-reference.com/players/p/pivetni01.shtml')\n",
    "soup = BeautifulSoup(Nick_Pivetta.text, 'html.parser')\n",
    "\n",
    "\n",
    "\n",
    "for item in soup.find_all(text=lambda text:isinstance(text, Comment)):\n",
    "    data = BeautifulSoup(item,\"html.parser\")\n",
    "    for tr in data.find_all(\"tbody\"):\n",
    "        print(tr.text)"
   ]
  },
  {
   "cell_type": "code",
   "execution_count": 26,
   "id": "sixth-angle",
   "metadata": {
    "scrolled": true
   },
   "outputs": [
    {
     "data": {
      "text/plain": [
       "{'Nick Pivetta': '$1,149,000'}"
      ]
     },
     "execution_count": 26,
     "metadata": {},
     "output_type": "execute_result"
    }
   ],
   "source": [
    "table = []\n",
    "for item in soup.find_all(text=lambda text:isinstance(text, Comment)):\n",
    "    data = BeautifulSoup(item,\"html.parser\")\n",
    "    for tr in data.find_all(\"tr\"):\n",
    "         table.append(tr.find_all(text=True))\n",
    "     \n",
    "D = {'Nick Pivetta': table[10][-1]}\n",
    "D"
   ]
  },
  {
   "cell_type": "code",
   "execution_count": 27,
   "id": "hollow-villa",
   "metadata": {
    "scrolled": true
   },
   "outputs": [
    {
     "data": {
      "text/plain": [
       "{'Eduardo Rodriguez': '$8,300,000',\n",
       " 'Adam Ottavino': '$9,000,000',\n",
       " 'Martin Perez': '$6,000,000',\n",
       " 'Nick Pivetta': '$1,149,000'}"
      ]
     },
     "execution_count": 27,
     "metadata": {},
     "output_type": "execute_result"
    }
   ],
   "source": [
    "A.update(D)\n",
    "A"
   ]
  },
  {
   "cell_type": "code",
   "execution_count": 28,
   "id": "fiscal-baltimore",
   "metadata": {
    "scrolled": true
   },
   "outputs": [
    {
     "name": "stdout",
     "output_type": "stream",
     "text": [
      "2021BOS240003.186010005.22220704100251.5883.20.011.16.40.576.5\n",
      "\n",
      "2021Proj.2422.5004.28140.03521195211493031781.4007.91.14.711.02.3326%\n",
      "\n",
      "201922BOSAL30.1291185.344.87-0.15-0.26107.65.12-1-0.1.76-0.10.23.498.500\n",
      "202023BOSAL8.17022.165.13-0.01-0.320.00107.95.2130.31.070.00.34.539.502\n",
      "\n",
      "201922BOSAL30.1.231.384.342.725.4410.7%38.8%17.7%86.835.8%34.4%42.6%14.8%2.89-0.1-0.1%-0.4\n",
      "202023BOSAL8.1.161.350.161.511.2780.0%32.5%20.0%84.433.3%27.8%50.0%11.1%4.500.40.0%4.6\n",
      "\n",
      "201417BOS-minFRk14000000000000000000RSX · DOSL\n",
      "201518BOS-minFRk16000000000000000000RS2 · DOSL\n",
      "201619BOS-minA-14000000000000000000LOW · NYPL\n",
      "201720BOS-minA23000000000000000000GRV · SALL\n",
      "201821BOS-minAA,A+28000000000000000000PRT,SAL · EL,CARL\n",
      "201922BOS-minAAA,AA17000000000000000000PAW,PRT · IL,EL\n",
      "201922BOSAL20000000000000000001\n",
      "\n",
      "201922BOSAL200000000.0000.0.500.5000.00.001\n",
      "\n",
      "201922BOSPAL291030.1514011.000001.480.17.9441.221.21000\n",
      "202023BOSPAL7008.100000000.000.001.191.19000\n",
      "\n",
      "201922BOSAL29122929000000000000\n",
      "202023BOSAL70077000000000000\n",
      "\n"
     ]
    }
   ],
   "source": [
    "Darwinzon_Hernández = requests.get('https://www.baseball-reference.com/players/h/hernada02.shtml')\n",
    "soup = BeautifulSoup(Darwinzon_Hernández.text, 'html.parser')\n",
    "\n",
    "\n",
    "\n",
    "for item in soup.find_all(text=lambda text:isinstance(text, Comment)):\n",
    "    data = BeautifulSoup(item,\"html.parser\")\n",
    "    for tr in data.find_all(\"tbody\"):\n",
    "        print(tr.text)"
   ]
  },
  {
   "cell_type": "code",
   "execution_count": 29,
   "id": "informational-insider",
   "metadata": {
    "scrolled": true
   },
   "outputs": [
    {
     "data": {
      "text/plain": [
       "{'Darwinzon Hernandez': 'NaN'}"
      ]
     },
     "execution_count": 29,
     "metadata": {},
     "output_type": "execute_result"
    }
   ],
   "source": [
    "table = []\n",
    "for item in soup.find_all(text=lambda text:isinstance(text, Comment)):\n",
    "    data = BeautifulSoup(item,\"html.parser\")\n",
    "    for tr in data.find_all(\"tr\"):\n",
    "         table.append(tr.find_all(text=True))\n",
    "     \n",
    "E = {'Darwinzon Hernandez': 'NaN'}\n",
    "E"
   ]
  },
  {
   "cell_type": "code",
   "execution_count": 30,
   "id": "oriental-sucking",
   "metadata": {
    "scrolled": true
   },
   "outputs": [
    {
     "data": {
      "text/plain": [
       "{'Eduardo Rodriguez': '$8,300,000',\n",
       " 'Adam Ottavino': '$9,000,000',\n",
       " 'Martin Perez': '$6,000,000',\n",
       " 'Nick Pivetta': '$1,149,000',\n",
       " 'Darwinzon Hernandez': 'NaN'}"
      ]
     },
     "execution_count": 30,
     "metadata": {},
     "output_type": "execute_result"
    }
   ],
   "source": [
    "A.update(E)\n",
    "A"
   ]
  },
  {
   "cell_type": "code",
   "execution_count": 31,
   "id": "democratic-doctor",
   "metadata": {
    "scrolled": true
   },
   "outputs": [
    {
     "name": "stdout",
     "output_type": "stream",
     "text": [
      "2021BOS25011.5001.004010009.081100012000350.8898.00.00.012.05.7\n",
      "\n",
      "201620-0.7Alabama-BirminghamCUSANCAA2500000000000000000\n",
      "2016200.0ChathamCCBLSmr400000000000000000\n",
      "2017210.0Alabama-BirminghamCUSANCAA1700000000000000000\n",
      "2017212 Teams2 LgsRkNYY5000000000000000000\n",
      "2017211.5Yankees WestGULFRkNYY3000000000000000000\n",
      "2017210.7PulaskiAPPYRkNYY2000000000000000000\n",
      "2018223 Teams3 LgsA+-AA-ANYY23000000000000000000\n",
      "201822-2.3TrentonELAANYY2000000000000000000\n",
      "201822-0.4TampaFLORA+NYY14000000000000000000\n",
      "2018220.6CharlestonSALLANYY7000000000000000000\n",
      "201923-1.1TrentonELAANYY14000000000000000000\n",
      "\n",
      "201620Alabama-BirminghamCUSANCAAP25 4\n",
      "201620ChathamCCBLSmrP4 211001.0000.500\n",
      "201721Alabama-BirminghamCUSANCAAP17 6\n",
      "2017212 Teams2 LgsRkNYYP5313.0202001.0001.380.400\n",
      "201721Yankees WestGULFRkNYYP338.0202001.0002.250.670\n",
      "201721PulaskiAPPYRkNYYP205.0000000.000.000\n",
      "2018223 Teams3 LgsA+-A-AANYYP2321120.025101230.8801.650.967\n",
      "201822TrentonELAANYYP2110.0101001.0000.900.500\n",
      "201822TampaFLORA+NYYP141370.0157710.9331.801.006\n",
      "201822CharlestonSALLANYYP7740.093420.7781.581.001\n",
      "201923TrentonELAANYYP141470.12061220.9002.301.2945229%\n",
      "\n",
      "201620UAB BlazersConference USANCAA2016-02-192016-05-21\n",
      "201620Chatham AnglersCape Cod LeagueSmr2016-07-152016-07-31\n",
      "201721UAB BlazersConference USANCAA2017-02-172017-05-20\n",
      "201721GCL Yankees WestGulf Coast LeagueRkNYY2017-08-072017-08-18\n",
      "201721Pulaski YankeesAppalachian LeagueRkNYY2017-08-242017-08-31\n",
      "201822Charleston RiverDogsSouth Atlantic LeagueANYY2018-04-052018-05-11\n",
      "201822Trenton ThunderEastern LeagueAANYY2018-04-292018-08-18\n",
      "201822Tampa TarponsFlorida State LeagueA+NYY2018-05-182018-08-26\n",
      "201923Trenton ThunderEastern LeagueAANYY2019-04-082019-07-03\n",
      "\n"
     ]
    }
   ],
   "source": [
    "# Garrett_Whitlock https://www.baseball-reference.com/register/player.fcgi?id=whitlo000gar\n",
    "\n",
    "Garrett_Whitlock = requests.get('https://www.baseball-reference.com/register/player.fcgi?id=whitlo000gar')\n",
    "soup = BeautifulSoup(Garrett_Whitlock.text, 'html.parser')\n",
    "\n",
    "\n",
    "\n",
    "for item in soup.find_all(text=lambda text:isinstance(text, Comment)):\n",
    "    data = BeautifulSoup(item,\"html.parser\")\n",
    "    for tr in data.find_all(\"tbody\"):\n",
    "        print(tr.text)"
   ]
  },
  {
   "cell_type": "code",
   "execution_count": 32,
   "id": "indirect-strain",
   "metadata": {
    "scrolled": true
   },
   "outputs": [
    {
     "data": {
      "text/plain": [
       "{'Garrett Whitlock': 'NaN'}"
      ]
     },
     "execution_count": 32,
     "metadata": {},
     "output_type": "execute_result"
    }
   ],
   "source": [
    "table = []\n",
    "for item in soup.find_all(text=lambda text:isinstance(text, Comment)):\n",
    "    data = BeautifulSoup(item,\"html.parser\")\n",
    "    for tr in data.find_all(\"tr\"):\n",
    "         table.append(tr.find_all(text=True))\n",
    "     \n",
    "F = {'Garrett Whitlock': 'NaN'}\n",
    "F"
   ]
  },
  {
   "cell_type": "code",
   "execution_count": 33,
   "id": "stopped-hudson",
   "metadata": {
    "scrolled": true
   },
   "outputs": [
    {
     "data": {
      "text/plain": [
       "{'Eduardo Rodriguez': '$8,300,000',\n",
       " 'Adam Ottavino': '$9,000,000',\n",
       " 'Martin Perez': '$6,000,000',\n",
       " 'Nick Pivetta': '$1,149,000',\n",
       " 'Darwinzon Hernandez': 'NaN',\n",
       " 'Garrett Whitlock': 'NaN'}"
      ]
     },
     "execution_count": 33,
     "metadata": {},
     "output_type": "execute_result"
    }
   ],
   "source": [
    "A.update(F)\n",
    "\n",
    "A"
   ]
  },
  {
   "cell_type": "code",
   "execution_count": 34,
   "id": "dominican-absorption",
   "metadata": {
    "scrolled": false
   },
   "outputs": [
    {
     "name": "stdout",
     "output_type": "stream",
     "text": [
      "2021BOS314101.0006.6044000015.021111123013102671.60012.61.21.87.84.336.8\n",
      "\n",
      "2021Proj.3176.5384.612123.01226763214211257075261.3338.91.53.19.12.9858%\n",
      "\n",
      "201121LADNL34.2106143.634.25-0.050.1298.24.3430.3.540.00.65.530.502\n",
      "201222LADNL56.11010274.314.46-0.120.1795.24.5210.10.00.56.509.501\n",
      "201222MIANL63.01212324.574.27-0.430.15106.15.1430.40.00.99.532.502\n",
      "201323MIANL106.11818443.724.21-0.040.16104.94.62101.2-0.12.119.568.508$502,000\n",
      "201424MIANL199.233331074.823.91-0.190.14100.04.24-12-1.3-0.10.33.461.492$517,000\n",
      "201525NYYAL154.12727724.204.37-0.210.17101.24.8180.9-0.12.325.534.506$3,300,000\n",
      "201626NYYAL124.22421664.764.610.090.15104.54.8720.2.33-0.11.314.507.501$5,600,000\n",
      " \n",
      "201828TBRAL57.01010274.264.680.430.2194.34.2000.00.00.55.499.500$2,000,000\n",
      "201828BOSAL54.01211284.674.73-0.140.16102.45.1430.3.990.00.88.527.502\n",
      "201929BOSAL67.22312466.125.05-0.220.13100.15.41-5-0.51.08-0.10.12.478.497$17,000,000\n",
      "202030BOSAL48.199203.725.06-0.020.250.00100.75.3780.9-0.11.314.595.505$17,000,000\n",
      "\n",
      "201121LADNL34.2.230.347.320.667.2681.4%15.8%13.7%18.8%41.6%28.7%1.450.30.0%1.3\n",
      "201222TOTNL119.1.284.349.422.771.3181.9%14.8%8.9%21.1%45.5%26.1%1.74-0.5-0.2%-6.0\n",
      "201222LADNL56.1.289.344.427.771.3192.1%14.1%8.3%17.1%47.1%27.8%1.690.0-0.2%-2.1\n",
      "201222MIANL63.0.279.352.418.770.3171.8%15.4%9.5%24.6%44.1%24.6%1.79-0.50.0%-3.9\n",
      "201323MIANL106.1.249.318.363.681.2921.6%17.3%8.9%22.7%43.2%24.8%1.740.90.0%4.7\n",
      "201424MIANL199.2.282.323.409.732.3271.6%16.6%5.0%26.1%44.4%21.3%2.09-1.7-0.7%-16.3\n",
      "201525NYYAL154.1.285.339.377.716.3391.5%18.0%7.3%89.039.4%25.2%52.2%17.0%3.070.70.8%3.6\n",
      "201626NYYAL124.2.255.313.465.778.2754.4%18.5%7.6%90.544.8%22.7%49.1%22.2%2.21-0.8-0.5%-2.5\n",
      " \n",
      "201828TOTAL111.0.246.282.403.685.2883.1%22.2%4.4%88.839.7%23.6%46.2%21.1%2.190.30.2%2.2\n",
      "201828TBRAL57.0.225.254.427.682.2454.9%23.7%3.6%89.941.3%21.0%46.9%21.6%2.170.20.1%2.8\n",
      "201828BOSAL54.0.266.309.379.687.3271.3%20.8%5.2%87.838.2%26.0%45.6%20.7%2.200.10.1%-0.6\n",
      "201929BOSAL67.2.276.365.510.875.3165.3%23.2%11.6%90.942.7%24.2%44.3%26.3%1.690.0-0.1%-7.6\n",
      "202030BOSAL48.1.273.313.476.789.3394.0%26.1%3.5%88.740.0%28.7%49.3%16.2%3.050.4-0.1%7.0\n",
      "\n",
      "201828BOSALALDSWNYY101.0001.291100007.05110005000260.7146.40.00.06.40.162.1%\n",
      "201828BOSALALCSWHOU101.0002.452100007.17220205000311.2278.60.02.56.12.500.213.6%\n",
      "201828BOSALWSWLAD01.0001.133010008.03211106000280.5003.41.11.16.86.000.091.6%\n",
      "\n",
      "200818LAD-minRk7000000000000000000DGR,OGD · GULF,PION\n",
      "200919LAD-minA26000000000000000000GRL · MIDW\n",
      "201020LAD-minRk,A+20000000000000000000OGD,DGR,SBR · PION,ARIZ,CALL\n",
      "201121LAD-minAA20272435000000210.208.269.208.478500100CNG · SOUL\n",
      "201121LADNL1012111100000019.091.167.091.258-251000001\n",
      "201222LAD-minAA91053100000023.200.429.200.629100300CNG · SOUL\n",
      "201222TOTNL20363223000000120.094.121.094.215-403003001\n",
      "201222LADNL814120000000018.000.077.000.077-760001001\n",
      "201222MIANL12222023000000012.150.150.150.300-183002001\n",
      "201323MIA-minAA,A+5110000000001.000.000.000.000000000JCK,JUP · SOUL,FLOR\n",
      "201323MIANL18353112000100117.065.094.065.158-552003001\n",
      "201424MIANL32645615000000136.089.105.089.195-455007001\n",
      "201525NYYAL3551000000002.000.000.000.000-1000000001\n",
      "201626NYYAL3750000000014.000.167.000.167-490001001\n",
      "\n",
      "201828TBR-minA+,AAA4000000000000000000POE,DHM · FLOR,IL\n",
      "201828TOTAL61092100010017.111.200.111.311-101000001/H\n",
      "201828TBRAL4771100010005.143.143.143.286-201000001/H\n",
      "201828BOSAL2321000000012.000.333.000.33330000001\n",
      "201929BOS-minAAA1000000000000000000PAW · IL\n",
      "201929BOSAL1220000000001.000.000.000.000-1000000001\n",
      "\n",
      "201121LADNL1012-2000200.0000.0.499.5000.00.001\n",
      "201222LADNL814-30002-1-0.10-1-0.1.488.499-0.10.0-11\n",
      "201222MIANL1222-40003-1-0.10-1-0.1.495.500-0.10.0-11\n",
      "201323MIANL1835-60005-1-0.10-1-0.1.493.499-0.10.0-1$502,0001\n",
      "201424MIANL3264-100009-1-0.20-1-0.2.495.499-0.20.0-1$517,0001\n",
      "201525NYYAL35-100010-0.100-0.1.484.500-0.10.00$3,300,0001\n",
      "201626NYYAL37-1000100.0000.0.491.5000.00.00$5,600,0001\n",
      "\n",
      "201828TBRAL47-1000100.0000.0.497.5000.00.00$2,000,0001/H\n",
      "201828BOSAL230000000.0000.0.511.5000.00.001\n",
      "201929BOSAL12-1000000.0000.0.486.5000.00.00$17,000,0001\n",
      "\n",
      "201121LADNL12.134-41.500.0000.0%75.0%8.3%50.0%0.0%0.0%0.0%50.0%50.0%-0.20.0%-1.850%0%\n",
      "201222TOTNL36.100-84.250.0000.0%55.6%2.8%6.7%60.0%6.7%9.006.7%66.7%26.7%-0.7-0.2%-7.350%0%\n",
      "201222LADNL14.053-115.000.0000.0%57.1%7.1%20.0%60.0%0.0%20.0%80.0%0.0%-0.3-0.2%-2.40%\n",
      "201222MIANL22.130-64.375.0000.0%54.6%0.0%0.0%60.0%10.0%6.000.0%60.0%40.0%-0.40.0%-4.867%0%\n",
      "201323MIANL35.107-82.143.0000.0%48.6%2.9%5.9%52.9%11.8%4.500.0%47.1%52.9%-0.40.0%-5.433%0%\n",
      "201424MIANL64.124-68.250.0000.0%56.3%1.6%14.8%55.6%0.0%0.0%59.3%40.7%-1.3-0.7%-11.817%29%\n",
      "201525NYYAL5.000-140.000.0000.0%40.0%0.0%100.4100.0%33.3%33.3%0.0%0.0%66.7%33.3%-0.1-0.1%-1.8\n",
      "201626NYYAL7.115-84.000.0000.0%57.1%14.3%0.0%50.0%0.0%0.0%0.0%100.0%-0.1-0.1%-1.50%\n",
      "\n",
      "201828TOTAL10.149-24.500.0000.0%70.0%10.0%84.150.0%50.0%50.0%0.0%0.0%0.0%100.0%-0.10.0%-0.767%50%\n",
      "201828TBRAL7.114-48.500.0000.0%71.4%0.0%84.150.0%50.0%50.0%0.0%0.0%0.0%100.0%-0.10.0%-0.750%100%\n",
      "201828BOSAL3.23130.0000.0%66.7%33.3%0.00.0%-0.1100%0%\n",
      "201929BOSAL2.000-136.000.0000.0%50.0%0.0%29.80.0%0.0%0.0%0.0%0.0%100.0%0.0%-0.10.0%-0.90%\n",
      "\n",
      "201828BOSALALDSNYYW10000000000000000000.000.0%\n",
      "201828BOSALALCSHOUW20000000000000000000.000.0%\n",
      "201828BOSALWSLADW3220000000002.000.000.000.000000000-0.10-2.3%\n",
      "\n",
      "201121LADPNL106034.2817001.0003172.080.80.9551.791.792133%28%2\n",
      "201222TOTPNL22220119.123716011.000111.731.05.9501.771.754233%27%1\n",
      "201222LADPNL1010056.1936011.000141.440.90.9501.771.752250%27%1\n",
      "201222MIAPNL1212063.014410001.000002.001.17.9501.771.75200%27%0\n",
      "201323MIAPNL18180106.13082021.933242.371.56.9641.761.76100%28%1\n",
      "201424MIAPNL33330199.253213112.981552.341.58.9551.721.711480%28%2\n",
      "201525NYYPAL27270154.1301020021.000-2-31.751.11.9541.521.513125%32%4\n",
      "201626NYYPAL24210124.22161410.952001.440.83.9501.411.391480%29%2\n",
      "201828TOTPAL22210111.024717011.000111.951.09.9521.311.303125%28%1\n",
      "201828TBRPAL1010057.012210011.000141.891.20.9521.311.301150%28%0\n",
      "201828BOSPAL1211054.01257001.000002.001.00.9521.321.30200%28%1\n",
      "201929BOSPAL2312067.21688021.000392.130.70.9451.221.212133%27%1\n",
      "202030BOSPAL99048.1927011.0003121.681.00.9441.251.191150%26%1\n",
      "\n",
      "201121LADNL106101010000000000000\n",
      "201222MIANL1212121212000000000000\n",
      "201222LADNL101081010000000000000\n",
      "201323MIANL1818181818000000000000\n",
      "201424MIANL3333323333000000000000\n",
      "201525NYYAL272732727000000000000\n",
      "201626NYYAL242132424000000000000\n",
      "201828BOSAL121121212000000000000\n",
      "201828TBRAL111041010000000000001\n",
      "201929BOSAL231212323000000000000\n",
      "202030BOSAL99099000000000000\n",
      "\n",
      "201323Miami Marlins$502,0001.013contracts\n",
      "201424Miami Marlins$517,0002.013contracts\n",
      "201525New York Yankees$3,300,0003.013contracts\n",
      "201626New York Yankees$5,600,0004.013\n",
      "201727Tampa Bay Rays$2,000,0005.013contracts$2M paid by Tampa Bay Rays (off 40-man)\n",
      "201828Tampa Bay Rays$2,000,0006.013\n",
      "201929Boston Red Sox$17,000,0007.013contract\n",
      "202030Boston Red Sox$17,000,0008.013contract\n",
      "202131Boston Red Sox$17,000,0009.013\n",
      "\n",
      "202232Boston Red Sox$17,000,000 \n",
      "Earliest Free Agent: 2023\n",
      "\n"
     ]
    }
   ],
   "source": [
    "# Nathan_Eovaldi https://www.baseball-reference.com/players/e/eovalna01.shtml\n",
    "\n",
    "Nathan_Eovaldi = requests.get('https://www.baseball-reference.com/players/e/eovalna01.shtml')\n",
    "soup = BeautifulSoup(Nathan_Eovaldi.text, 'html.parser')\n",
    "\n",
    "\n",
    "\n",
    "for item in soup.find_all(text=lambda text:isinstance(text, Comment)):\n",
    "    data = BeautifulSoup(item,\"html.parser\")\n",
    "    for tr in data.find_all(\"tbody\"):\n",
    "        print(tr.text)"
   ]
  },
  {
   "cell_type": "code",
   "execution_count": 35,
   "id": "oriented-failure",
   "metadata": {
    "scrolled": true
   },
   "outputs": [
    {
     "data": {
      "text/plain": [
       "{'Nathan Eovaldi': '$17,000,000'}"
      ]
     },
     "execution_count": 35,
     "metadata": {},
     "output_type": "execute_result"
    }
   ],
   "source": [
    "table = []\n",
    "for item in soup.find_all(text=lambda text:isinstance(text, Comment)):\n",
    "    data = BeautifulSoup(item,\"html.parser\")\n",
    "    for tr in data.find_all(\"tr\"):\n",
    "         table.append(tr.find_all(text=True))\n",
    "     \n",
    "G = {'Nathan Eovaldi': table[-6][-3]}\n",
    "G"
   ]
  },
  {
   "cell_type": "code",
   "execution_count": 36,
   "id": "surgical-generation",
   "metadata": {
    "scrolled": false
   },
   "outputs": [
    {
     "data": {
      "text/plain": [
       "{'Eduardo Rodriguez': '$8,300,000',\n",
       " 'Adam Ottavino': '$9,000,000',\n",
       " 'Martin Perez': '$6,000,000',\n",
       " 'Nick Pivetta': '$1,149,000',\n",
       " 'Darwinzon Hernandez': 'NaN',\n",
       " 'Garrett Whitlock': 'NaN',\n",
       " 'Nathan Eovaldi': '$17,000,000'}"
      ]
     },
     "execution_count": 36,
     "metadata": {},
     "output_type": "execute_result"
    }
   ],
   "source": [
    "A.update(G)\n",
    "A"
   ]
  },
  {
   "cell_type": "code",
   "execution_count": 37,
   "id": "middle-fashion",
   "metadata": {
    "scrolled": false
   },
   "outputs": [
    {
     "name": "stdout",
     "output_type": "stream",
     "text": [
      "2021BOS33421.6675.9344000013.21199111014001601.6107.20.77.29.21.277.1\n",
      "\n",
      "2021Proj.3367.4624.462123.01146761185111235095271.3418.31.33.79.02.4147%\n",
      "\n",
      "201123LAAAL14.073117.074.920.230.0598.54.67-4-0.4.760.0-0.2-2.446.498\n",
      "201224LAAAL71.0309465.834.370.290.0494.03.88-15-1.61.21-0.1-0.9-8.448.490\n",
      "201325LAAAL145.04717734.534.40-0.480.0392.54.54-3-0.3.92-0.21.014.494.498$495,000\n",
      "201426LAAAL168.22626512.724.13-0.070.1694.74.13242.9-0.14.442.611.518$520,000\n",
      "201527LAAAL207.13232944.084.36-0.010.1794.04.2610.1-0.12.024.504.501$3,200,000\n",
      "201628LAAAL34.266164.154.590.200.1895.34.3610.10.00.44.514.501$6,425,000\n",
      "201729LAAAL27.26682.605.190.300.2291.64.6860.70.01.09.615.504$6,850,000\n",
      "201830LAAAL76.11616435.074.600.260.2197.44.42-5-0.50.00.22.468.497$7,300,000\n",
      "201931SDPNL8.23388.314.800.140.2198.94.82-3-0.30.0-0.2-3.400.498$7,000,000\n",
      "202032SDPNL51.11410234.035.200.180.190.0094.94.9550.5.37-0.10.910.534.503$8,500,000\n",
      "\n",
      "201123LAAAL14.0.291.371.618.989.2866.5%14.5%11.3%32.6%43.5%19.6%2.22-0.5-0.8%-4.5\n",
      "201224LAAAL71.0.280.361.433.793.3112.2%14.8%10.7%15.0%45.7%29.1%1.57-1.2-1.0%-10.9\n",
      "201325LAAAL145.0.269.321.377.699.3081.9%16.3%7.1%21.1%56.9%16.5%3.45-0.8-0.3%-5.8\n",
      "201426LAAAL168.2.201.268.261.529.2640.7%24.2%7.5%24.3%51.5%18.6%2.762.11.3%24.5\n",
      "201527LAAAL207.1.236.305.359.664.2772.3%20.4%8.8%87.335.0%21.9%54.4%15.1%3.600.1-0.2%2.1\n",
      "201628LAAAL34.2.238.322.362.683.3091.4%23.0%10.1%89.344.0%31.6%44.9%16.3%2.75-0.2-0.1%1.8\n",
      "201729LAAAL27.2.180.234.260.494.2360.9%25.0%6.5%86.032.8%27.0%54.1%13.5%4.000.40.3%4.2\n",
      "201830LAAAL76.1.222.307.382.688.2793.4%26.9%10.5%91.044.6%25.2%50.0%15.8%3.16-0.4-0.1%-5.2\n",
      "201931SDPNL8.2.294.400.6761.076.3814.9%26.8%14.6%88.945.5%25.0%41.7%20.8%2.00-0.50.0%-4.5\n",
      "202032SDPNL51.1.244.310.415.724.2843.3%21.6%8.0%89.535.4%31.8%40.5%20.3%2.000.70.3%6.2\n",
      "\n",
      "202032SDPNLNLWCWSTL000.002000001.1000000100040.0000.00.00.06.80.040.3%\n",
      "202032SDPNLNLDSLLAD01.00013.502000001.1122020300182.2506.80.013.520.31.50-0.21-2.0%\n",
      "\n",
      "200921LAA-minRk8000000000000000000ORM · PION\n",
      "201022LAA-minA,A+26000000000000000000CDR,RCU · MIDW,CALL\n",
      "201123LAA-minAA22000000000000000000ARK · TL\n",
      "201224LAA-minAAA14000000000000000000SLK · PCL\n",
      "201224LAAAL1220000000001.000.000.000.000-1000000001\n",
      "201325LAAAL40000000000000000001\n",
      "201426LAAAL411110000000004.000.000.000.000-1000100001\n",
      "\n",
      "201527LAA-minAAA1000000000000000000SLK · PCL\n",
      "201729LAA-minAAA1000000000000000000SLK · PCL\n",
      "201830LAA-minA+1000000000000000000SBR · CALL\n",
      "201931SDP-minRk,A+5000000000000000000PDS,PD2,LEL · ARIZ,CALL\n",
      "201931SDPNL3320000000001.000.000.000.000-100000100/1\n",
      "\n",
      "201224LAAAL12-10000-1-0.10-1-0.1.450.500-0.10.0-11\n",
      "201325LAAAL400000000.0000.0.500.5000.00.00$495,0001\n",
      "201426LAAAL411-30002-1-0.20-1-0.2.460.499-0.20.0-1$520,0001\n",
      "\n",
      "201931SDPNL33-1000000.0000.0.488.5000.00.00$7,000,000/1\n",
      "\n",
      "201224LAAAL2.000-132.000.0000.0%50.0%0.0%0.0%100.0%0.0%0.0%100.0%0.0%-0.1-0.1%-1.2\n",
      "\n",
      "201426LAAAL11.000-132.000.0000.0%36.4%0.0%0.0%71.4%14.3%5.0014.3%57.1%28.6%-0.3-0.2%-3.6\n",
      "\n",
      "201931SDPNL3.000-251.000.0000.0%33.3%0.0%0.0%50.0%0.0%0.0%100.0%0.0%-0.10.0%-0.7\n",
      "\n",
      "202032SDPNLNLWCSTLW20000000000000000000.000.0%\n",
      "202032SDPNLNLDSLADL20000000000000000000.000.0%\n",
      "\n",
      "201123LAAPAL73014.0523001.0001143.210.71.9481.611.591150%28%1\n",
      "201224LAAPAL309071.071510.857-2-60.760.20.9541.571.568220%25%0\n",
      "201325LAAPAL47171145.039162121.949002.300.79.9571.541.5310533%26%0\n",
      "201426LAAPAL26261168.226101330.885001.230.88.9501.461.4610323%27%0\n",
      "201527LAAPAL32321207.149172932.939-3-32.001.44.9541.521.516545%32%1\n",
      "201628LAAPAL66034.270520.714-1-61.300.83.9501.401.384120%29%0\n",
      "201729LAAPAL66027.2844001.000002.601.33.9481.331.32000\n",
      "201830LAAPAL1616076.183410.875130.830.44.9531.311.301267%28%0\n",
      "201931SDPPNL3308.2101001.000001.040.33.9501.561.57000\n",
      "202032SDPPNL1410051.11073001.000001.750.71.9431.461.382133%24%1\n",
      "\n",
      "201123LAAAL73077000000000000\n",
      "201224LAAAL30913030000000000000\n",
      "201325LAAAL471744747000000000000\n",
      "201426LAAAL262642626000000000000\n",
      "201527LAAAL323203232000000000000\n",
      "201628LAAAL66066000000000000\n",
      "201729LAAAL66066000000000000\n",
      "201830LAAAL161601616000000000000\n",
      "201931SDPNL33333000000000000\n",
      "202032SDPNL141001414000000000000\n",
      "\n",
      "201325Los Angeles Angels of Anaheim$495,0000.148contracts\n",
      "201426Los Angeles Angels of Anaheim$520,0001.148contracts\n",
      "201527Los Angeles Angels of Anaheim$3,200,0002.148contracts\n",
      "201628Los Angeles Angels$6,425,0003.148\n",
      "201729Los Angeles Angels$6,850,0004.148contracts\n",
      "201830Los Angeles Angels$7,300,0005.148\n",
      "201931San Diego Padres$7,000,0006.148contract\n",
      "202032San Diego Padres$8,500,0007.148contract\n",
      "202133Boston Red Sox$8,500,0008.148\n",
      "\n",
      "202234Boston Red Sox*$10,000,000$10M Team Option, $1.5M Buyout option and buyout values may increase based on 2021 performance\n",
      "Earliest Free Agent: 2022\n",
      "\n"
     ]
    }
   ],
   "source": [
    "# Garrett_Richards https://www.baseball-reference.com/players/r/richaga01.shtml\n",
    "\n",
    "Garrett_Richards = requests.get('https://www.baseball-reference.com/players/r/richaga01.shtml')\n",
    "soup = BeautifulSoup(Garrett_Richards.text, 'html.parser')\n",
    "\n",
    "\n",
    "\n",
    "for item in soup.find_all(text=lambda text:isinstance(text, Comment)):\n",
    "    data = BeautifulSoup(item,\"html.parser\")\n",
    "    for tr in data.find_all(\"tbody\"):\n",
    "        print(tr.text)"
   ]
  },
  {
   "cell_type": "code",
   "execution_count": 38,
   "id": "cutting-publication",
   "metadata": {},
   "outputs": [
    {
     "data": {
      "text/plain": [
       "{'Garrett Richards': '$8,500,000'}"
      ]
     },
     "execution_count": 38,
     "metadata": {},
     "output_type": "execute_result"
    }
   ],
   "source": [
    "table = []\n",
    "for item in soup.find_all(text=lambda text:isinstance(text, Comment)):\n",
    "    data = BeautifulSoup(item,\"html.parser\")\n",
    "    for tr in data.find_all(\"tr\"):\n",
    "         table.append(tr.find_all(text=True))\n",
    "     \n",
    "H = {'Garrett Richards': table[-6][-3]}\n",
    "H"
   ]
  },
  {
   "cell_type": "code",
   "execution_count": 39,
   "id": "bright-entrance",
   "metadata": {
    "scrolled": true
   },
   "outputs": [
    {
     "data": {
      "text/plain": [
       "{'Eduardo Rodriguez': '$8,300,000',\n",
       " 'Adam Ottavino': '$9,000,000',\n",
       " 'Martin Perez': '$6,000,000',\n",
       " 'Nick Pivetta': '$1,149,000',\n",
       " 'Darwinzon Hernandez': 'NaN',\n",
       " 'Garrett Whitlock': 'NaN',\n",
       " 'Nathan Eovaldi': '$17,000,000',\n",
       " 'Garrett Richards': '$8,500,000'}"
      ]
     },
     "execution_count": 39,
     "metadata": {},
     "output_type": "execute_result"
    }
   ],
   "source": [
    "A.update(H)\n",
    "A"
   ]
  },
  {
   "cell_type": "code",
   "execution_count": 40,
   "id": "invalid-conversation",
   "metadata": {
    "scrolled": true
   },
   "outputs": [
    {
     "data": {
      "text/plain": [
       "{'Eduardo Rodriguez': '$8,300,000',\n",
       " 'Adam Ottavino': '$9,000,000',\n",
       " 'Martin Perez': '$6,000,000',\n",
       " 'Nick Pivetta': '$1,149,000',\n",
       " 'Darwinzon Hernandez': 'NaN',\n",
       " 'Garrett Whitlock': 'NaN',\n",
       " 'Nathan Eovaldi': '$17,000,000',\n",
       " 'Garrett Richards': '$8,500,000',\n",
       " 'Austin Brice': 'NaN'}"
      ]
     },
     "execution_count": 40,
     "metadata": {},
     "output_type": "execute_result"
    }
   ],
   "source": [
    "# Austin_Brice https://www.baseball-reference.com/players/b/briceau01.shtml\n",
    "\n",
    "\n",
    "Austin_Brice = requests.get('https://www.baseball-reference.com/players/b/briceau01.shtml')\n",
    "soup = BeautifulSoup(Austin_Brice.text, 'html.parser')\n",
    "\n",
    "\n",
    "table = []\n",
    "for item in soup.find_all(text=lambda text:isinstance(text, Comment)):\n",
    "    data = BeautifulSoup(item,\"html.parser\")\n",
    "    for tr in data.find_all(\"tr\"):\n",
    "         table.append(tr.find_all(text=True))\n",
    "     \n",
    "I = {'Austin Brice': 'NaN'}\n",
    "I\n",
    "\n",
    "A.update(I)\n",
    "A"
   ]
  },
  {
   "cell_type": "code",
   "execution_count": 41,
   "id": "portable-express",
   "metadata": {
    "scrolled": true
   },
   "outputs": [
    {
     "data": {
      "text/plain": [
       "{'Eduardo Rodriguez': '$8,300,000',\n",
       " 'Adam Ottavino': '$9,000,000',\n",
       " 'Martin Perez': '$6,000,000',\n",
       " 'Nick Pivetta': '$1,149,000',\n",
       " 'Darwinzon Hernandez': 'NaN',\n",
       " 'Garrett Whitlock': 'NaN',\n",
       " 'Nathan Eovaldi': '$17,000,000',\n",
       " 'Garrett Richards': 'NaN',\n",
       " 'Austin Brice': 'NaN'}"
      ]
     },
     "execution_count": 41,
     "metadata": {},
     "output_type": "execute_result"
    }
   ],
   "source": [
    "# Colten_Brewer https://www.baseball-reference.com/players/b/breweco01.shtml\n",
    "\n",
    "\n",
    "Colten_Brewer = requests.get('https://www.baseball-reference.com/players/b/breweco01.shtml')\n",
    "soup = BeautifulSoup(Colten_Brewer.text, 'html.parser')\n",
    "\n",
    "\n",
    "table = []\n",
    "for item in soup.find_all(text=lambda text:isinstance(text, Comment)):\n",
    "    data = BeautifulSoup(item,\"html.parser\")\n",
    "    for tr in data.find_all(\"tr\"):\n",
    "         table.append(tr.find_all(text=True))\n",
    "     \n",
    "J = {'Garrett Richards': 'NaN'}\n",
    "J\n",
    "\n",
    "A.update(J)\n",
    "A\n"
   ]
  },
  {
   "cell_type": "code",
   "execution_count": 42,
   "id": "renewable-thanks",
   "metadata": {},
   "outputs": [
    {
     "data": {
      "text/plain": [
       "{'Eduardo Rodriguez': '$8,300,000',\n",
       " 'Adam Ottavino': '$9,000,000',\n",
       " 'Martin Perez': '$6,000,000',\n",
       " 'Nick Pivetta': '$1,149,000',\n",
       " 'Darwinzon Hernandez': 'NaN',\n",
       " 'Garrett Whitlock': 'NaN',\n",
       " 'Nathan Eovaldi': '$17,000,000',\n",
       " 'Garrett Richards': 'NaN',\n",
       " 'Austin Brice': 'NaN'}"
      ]
     },
     "execution_count": 42,
     "metadata": {},
     "output_type": "execute_result"
    }
   ],
   "source": [
    "# Colten_Brewer https://www.baseball-reference.com/players/b/breweco01.shtml\n",
    "\n",
    "\n",
    "Colten_Brewer = requests.get('https://www.baseball-reference.com/players/b/breweco01.shtml')\n",
    "soup = BeautifulSoup(Colten_Brewer.text, 'html.parser')\n",
    "\n",
    "\n",
    "table = []\n",
    "for item in soup.find_all(text=lambda text:isinstance(text, Comment)):\n",
    "    data = BeautifulSoup(item,\"html.parser\")\n",
    "    for tr in data.find_all(\"tr\"):\n",
    "         table.append(tr.find_all(text=True))\n",
    "     \n",
    "J = {'Garrett Richards': 'NaN'}\n",
    "J\n",
    "\n",
    "A.update(J)\n",
    "A"
   ]
  },
  {
   "cell_type": "code",
   "execution_count": 43,
   "id": "fancy-pickup",
   "metadata": {
    "scrolled": true
   },
   "outputs": [
    {
     "data": {
      "text/plain": [
       "{'Eduardo Rodriguez': '$8,300,000',\n",
       " 'Adam Ottavino': '$9,000,000',\n",
       " 'Martin Perez': '$6,000,000',\n",
       " 'Nick Pivetta': '$1,149,000',\n",
       " 'Darwinzon Hernandez': 'NaN',\n",
       " 'Garrett Whitlock': 'NaN',\n",
       " 'Nathan Eovaldi': '$17,000,000',\n",
       " 'Garrett Richards': 'NaN',\n",
       " 'Austin Brice': 'NaN',\n",
       " 'Ryan Brasier': 'NaN'}"
      ]
     },
     "execution_count": 43,
     "metadata": {},
     "output_type": "execute_result"
    }
   ],
   "source": [
    "# Ryan_Brasier https://www.baseball-reference.com/players/b/brasiry01.shtml\n",
    "\n",
    "Ryan_Brasier = requests.get('https://www.baseball-reference.com/players/b/breweco01.shtml')\n",
    "soup = BeautifulSoup(Ryan_Brasier.text, 'html.parser')\n",
    "\n",
    "\n",
    "table = []\n",
    "for item in soup.find_all(text=lambda text:isinstance(text, Comment)):\n",
    "    data = BeautifulSoup(item,\"html.parser\")\n",
    "    for tr in data.find_all(\"tr\"):\n",
    "         table.append(tr.find_all(text=True))\n",
    "     \n",
    "K = {'Ryan Brasier': 'NaN'}\n",
    "K\n",
    "\n",
    "A.update(K)\n",
    "A"
   ]
  },
  {
   "cell_type": "code",
   "execution_count": 44,
   "id": "exotic-station",
   "metadata": {
    "scrolled": true
   },
   "outputs": [
    {
     "data": {
      "text/plain": [
       "{'Eduardo Rodriguez': '$8,300,000',\n",
       " 'Adam Ottavino': '$9,000,000',\n",
       " 'Martin Perez': '$6,000,000',\n",
       " 'Nick Pivetta': '$1,149,000',\n",
       " 'Darwinzon Hernandez': 'NaN',\n",
       " 'Garrett Whitlock': 'NaN',\n",
       " 'Nathan Eovaldi': '$17,000,000',\n",
       " 'Garrett Richards': 'NaN',\n",
       " 'Austin Brice': 'NaN',\n",
       " 'Ryan Brasier': 'NaN'}"
      ]
     },
     "execution_count": 44,
     "metadata": {},
     "output_type": "execute_result"
    }
   ],
   "source": [
    "# Ryan_Brasier https://www.baseball-reference.com/players/b/brasiry01.shtml\n",
    "\n",
    "Ryan_Brasier = requests.get('https://www.baseball-reference.com/players/b/breweco01.shtml')\n",
    "soup = BeautifulSoup(Ryan_Brasier.text, 'html.parser')\n",
    "\n",
    "\n",
    "table = []\n",
    "for item in soup.find_all(text=lambda text:isinstance(text, Comment)):\n",
    "    data = BeautifulSoup(item,\"html.parser\")\n",
    "    for tr in data.find_all(\"tr\"):\n",
    "         table.append(tr.find_all(text=True))\n",
    "     \n",
    "K = {'Ryan Brasier': 'NaN'}\n",
    "K\n",
    "\n",
    "A.update(K)\n",
    "A"
   ]
  },
  {
   "cell_type": "code",
   "execution_count": 45,
   "id": "checked-processor",
   "metadata": {
    "scrolled": true
   },
   "outputs": [
    {
     "data": {
      "text/plain": [
       "{'Eduardo Rodriguez': '$8,300,000',\n",
       " 'Adam Ottavino': '$9,000,000',\n",
       " 'Martin Perez': '$6,000,000',\n",
       " 'Nick Pivetta': '$1,149,000',\n",
       " 'Darwinzon Hernandez': 'NaN',\n",
       " 'Garrett Whitlock': 'NaN',\n",
       " 'Nathan Eovaldi': '$17,000,000',\n",
       " 'Garrett Richards': 'NaN',\n",
       " 'Austin Brice': 'NaN',\n",
       " 'Ryan Brasier': 'NaN',\n",
       " 'Hirokazu Sawamura': 'NaN'}"
      ]
     },
     "execution_count": 45,
     "metadata": {},
     "output_type": "execute_result"
    }
   ],
   "source": [
    "# Hirokazu_Sawamura https://www.baseball-reference.com/register/player.fcgi?id=sawamu000hir\n",
    "\n",
    "Hirokazu_Sawamura = requests.get('https://www.baseball-reference.com/register/player.fcgi?id=sawamu000hir')\n",
    "soup = BeautifulSoup(Hirokazu_Sawamura.text, 'html.parser')\n",
    "\n",
    "\n",
    "table = []\n",
    "for item in soup.find_all(text=lambda text:isinstance(text, Comment)):\n",
    "    data = BeautifulSoup(item,\"html.parser\")\n",
    "    for tr in data.find_all(\"tr\"):\n",
    "         table.append(tr.find_all(text=True))\n",
    "     \n",
    "L = {'Hirokazu Sawamura': 'NaN'}\n",
    "L\n",
    "\n",
    "A.update(L)\n",
    "A"
   ]
  },
  {
   "cell_type": "code",
   "execution_count": 46,
   "id": "civic-cleaners",
   "metadata": {
    "scrolled": true
   },
   "outputs": [
    {
     "data": {
      "text/plain": [
       "{'Eduardo Rodriguez': '$8,300,000',\n",
       " 'Adam Ottavino': '$9,000,000',\n",
       " 'Martin Perez': '$6,000,000',\n",
       " 'Nick Pivetta': '$1,149,000',\n",
       " 'Darwinzon Hernandez': 'NaN',\n",
       " 'Garrett Whitlock': 'NaN',\n",
       " 'Nathan Eovaldi': '$17,000,000',\n",
       " 'Garrett Richards': 'NaN',\n",
       " 'Austin Brice': 'NaN',\n",
       " 'Ryan Brasier': 'NaN',\n",
       " 'Hirokazu Sawamura': 'NaN',\n",
       " 'Josh Taylor': 'NaN'}"
      ]
     },
     "execution_count": 46,
     "metadata": {},
     "output_type": "execute_result"
    }
   ],
   "source": [
    "# Josh_Taylor https://www.baseball-reference.com/players/t/taylojo02.shtml\n",
    "\n",
    "Josh_Taylor = requests.get('https://www.baseball-reference.com/players/t/taylojo02.shtml')\n",
    "soup = BeautifulSoup(Josh_Taylor.text, 'html.parser')\n",
    "\n",
    "\n",
    "table = []\n",
    "for item in soup.find_all(text=lambda text:isinstance(text, Comment)):\n",
    "    data = BeautifulSoup(item,\"html.parser\")\n",
    "    for tr in data.find_all(\"tr\"):\n",
    "         table.append(tr.find_all(text=True))\n",
    "     \n",
    "M = {'Josh Taylor': 'NaN'}\n",
    "M\n",
    "\n",
    "A.update(M)\n",
    "A"
   ]
  },
  {
   "cell_type": "code",
   "execution_count": 47,
   "id": "private-exploration",
   "metadata": {
    "scrolled": true
   },
   "outputs": [
    {
     "data": {
      "text/plain": [
       "{'Eduardo Rodriguez': '$8,300,000',\n",
       " 'Adam Ottavino': '$9,000,000',\n",
       " 'Martin Perez': '$6,000,000',\n",
       " 'Nick Pivetta': '$1,149,000',\n",
       " 'Darwinzon Hernandez': 'NaN',\n",
       " 'Garrett Whitlock': 'NaN',\n",
       " 'Nathan Eovaldi': '$17,000,000',\n",
       " 'Garrett Richards': 'NaN',\n",
       " 'Austin Brice': 'NaN',\n",
       " 'Ryan Brasier': 'NaN',\n",
       " 'Hirokazu Sawamura': 'NaN',\n",
       " 'Josh Taylor': 'NaN',\n",
       " 'JD Martinez': '$23,750,000'}"
      ]
     },
     "execution_count": 47,
     "metadata": {},
     "output_type": "execute_result"
    }
   ],
   "source": [
    "# JD_Martinez https://www.baseball-reference.com/players/m/martijd02.shtml\n",
    "\n",
    "JD_Martinez = requests.get('https://www.baseball-reference.com/players/m/martijd02.shtml')\n",
    "soup = BeautifulSoup(JD_Martinez.text, 'html.parser')\n",
    "\n",
    "\n",
    "table = []\n",
    "for item in soup.find_all(text=lambda text:isinstance(text, Comment)):\n",
    "    data = BeautifulSoup(item,\"html.parser\")\n",
    "    for tr in data.find_all(\"tr\"):\n",
    "         table.append(tr.find_all(text=True))\n",
    "     \n",
    "N = {'JD Martinez': table[-6][-3]}\n",
    "N\n",
    "\n",
    "A.update(N)\n",
    "A\n"
   ]
  },
  {
   "cell_type": "code",
   "execution_count": 48,
   "id": "blond-receptor",
   "metadata": {},
   "outputs": [
    {
     "data": {
      "text/plain": [
       "{'Eduardo Rodriguez': '$8,300,000',\n",
       " 'Adam Ottavino': '$9,000,000',\n",
       " 'Martin Perez': '$6,000,000',\n",
       " 'Nick Pivetta': '$1,149,000',\n",
       " 'Darwinzon Hernandez': 'NaN',\n",
       " 'Garrett Whitlock': 'NaN',\n",
       " 'Nathan Eovaldi': '$17,000,000',\n",
       " 'Garrett Richards': 'NaN',\n",
       " 'Austin Brice': 'NaN',\n",
       " 'Ryan Brasier': 'NaN',\n",
       " 'Hirokazu Sawamura': 'NaN',\n",
       " 'Josh Taylor': 'NaN',\n",
       " 'JD Martinez': '$23,750,000'}"
      ]
     },
     "execution_count": 48,
     "metadata": {},
     "output_type": "execute_result"
    }
   ],
   "source": [
    "# JD_Martinez https://www.baseball-reference.com/players/m/martijd02.shtml\n",
    "\n",
    "JD_Martinez = requests.get('https://www.baseball-reference.com/players/m/martijd02.shtml')\n",
    "soup = BeautifulSoup(JD_Martinez.text, 'html.parser')\n",
    "\n",
    "\n",
    "table = []\n",
    "for item in soup.find_all(text=lambda text:isinstance(text, Comment)):\n",
    "    data = BeautifulSoup(item,\"html.parser\")\n",
    "    for tr in data.find_all(\"tr\"):\n",
    "         table.append(tr.find_all(text=True))\n",
    "     \n",
    "N = {'JD Martinez': table[-6][-3]}\n",
    "N\n",
    "\n",
    "A.update(N)\n",
    "A\n"
   ]
  },
  {
   "cell_type": "code",
   "execution_count": 49,
   "id": "lined-transport",
   "metadata": {
    "scrolled": true
   },
   "outputs": [
    {
     "data": {
      "text/plain": [
       "{'Eduardo Rodriguez': '$8,300,000',\n",
       " 'Adam Ottavino': '$9,000,000',\n",
       " 'Martin Perez': '$6,000,000',\n",
       " 'Nick Pivetta': '$1,149,000',\n",
       " 'Darwinzon Hernandez': 'NaN',\n",
       " 'Garrett Whitlock': 'NaN',\n",
       " 'Nathan Eovaldi': '$17,000,000',\n",
       " 'Garrett Richards': 'NaN',\n",
       " 'Austin Brice': 'NaN',\n",
       " 'Ryan Brasier': 'NaN',\n",
       " 'Hirokazu Sawamura': 'NaN',\n",
       " 'Josh Taylor': 'NaN',\n",
       " 'JD Martinez': '$23,750,000',\n",
       " 'Matt Barnes': '$3,100,000'}"
      ]
     },
     "execution_count": 49,
     "metadata": {},
     "output_type": "execute_result"
    }
   ],
   "source": [
    "# Matt_Barnes https://www.baseball-reference.com/players/b/barnema01.shtml\n",
    "\n",
    "Matt_Barnes = requests.get('https://www.baseball-reference.com/players/b/barnema01.shtml')\n",
    "soup = BeautifulSoup(Matt_Barnes.text, 'html.parser')\n",
    "\n",
    "\n",
    "table = []\n",
    "for item in soup.find_all(text=lambda text:isinstance(text, Comment)):\n",
    "    data = BeautifulSoup(item,\"html.parser\")\n",
    "    for tr in data.find_all(\"tr\"):\n",
    "         table.append(tr.find_all(text=True))\n",
    "     \n",
    "O = {'Matt Barnes': table[-4][-3]}\n",
    "O\n",
    "\n",
    "\n",
    "A.update(O)\n",
    "A"
   ]
  },
  {
   "cell_type": "code",
   "execution_count": 50,
   "id": "natural-volunteer",
   "metadata": {
    "scrolled": true
   },
   "outputs": [
    {
     "data": {
      "text/plain": [
       "{'Eduardo Rodriguez': '$8,300,000',\n",
       " 'Adam Ottavino': '$9,000,000',\n",
       " 'Martin Perez': '$6,000,000',\n",
       " 'Nick Pivetta': '$1,149,000',\n",
       " 'Darwinzon Hernandez': 'NaN',\n",
       " 'Garrett Whitlock': 'NaN',\n",
       " 'Nathan Eovaldi': '$17,000,000',\n",
       " 'Garrett Richards': 'NaN',\n",
       " 'Austin Brice': 'NaN',\n",
       " 'Ryan Brasier': 'NaN',\n",
       " 'Hirokazu Sawamura': 'NaN',\n",
       " 'Josh Taylor': 'NaN',\n",
       " 'JD Martinez': '$23,750,000',\n",
       " 'Matt Barnes': '$3,100,000',\n",
       " 'Phillips Valdez': 'NaN'}"
      ]
     },
     "execution_count": 50,
     "metadata": {},
     "output_type": "execute_result"
    }
   ],
   "source": [
    "# Phillips_Valdéz https://www.baseball-reference.com/players/v/valdeph01.shtml\n",
    "\n",
    "Phillips_Valdez = requests.get('https://www.baseball-reference.com/players/v/valdeph01.shtml')\n",
    "soup = BeautifulSoup(Phillips_Valdez.text, 'html.parser')\n",
    "\n",
    "\n",
    "table = []\n",
    "for item in soup.find_all(text=lambda text:isinstance(text, Comment)):\n",
    "    data = BeautifulSoup(item,\"html.parser\")\n",
    "    for tr in data.find_all(\"tr\"):\n",
    "         table.append(tr.find_all(text=True))\n",
    "     \n",
    "P = {'Phillips Valdez': 'NaN'}\n",
    "P\n",
    "\n",
    "A.update(P)\n",
    "A"
   ]
  },
  {
   "cell_type": "code",
   "execution_count": 51,
   "id": "focal-english",
   "metadata": {},
   "outputs": [
    {
     "data": {
      "text/plain": [
       "{'Eduardo Rodriguez': '$8,300,000',\n",
       " 'Adam Ottavino': '$9,000,000',\n",
       " 'Martin Perez': '$6,000,000',\n",
       " 'Nick Pivetta': '$1,149,000',\n",
       " 'Darwinzon Hernandez': 'NaN',\n",
       " 'Garrett Whitlock': 'NaN',\n",
       " 'Nathan Eovaldi': '$17,000,000',\n",
       " 'Garrett Richards': 'NaN',\n",
       " 'Austin Brice': 'NaN',\n",
       " 'Ryan Brasier': 'NaN',\n",
       " 'Hirokazu Sawamura': 'NaN',\n",
       " 'Josh Taylor': 'NaN',\n",
       " 'JD Martinez': '$23,750,000',\n",
       " 'Matt Barnes': '$3,100,000',\n",
       " 'Phillips Valdez': 'NaN',\n",
       " 'Matt Andriese': 'NaN'}"
      ]
     },
     "execution_count": 51,
     "metadata": {},
     "output_type": "execute_result"
    }
   ],
   "source": [
    "# Matt_Andriese https://www.baseball-reference.com/players/a/andrima01.shtml\n",
    "\n",
    "Matt_Andriese = requests.get('https://www.baseball-reference.com/players/a/andrima01.shtml')\n",
    "soup = BeautifulSoup(Matt_Andriese.text, 'html.parser')\n",
    "\n",
    "\n",
    "table = []\n",
    "for item in soup.find_all(text=lambda text:isinstance(text, Comment)):\n",
    "    data = BeautifulSoup(item,\"html.parser\")\n",
    "    for tr in data.find_all(\"tr\"):\n",
    "         table.append(tr.find_all(text=True))\n",
    "     \n",
    "Q = {'Matt Andriese': 'NaN'}\n",
    "Q\n",
    "\n",
    "\n",
    "A.update(Q)\n",
    "A"
   ]
  },
  {
   "cell_type": "code",
   "execution_count": 52,
   "id": "combined-drawing",
   "metadata": {
    "scrolled": true
   },
   "outputs": [
    {
     "data": {
      "text/html": [
       "<div>\n",
       "<style scoped>\n",
       "    .dataframe tbody tr th:only-of-type {\n",
       "        vertical-align: middle;\n",
       "    }\n",
       "\n",
       "    .dataframe tbody tr th {\n",
       "        vertical-align: top;\n",
       "    }\n",
       "\n",
       "    .dataframe thead th {\n",
       "        text-align: right;\n",
       "    }\n",
       "</style>\n",
       "<table border=\"1\" class=\"dataframe\">\n",
       "  <thead>\n",
       "    <tr style=\"text-align: right;\">\n",
       "      <th></th>\n",
       "      <th>2020_salary</th>\n",
       "    </tr>\n",
       "  </thead>\n",
       "  <tbody>\n",
       "    <tr>\n",
       "      <th>Eduardo Rodriguez</th>\n",
       "      <td>$8,300,000</td>\n",
       "    </tr>\n",
       "    <tr>\n",
       "      <th>Adam Ottavino</th>\n",
       "      <td>$9,000,000</td>\n",
       "    </tr>\n",
       "    <tr>\n",
       "      <th>Martin Perez</th>\n",
       "      <td>$6,000,000</td>\n",
       "    </tr>\n",
       "    <tr>\n",
       "      <th>Nick Pivetta</th>\n",
       "      <td>$1,149,000</td>\n",
       "    </tr>\n",
       "    <tr>\n",
       "      <th>Darwinzon Hernandez</th>\n",
       "      <td>NaN</td>\n",
       "    </tr>\n",
       "    <tr>\n",
       "      <th>Garrett Whitlock</th>\n",
       "      <td>NaN</td>\n",
       "    </tr>\n",
       "    <tr>\n",
       "      <th>Nathan Eovaldi</th>\n",
       "      <td>$17,000,000</td>\n",
       "    </tr>\n",
       "    <tr>\n",
       "      <th>Garrett Richards</th>\n",
       "      <td>NaN</td>\n",
       "    </tr>\n",
       "    <tr>\n",
       "      <th>Austin Brice</th>\n",
       "      <td>NaN</td>\n",
       "    </tr>\n",
       "    <tr>\n",
       "      <th>Ryan Brasier</th>\n",
       "      <td>NaN</td>\n",
       "    </tr>\n",
       "    <tr>\n",
       "      <th>Hirokazu Sawamura</th>\n",
       "      <td>NaN</td>\n",
       "    </tr>\n",
       "    <tr>\n",
       "      <th>Josh Taylor</th>\n",
       "      <td>NaN</td>\n",
       "    </tr>\n",
       "    <tr>\n",
       "      <th>JD Martinez</th>\n",
       "      <td>$23,750,000</td>\n",
       "    </tr>\n",
       "    <tr>\n",
       "      <th>Matt Barnes</th>\n",
       "      <td>$3,100,000</td>\n",
       "    </tr>\n",
       "    <tr>\n",
       "      <th>Phillips Valdez</th>\n",
       "      <td>NaN</td>\n",
       "    </tr>\n",
       "    <tr>\n",
       "      <th>Matt Andriese</th>\n",
       "      <td>NaN</td>\n",
       "    </tr>\n",
       "  </tbody>\n",
       "</table>\n",
       "</div>"
      ],
      "text/plain": [
       "                     2020_salary\n",
       "Eduardo Rodriguez     $8,300,000\n",
       "Adam Ottavino         $9,000,000\n",
       "Martin Perez          $6,000,000\n",
       "Nick Pivetta          $1,149,000\n",
       "Darwinzon Hernandez          NaN\n",
       "Garrett Whitlock             NaN\n",
       "Nathan Eovaldi       $17,000,000\n",
       "Garrett Richards             NaN\n",
       "Austin Brice                 NaN\n",
       "Ryan Brasier                 NaN\n",
       "Hirokazu Sawamura            NaN\n",
       "Josh Taylor                  NaN\n",
       "JD Martinez          $23,750,000\n",
       "Matt Barnes           $3,100,000\n",
       "Phillips Valdez              NaN\n",
       "Matt Andriese                NaN"
      ]
     },
     "execution_count": 52,
     "metadata": {},
     "output_type": "execute_result"
    }
   ],
   "source": [
    "df2 = pd.DataFrame.from_dict(A, orient='index')\n",
    "df2.rename(columns={0:\"2020_salary\"}, inplace=True)\n",
    "df2\n"
   ]
  },
  {
   "cell_type": "code",
   "execution_count": 53,
   "id": "interior-roads",
   "metadata": {},
   "outputs": [
    {
     "name": "stderr",
     "output_type": "stream",
     "text": [
      "<ipython-input-53-7349fb8a7012>:1: FutureWarning: The default value of regex will change from True to False in a future version. In addition, single character regular expressions will*not* be treated as literal strings when regex=True.\n",
      "  df2['2020_salary'] = df2['2020_salary'].str.replace('$', '').str.replace(',','')\n"
     ]
    },
    {
     "data": {
      "text/html": [
       "<div>\n",
       "<style scoped>\n",
       "    .dataframe tbody tr th:only-of-type {\n",
       "        vertical-align: middle;\n",
       "    }\n",
       "\n",
       "    .dataframe tbody tr th {\n",
       "        vertical-align: top;\n",
       "    }\n",
       "\n",
       "    .dataframe thead th {\n",
       "        text-align: right;\n",
       "    }\n",
       "</style>\n",
       "<table border=\"1\" class=\"dataframe\">\n",
       "  <thead>\n",
       "    <tr style=\"text-align: right;\">\n",
       "      <th></th>\n",
       "      <th>2020_salary</th>\n",
       "    </tr>\n",
       "  </thead>\n",
       "  <tbody>\n",
       "    <tr>\n",
       "      <th>Eduardo Rodriguez</th>\n",
       "      <td>8300000</td>\n",
       "    </tr>\n",
       "    <tr>\n",
       "      <th>Adam Ottavino</th>\n",
       "      <td>9000000</td>\n",
       "    </tr>\n",
       "    <tr>\n",
       "      <th>Martin Perez</th>\n",
       "      <td>6000000</td>\n",
       "    </tr>\n",
       "    <tr>\n",
       "      <th>Nick Pivetta</th>\n",
       "      <td>1149000</td>\n",
       "    </tr>\n",
       "    <tr>\n",
       "      <th>Darwinzon Hernandez</th>\n",
       "      <td>NaN</td>\n",
       "    </tr>\n",
       "    <tr>\n",
       "      <th>Garrett Whitlock</th>\n",
       "      <td>NaN</td>\n",
       "    </tr>\n",
       "    <tr>\n",
       "      <th>Nathan Eovaldi</th>\n",
       "      <td>17000000</td>\n",
       "    </tr>\n",
       "    <tr>\n",
       "      <th>Garrett Richards</th>\n",
       "      <td>NaN</td>\n",
       "    </tr>\n",
       "    <tr>\n",
       "      <th>Austin Brice</th>\n",
       "      <td>NaN</td>\n",
       "    </tr>\n",
       "    <tr>\n",
       "      <th>Ryan Brasier</th>\n",
       "      <td>NaN</td>\n",
       "    </tr>\n",
       "    <tr>\n",
       "      <th>Hirokazu Sawamura</th>\n",
       "      <td>NaN</td>\n",
       "    </tr>\n",
       "    <tr>\n",
       "      <th>Josh Taylor</th>\n",
       "      <td>NaN</td>\n",
       "    </tr>\n",
       "    <tr>\n",
       "      <th>JD Martinez</th>\n",
       "      <td>23750000</td>\n",
       "    </tr>\n",
       "    <tr>\n",
       "      <th>Matt Barnes</th>\n",
       "      <td>3100000</td>\n",
       "    </tr>\n",
       "    <tr>\n",
       "      <th>Phillips Valdez</th>\n",
       "      <td>NaN</td>\n",
       "    </tr>\n",
       "    <tr>\n",
       "      <th>Matt Andriese</th>\n",
       "      <td>NaN</td>\n",
       "    </tr>\n",
       "  </tbody>\n",
       "</table>\n",
       "</div>"
      ],
      "text/plain": [
       "                    2020_salary\n",
       "Eduardo Rodriguez       8300000\n",
       "Adam Ottavino           9000000\n",
       "Martin Perez            6000000\n",
       "Nick Pivetta            1149000\n",
       "Darwinzon Hernandez         NaN\n",
       "Garrett Whitlock            NaN\n",
       "Nathan Eovaldi         17000000\n",
       "Garrett Richards            NaN\n",
       "Austin Brice                NaN\n",
       "Ryan Brasier                NaN\n",
       "Hirokazu Sawamura           NaN\n",
       "Josh Taylor                 NaN\n",
       "JD Martinez            23750000\n",
       "Matt Barnes             3100000\n",
       "Phillips Valdez             NaN\n",
       "Matt Andriese               NaN"
      ]
     },
     "execution_count": 53,
     "metadata": {},
     "output_type": "execute_result"
    }
   ],
   "source": [
    "df2['2020_salary'] = df2['2020_salary'].str.replace('$', '').str.replace(',','')\n",
    "df2"
   ]
  },
  {
   "cell_type": "code",
   "execution_count": 59,
   "id": "unexpected-times",
   "metadata": {},
   "outputs": [
    {
     "data": {
      "text/html": [
       "<div>\n",
       "<style scoped>\n",
       "    .dataframe tbody tr th:only-of-type {\n",
       "        vertical-align: middle;\n",
       "    }\n",
       "\n",
       "    .dataframe tbody tr th {\n",
       "        vertical-align: top;\n",
       "    }\n",
       "\n",
       "    .dataframe thead th {\n",
       "        text-align: right;\n",
       "    }\n",
       "</style>\n",
       "<table border=\"1\" class=\"dataframe\">\n",
       "  <thead>\n",
       "    <tr style=\"text-align: right;\">\n",
       "      <th></th>\n",
       "      <th>2020_salary</th>\n",
       "    </tr>\n",
       "  </thead>\n",
       "  <tbody>\n",
       "    <tr>\n",
       "      <th>Eduardo Rodriguez</th>\n",
       "      <td>8300000.0</td>\n",
       "    </tr>\n",
       "    <tr>\n",
       "      <th>Adam Ottavino</th>\n",
       "      <td>9000000.0</td>\n",
       "    </tr>\n",
       "    <tr>\n",
       "      <th>Martin Perez</th>\n",
       "      <td>6000000.0</td>\n",
       "    </tr>\n",
       "    <tr>\n",
       "      <th>Nick Pivetta</th>\n",
       "      <td>1149000.0</td>\n",
       "    </tr>\n",
       "    <tr>\n",
       "      <th>Darwinzon Hernandez</th>\n",
       "      <td>0.0</td>\n",
       "    </tr>\n",
       "    <tr>\n",
       "      <th>Garrett Whitlock</th>\n",
       "      <td>0.0</td>\n",
       "    </tr>\n",
       "    <tr>\n",
       "      <th>Nathan Eovaldi</th>\n",
       "      <td>17000000.0</td>\n",
       "    </tr>\n",
       "    <tr>\n",
       "      <th>Garrett Richards</th>\n",
       "      <td>0.0</td>\n",
       "    </tr>\n",
       "    <tr>\n",
       "      <th>Austin Brice</th>\n",
       "      <td>0.0</td>\n",
       "    </tr>\n",
       "    <tr>\n",
       "      <th>Ryan Brasier</th>\n",
       "      <td>0.0</td>\n",
       "    </tr>\n",
       "    <tr>\n",
       "      <th>Hirokazu Sawamura</th>\n",
       "      <td>0.0</td>\n",
       "    </tr>\n",
       "    <tr>\n",
       "      <th>Josh Taylor</th>\n",
       "      <td>0.0</td>\n",
       "    </tr>\n",
       "    <tr>\n",
       "      <th>JD Martinez</th>\n",
       "      <td>23750000.0</td>\n",
       "    </tr>\n",
       "    <tr>\n",
       "      <th>Matt Barnes</th>\n",
       "      <td>3100000.0</td>\n",
       "    </tr>\n",
       "    <tr>\n",
       "      <th>Phillips Valdez</th>\n",
       "      <td>0.0</td>\n",
       "    </tr>\n",
       "    <tr>\n",
       "      <th>Matt Andriese</th>\n",
       "      <td>0.0</td>\n",
       "    </tr>\n",
       "  </tbody>\n",
       "</table>\n",
       "</div>"
      ],
      "text/plain": [
       "                     2020_salary\n",
       "Eduardo Rodriguez      8300000.0\n",
       "Adam Ottavino          9000000.0\n",
       "Martin Perez           6000000.0\n",
       "Nick Pivetta           1149000.0\n",
       "Darwinzon Hernandez          0.0\n",
       "Garrett Whitlock             0.0\n",
       "Nathan Eovaldi        17000000.0\n",
       "Garrett Richards             0.0\n",
       "Austin Brice                 0.0\n",
       "Ryan Brasier                 0.0\n",
       "Hirokazu Sawamura            0.0\n",
       "Josh Taylor                  0.0\n",
       "JD Martinez           23750000.0\n",
       "Matt Barnes            3100000.0\n",
       "Phillips Valdez              0.0\n",
       "Matt Andriese                0.0"
      ]
     },
     "execution_count": 59,
     "metadata": {},
     "output_type": "execute_result"
    }
   ],
   "source": [
    "df2.fillna(0, inplace=True)\n",
    "df2"
   ]
  },
  {
   "cell_type": "code",
   "execution_count": 60,
   "id": "future-globe",
   "metadata": {},
   "outputs": [
    {
     "data": {
      "text/html": [
       "<div>\n",
       "<style scoped>\n",
       "    .dataframe tbody tr th:only-of-type {\n",
       "        vertical-align: middle;\n",
       "    }\n",
       "\n",
       "    .dataframe tbody tr th {\n",
       "        vertical-align: top;\n",
       "    }\n",
       "\n",
       "    .dataframe thead th {\n",
       "        text-align: right;\n",
       "    }\n",
       "</style>\n",
       "<table border=\"1\" class=\"dataframe\">\n",
       "  <thead>\n",
       "    <tr style=\"text-align: right;\">\n",
       "      <th></th>\n",
       "      <th>2020_salary</th>\n",
       "    </tr>\n",
       "  </thead>\n",
       "  <tbody>\n",
       "    <tr>\n",
       "      <th>Eduardo Rodriguez</th>\n",
       "      <td>8300000.0</td>\n",
       "    </tr>\n",
       "    <tr>\n",
       "      <th>Adam Ottavino</th>\n",
       "      <td>9000000.0</td>\n",
       "    </tr>\n",
       "    <tr>\n",
       "      <th>Martin Perez</th>\n",
       "      <td>6000000.0</td>\n",
       "    </tr>\n",
       "    <tr>\n",
       "      <th>Nick Pivetta</th>\n",
       "      <td>1149000.0</td>\n",
       "    </tr>\n",
       "    <tr>\n",
       "      <th>Darwinzon Hernandez</th>\n",
       "      <td>0.0</td>\n",
       "    </tr>\n",
       "    <tr>\n",
       "      <th>Garrett Whitlock</th>\n",
       "      <td>0.0</td>\n",
       "    </tr>\n",
       "    <tr>\n",
       "      <th>Nathan Eovaldi</th>\n",
       "      <td>17000000.0</td>\n",
       "    </tr>\n",
       "    <tr>\n",
       "      <th>Garrett Richards</th>\n",
       "      <td>0.0</td>\n",
       "    </tr>\n",
       "    <tr>\n",
       "      <th>Austin Brice</th>\n",
       "      <td>0.0</td>\n",
       "    </tr>\n",
       "    <tr>\n",
       "      <th>Ryan Brasier</th>\n",
       "      <td>0.0</td>\n",
       "    </tr>\n",
       "    <tr>\n",
       "      <th>Hirokazu Sawamura</th>\n",
       "      <td>0.0</td>\n",
       "    </tr>\n",
       "    <tr>\n",
       "      <th>Josh Taylor</th>\n",
       "      <td>0.0</td>\n",
       "    </tr>\n",
       "    <tr>\n",
       "      <th>JD Martinez</th>\n",
       "      <td>23750000.0</td>\n",
       "    </tr>\n",
       "    <tr>\n",
       "      <th>Matt Barnes</th>\n",
       "      <td>3100000.0</td>\n",
       "    </tr>\n",
       "    <tr>\n",
       "      <th>Phillips Valdez</th>\n",
       "      <td>0.0</td>\n",
       "    </tr>\n",
       "    <tr>\n",
       "      <th>Matt Andriese</th>\n",
       "      <td>0.0</td>\n",
       "    </tr>\n",
       "  </tbody>\n",
       "</table>\n",
       "</div>"
      ],
      "text/plain": [
       "                     2020_salary\n",
       "Eduardo Rodriguez      8300000.0\n",
       "Adam Ottavino          9000000.0\n",
       "Martin Perez           6000000.0\n",
       "Nick Pivetta           1149000.0\n",
       "Darwinzon Hernandez          0.0\n",
       "Garrett Whitlock             0.0\n",
       "Nathan Eovaldi        17000000.0\n",
       "Garrett Richards             0.0\n",
       "Austin Brice                 0.0\n",
       "Ryan Brasier                 0.0\n",
       "Hirokazu Sawamura            0.0\n",
       "Josh Taylor                  0.0\n",
       "JD Martinez           23750000.0\n",
       "Matt Barnes            3100000.0\n",
       "Phillips Valdez              0.0\n",
       "Matt Andriese                0.0"
      ]
     },
     "execution_count": 60,
     "metadata": {},
     "output_type": "execute_result"
    }
   ],
   "source": [
    "df2['2020_salary'] = df2['2020_salary'].astype(float)\n",
    "df2"
   ]
  },
  {
   "cell_type": "code",
   "execution_count": 61,
   "id": "republican-ladder",
   "metadata": {},
   "outputs": [],
   "source": [
    "df2.to_csv('salary.csv')"
   ]
  },
  {
   "cell_type": "code",
   "execution_count": 62,
   "id": "legal-thesis",
   "metadata": {},
   "outputs": [
    {
     "ename": "NameError",
     "evalue": "name 'df' is not defined",
     "output_type": "error",
     "traceback": [
      "\u001b[0;31m---------------------------------------------------------------------------\u001b[0m",
      "\u001b[0;31mNameError\u001b[0m                                 Traceback (most recent call last)",
      "\u001b[0;32m<ipython-input-62-e39cb0a273cb>\u001b[0m in \u001b[0;36m<module>\u001b[0;34m\u001b[0m\n\u001b[0;32m----> 1\u001b[0;31m \u001b[0mdf\u001b[0m\u001b[0;34m.\u001b[0m\u001b[0mDataFrame\u001b[0m\u001b[0;34m.\u001b[0m\u001b[0mmerge\u001b[0m\u001b[0;34m(\u001b[0m\u001b[0mdf2\u001b[0m\u001b[0;34m,\u001b[0m \u001b[0mhow\u001b[0m\u001b[0;34m=\u001b[0m\u001b[0;34m\"outer\"\u001b[0m\u001b[0;34m,\u001b[0m \u001b[0mon\u001b[0m\u001b[0;34m=\u001b[0m\u001b[0;34m\"Name\"\u001b[0m\u001b[0;34m)\u001b[0m\u001b[0;34m\u001b[0m\u001b[0;34m\u001b[0m\u001b[0m\n\u001b[0m",
      "\u001b[0;31mNameError\u001b[0m: name 'df' is not defined"
     ]
    }
   ],
   "source": [
    "df.DataFrame.merge(df2, how=\"outer\", on=\"Name\")"
   ]
  },
  {
   "cell_type": "code",
   "execution_count": null,
   "id": "brazilian-lightweight",
   "metadata": {},
   "outputs": [],
   "source": []
  }
 ],
 "metadata": {
  "kernelspec": {
   "display_name": "Python 3",
   "language": "python",
   "name": "python3"
  },
  "language_info": {
   "codemirror_mode": {
    "name": "ipython",
    "version": 3
   },
   "file_extension": ".py",
   "mimetype": "text/x-python",
   "name": "python",
   "nbconvert_exporter": "python",
   "pygments_lexer": "ipython3",
   "version": "3.9.1"
  }
 },
 "nbformat": 4,
 "nbformat_minor": 5
}
